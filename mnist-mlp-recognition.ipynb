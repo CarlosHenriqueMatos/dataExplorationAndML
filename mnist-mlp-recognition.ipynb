{
 "cells": [
  {
   "cell_type": "code",
   "execution_count": 1,
   "id": "40a57ae6",
   "metadata": {
    "_cell_guid": "b1076dfc-b9ad-4769-8c92-a6c4dae69d19",
    "_uuid": "8f2839f25d086af736a60e9eeb907d3b93b6e0e5",
    "execution": {
     "iopub.execute_input": "2024-12-13T21:36:26.254768Z",
     "iopub.status.busy": "2024-12-13T21:36:26.254215Z",
     "iopub.status.idle": "2024-12-13T21:36:27.240159Z",
     "shell.execute_reply": "2024-12-13T21:36:27.239052Z"
    },
    "papermill": {
     "duration": 0.993513,
     "end_time": "2024-12-13T21:36:27.242351",
     "exception": false,
     "start_time": "2024-12-13T21:36:26.248838",
     "status": "completed"
    },
    "tags": []
   },
   "outputs": [
    {
     "name": "stdout",
     "output_type": "stream",
     "text": [
      "/kaggle/input/digit-recognizer/sample_submission.csv\n",
      "/kaggle/input/digit-recognizer/train.csv\n",
      "/kaggle/input/digit-recognizer/test.csv\n"
     ]
    }
   ],
   "source": [
    "# This Python 3 environment comes with many helpful analytics libraries installed\n",
    "# It is defined by the kaggle/python Docker image: https://github.com/kaggle/docker-python\n",
    "# For example, here's several helpful packages to load\n",
    "\n",
    "import numpy as np # linear algebra\n",
    "import pandas as pd # data processing, CSV file I/O (e.g. pd.read_csv)\n",
    "\n",
    "# Input data files are available in the read-only \"../input/\" directory\n",
    "# For example, running this (by clicking run or pressing Shift+Enter) will list all files under the input directory\n",
    "\n",
    "import os\n",
    "for dirname, _, filenames in os.walk('/kaggle/input'):\n",
    "    for filename in filenames:\n",
    "        print(os.path.join(dirname, filename))\n",
    "\n",
    "# You can write up to 20GB to the current directory (/kaggle/working/) that gets preserved as output when you create a version using \"Save & Run All\" \n",
    "# You can also write temporary files to /kaggle/temp/, but they won't be saved outside of the current session"
   ]
  },
  {
   "cell_type": "code",
   "execution_count": 2,
   "id": "4cda4262",
   "metadata": {
    "execution": {
     "iopub.execute_input": "2024-12-13T21:36:27.250746Z",
     "iopub.status.busy": "2024-12-13T21:36:27.250197Z",
     "iopub.status.idle": "2024-12-13T21:36:28.773307Z",
     "shell.execute_reply": "2024-12-13T21:36:28.772073Z"
    },
    "papermill": {
     "duration": 1.530147,
     "end_time": "2024-12-13T21:36:28.775976",
     "exception": false,
     "start_time": "2024-12-13T21:36:27.245829",
     "status": "completed"
    },
    "tags": []
   },
   "outputs": [],
   "source": [
    "from sklearn.metrics import accuracy_score\n",
    "from sklearn.metrics import confusion_matrix, classification_report, ConfusionMatrixDisplay"
   ]
  },
  {
   "cell_type": "code",
   "execution_count": 3,
   "id": "c52cb002",
   "metadata": {
    "execution": {
     "iopub.execute_input": "2024-12-13T21:36:28.784096Z",
     "iopub.status.busy": "2024-12-13T21:36:28.783529Z",
     "iopub.status.idle": "2024-12-13T21:36:34.133050Z",
     "shell.execute_reply": "2024-12-13T21:36:34.131990Z"
    },
    "papermill": {
     "duration": 5.356037,
     "end_time": "2024-12-13T21:36:34.135222",
     "exception": false,
     "start_time": "2024-12-13T21:36:28.779185",
     "status": "completed"
    },
    "tags": []
   },
   "outputs": [
    {
     "data": {
      "text/html": [
       "<div>\n",
       "<style scoped>\n",
       "    .dataframe tbody tr th:only-of-type {\n",
       "        vertical-align: middle;\n",
       "    }\n",
       "\n",
       "    .dataframe tbody tr th {\n",
       "        vertical-align: top;\n",
       "    }\n",
       "\n",
       "    .dataframe thead th {\n",
       "        text-align: right;\n",
       "    }\n",
       "</style>\n",
       "<table border=\"1\" class=\"dataframe\">\n",
       "  <thead>\n",
       "    <tr style=\"text-align: right;\">\n",
       "      <th></th>\n",
       "      <th>label</th>\n",
       "      <th>pixel0</th>\n",
       "      <th>pixel1</th>\n",
       "      <th>pixel2</th>\n",
       "      <th>pixel3</th>\n",
       "      <th>pixel4</th>\n",
       "      <th>pixel5</th>\n",
       "      <th>pixel6</th>\n",
       "      <th>pixel7</th>\n",
       "      <th>pixel8</th>\n",
       "      <th>...</th>\n",
       "      <th>pixel774</th>\n",
       "      <th>pixel775</th>\n",
       "      <th>pixel776</th>\n",
       "      <th>pixel777</th>\n",
       "      <th>pixel778</th>\n",
       "      <th>pixel779</th>\n",
       "      <th>pixel780</th>\n",
       "      <th>pixel781</th>\n",
       "      <th>pixel782</th>\n",
       "      <th>pixel783</th>\n",
       "    </tr>\n",
       "  </thead>\n",
       "  <tbody>\n",
       "    <tr>\n",
       "      <th>0</th>\n",
       "      <td>1</td>\n",
       "      <td>0</td>\n",
       "      <td>0</td>\n",
       "      <td>0</td>\n",
       "      <td>0</td>\n",
       "      <td>0</td>\n",
       "      <td>0</td>\n",
       "      <td>0</td>\n",
       "      <td>0</td>\n",
       "      <td>0</td>\n",
       "      <td>...</td>\n",
       "      <td>0</td>\n",
       "      <td>0</td>\n",
       "      <td>0</td>\n",
       "      <td>0</td>\n",
       "      <td>0</td>\n",
       "      <td>0</td>\n",
       "      <td>0</td>\n",
       "      <td>0</td>\n",
       "      <td>0</td>\n",
       "      <td>0</td>\n",
       "    </tr>\n",
       "    <tr>\n",
       "      <th>1</th>\n",
       "      <td>0</td>\n",
       "      <td>0</td>\n",
       "      <td>0</td>\n",
       "      <td>0</td>\n",
       "      <td>0</td>\n",
       "      <td>0</td>\n",
       "      <td>0</td>\n",
       "      <td>0</td>\n",
       "      <td>0</td>\n",
       "      <td>0</td>\n",
       "      <td>...</td>\n",
       "      <td>0</td>\n",
       "      <td>0</td>\n",
       "      <td>0</td>\n",
       "      <td>0</td>\n",
       "      <td>0</td>\n",
       "      <td>0</td>\n",
       "      <td>0</td>\n",
       "      <td>0</td>\n",
       "      <td>0</td>\n",
       "      <td>0</td>\n",
       "    </tr>\n",
       "    <tr>\n",
       "      <th>2</th>\n",
       "      <td>1</td>\n",
       "      <td>0</td>\n",
       "      <td>0</td>\n",
       "      <td>0</td>\n",
       "      <td>0</td>\n",
       "      <td>0</td>\n",
       "      <td>0</td>\n",
       "      <td>0</td>\n",
       "      <td>0</td>\n",
       "      <td>0</td>\n",
       "      <td>...</td>\n",
       "      <td>0</td>\n",
       "      <td>0</td>\n",
       "      <td>0</td>\n",
       "      <td>0</td>\n",
       "      <td>0</td>\n",
       "      <td>0</td>\n",
       "      <td>0</td>\n",
       "      <td>0</td>\n",
       "      <td>0</td>\n",
       "      <td>0</td>\n",
       "    </tr>\n",
       "    <tr>\n",
       "      <th>3</th>\n",
       "      <td>4</td>\n",
       "      <td>0</td>\n",
       "      <td>0</td>\n",
       "      <td>0</td>\n",
       "      <td>0</td>\n",
       "      <td>0</td>\n",
       "      <td>0</td>\n",
       "      <td>0</td>\n",
       "      <td>0</td>\n",
       "      <td>0</td>\n",
       "      <td>...</td>\n",
       "      <td>0</td>\n",
       "      <td>0</td>\n",
       "      <td>0</td>\n",
       "      <td>0</td>\n",
       "      <td>0</td>\n",
       "      <td>0</td>\n",
       "      <td>0</td>\n",
       "      <td>0</td>\n",
       "      <td>0</td>\n",
       "      <td>0</td>\n",
       "    </tr>\n",
       "    <tr>\n",
       "      <th>4</th>\n",
       "      <td>0</td>\n",
       "      <td>0</td>\n",
       "      <td>0</td>\n",
       "      <td>0</td>\n",
       "      <td>0</td>\n",
       "      <td>0</td>\n",
       "      <td>0</td>\n",
       "      <td>0</td>\n",
       "      <td>0</td>\n",
       "      <td>0</td>\n",
       "      <td>...</td>\n",
       "      <td>0</td>\n",
       "      <td>0</td>\n",
       "      <td>0</td>\n",
       "      <td>0</td>\n",
       "      <td>0</td>\n",
       "      <td>0</td>\n",
       "      <td>0</td>\n",
       "      <td>0</td>\n",
       "      <td>0</td>\n",
       "      <td>0</td>\n",
       "    </tr>\n",
       "  </tbody>\n",
       "</table>\n",
       "<p>5 rows × 785 columns</p>\n",
       "</div>"
      ],
      "text/plain": [
       "   label  pixel0  pixel1  pixel2  pixel3  pixel4  pixel5  pixel6  pixel7  \\\n",
       "0      1       0       0       0       0       0       0       0       0   \n",
       "1      0       0       0       0       0       0       0       0       0   \n",
       "2      1       0       0       0       0       0       0       0       0   \n",
       "3      4       0       0       0       0       0       0       0       0   \n",
       "4      0       0       0       0       0       0       0       0       0   \n",
       "\n",
       "   pixel8  ...  pixel774  pixel775  pixel776  pixel777  pixel778  pixel779  \\\n",
       "0       0  ...         0         0         0         0         0         0   \n",
       "1       0  ...         0         0         0         0         0         0   \n",
       "2       0  ...         0         0         0         0         0         0   \n",
       "3       0  ...         0         0         0         0         0         0   \n",
       "4       0  ...         0         0         0         0         0         0   \n",
       "\n",
       "   pixel780  pixel781  pixel782  pixel783  \n",
       "0         0         0         0         0  \n",
       "1         0         0         0         0  \n",
       "2         0         0         0         0  \n",
       "3         0         0         0         0  \n",
       "4         0         0         0         0  \n",
       "\n",
       "[5 rows x 785 columns]"
      ]
     },
     "execution_count": 3,
     "metadata": {},
     "output_type": "execute_result"
    }
   ],
   "source": [
    "originalTrainData = pd.read_csv('/kaggle/input/digit-recognizer/train.csv')\n",
    "originalTestData = pd.read_csv('/kaggle/input/digit-recognizer/test.csv')\n",
    "originalTrainData.head(5)"
   ]
  },
  {
   "cell_type": "code",
   "execution_count": 4,
   "id": "2387f043",
   "metadata": {
    "execution": {
     "iopub.execute_input": "2024-12-13T21:36:34.144128Z",
     "iopub.status.busy": "2024-12-13T21:36:34.143762Z",
     "iopub.status.idle": "2024-12-13T21:36:34.257918Z",
     "shell.execute_reply": "2024-12-13T21:36:34.256886Z"
    },
    "papermill": {
     "duration": 0.12177,
     "end_time": "2024-12-13T21:36:34.260518",
     "exception": false,
     "start_time": "2024-12-13T21:36:34.138748",
     "status": "completed"
    },
    "tags": []
   },
   "outputs": [],
   "source": [
    "X = originalTrainData.drop(columns=\"label\")"
   ]
  },
  {
   "cell_type": "code",
   "execution_count": 5,
   "id": "096299c8",
   "metadata": {
    "execution": {
     "iopub.execute_input": "2024-12-13T21:36:34.269540Z",
     "iopub.status.busy": "2024-12-13T21:36:34.269107Z",
     "iopub.status.idle": "2024-12-13T21:36:34.274329Z",
     "shell.execute_reply": "2024-12-13T21:36:34.273279Z"
    },
    "papermill": {
     "duration": 0.011812,
     "end_time": "2024-12-13T21:36:34.276357",
     "exception": false,
     "start_time": "2024-12-13T21:36:34.264545",
     "status": "completed"
    },
    "tags": []
   },
   "outputs": [],
   "source": [
    "y = originalTrainData['label']"
   ]
  },
  {
   "cell_type": "code",
   "execution_count": 6,
   "id": "7ac4356e",
   "metadata": {
    "execution": {
     "iopub.execute_input": "2024-12-13T21:36:34.285245Z",
     "iopub.status.busy": "2024-12-13T21:36:34.284531Z",
     "iopub.status.idle": "2024-12-13T21:36:34.293670Z",
     "shell.execute_reply": "2024-12-13T21:36:34.292503Z"
    },
    "papermill": {
     "duration": 0.015928,
     "end_time": "2024-12-13T21:36:34.295849",
     "exception": false,
     "start_time": "2024-12-13T21:36:34.279921",
     "status": "completed"
    },
    "tags": []
   },
   "outputs": [
    {
     "data": {
      "text/plain": [
       "0        1\n",
       "1        0\n",
       "2        1\n",
       "3        4\n",
       "4        0\n",
       "        ..\n",
       "41995    0\n",
       "41996    1\n",
       "41997    7\n",
       "41998    6\n",
       "41999    9\n",
       "Name: label, Length: 42000, dtype: int64"
      ]
     },
     "execution_count": 6,
     "metadata": {},
     "output_type": "execute_result"
    }
   ],
   "source": [
    "y"
   ]
  },
  {
   "cell_type": "code",
   "execution_count": 7,
   "id": "6cffd06a",
   "metadata": {
    "execution": {
     "iopub.execute_input": "2024-12-13T21:36:34.304893Z",
     "iopub.status.busy": "2024-12-13T21:36:34.304421Z",
     "iopub.status.idle": "2024-12-13T21:36:34.563052Z",
     "shell.execute_reply": "2024-12-13T21:36:34.561783Z"
    },
    "papermill": {
     "duration": 0.265728,
     "end_time": "2024-12-13T21:36:34.565316",
     "exception": false,
     "start_time": "2024-12-13T21:36:34.299588",
     "status": "completed"
    },
    "tags": []
   },
   "outputs": [
    {
     "name": "stdout",
     "output_type": "stream",
     "text": [
      "Train set size: 35700\n",
      "Test set size: 6300\n"
     ]
    }
   ],
   "source": [
    "from sklearn.model_selection import train_test_split\n",
    "\n",
    "# Convert labels from string to integer\n",
    "y = y.astype(int)\n",
    "\n",
    "# Set the random seed for reproducibility\n",
    "np.random.seed(22)\n",
    "\n",
    "# TODO: Split the dataset into train and and test sets #################\n",
    "X_train, X_test, y_train, y_test = train_test_split(X, y, test_size = 0.15)\n",
    "########################################################################\n",
    "\n",
    "assert X_train is not None, \"X_train is not set\"\n",
    "assert y_train is not None, \"y_train is not set\"\n",
    "assert X_test is not None, \"X_test is not set\"\n",
    "assert y_test is not None, \"y_test is not set\"\n",
    "\n",
    "print(f\"Train set size: {len(X_train)}\")\n",
    "print(f\"Test set size: {len(X_test)}\")"
   ]
  },
  {
   "cell_type": "code",
   "execution_count": 8,
   "id": "36ad8f0f",
   "metadata": {
    "execution": {
     "iopub.execute_input": "2024-12-13T21:36:34.575451Z",
     "iopub.status.busy": "2024-12-13T21:36:34.575075Z",
     "iopub.status.idle": "2024-12-13T21:57:26.996571Z",
     "shell.execute_reply": "2024-12-13T21:57:26.994652Z"
    },
    "papermill": {
     "duration": 1252.431359,
     "end_time": "2024-12-13T21:57:27.000293",
     "exception": false,
     "start_time": "2024-12-13T21:36:34.568934",
     "status": "completed"
    },
    "tags": []
   },
   "outputs": [
    {
     "name": "stdout",
     "output_type": "stream",
     "text": [
      "Iteration 1, loss = 2.44198780\n",
      "Validation score: 0.921429\n",
      "Iteration 2, loss = 0.57032623\n",
      "Validation score: 0.922969\n",
      "Iteration 3, loss = 0.42427184\n",
      "Validation score: 0.921429\n",
      "Iteration 4, loss = 0.37424514\n",
      "Validation score: 0.931653\n",
      "Iteration 5, loss = 0.34267695\n",
      "Validation score: 0.926891\n",
      "Iteration 6, loss = 0.31522079\n",
      "Validation score: 0.938796\n",
      "Iteration 7, loss = 0.27307671\n",
      "Validation score: 0.929412\n",
      "Iteration 8, loss = 0.27352869\n",
      "Validation score: 0.937535\n",
      "Iteration 9, loss = 0.25882563\n",
      "Validation score: 0.938375\n",
      "Iteration 10, loss = 0.23666581\n",
      "Validation score: 0.944678\n",
      "Iteration 11, loss = 0.21798380\n",
      "Validation score: 0.935014\n",
      "Iteration 12, loss = 0.25673137\n",
      "Validation score: 0.942297\n",
      "Iteration 13, loss = 0.21064016\n",
      "Validation score: 0.942577\n",
      "Iteration 14, loss = 0.19347781\n",
      "Validation score: 0.945938\n",
      "Iteration 15, loss = 0.20171341\n",
      "Validation score: 0.943978\n",
      "Iteration 16, loss = 0.18863600\n",
      "Validation score: 0.948599\n",
      "Iteration 17, loss = 0.17262550\n",
      "Validation score: 0.949020\n",
      "Iteration 18, loss = 0.17517229\n",
      "Validation score: 0.951541\n",
      "Iteration 19, loss = 0.17135548\n",
      "Validation score: 0.946639\n",
      "Iteration 20, loss = 0.16043436\n",
      "Validation score: 0.953081\n",
      "Iteration 21, loss = 0.15969666\n",
      "Validation score: 0.949580\n",
      "Iteration 22, loss = 0.17216532\n",
      "Validation score: 0.947339\n",
      "Iteration 23, loss = 0.17086668\n",
      "Validation score: 0.951821\n",
      "Iteration 24, loss = 0.16879660\n",
      "Validation score: 0.951401\n",
      "Iteration 25, loss = 0.18041605\n",
      "Validation score: 0.954202\n",
      "Iteration 26, loss = 0.13455609\n",
      "Validation score: 0.951120\n",
      "Iteration 27, loss = 0.14006165\n",
      "Validation score: 0.951961\n",
      "Iteration 28, loss = 0.16840706\n",
      "Validation score: 0.953221\n",
      "Iteration 29, loss = 0.14252940\n",
      "Validation score: 0.953922\n",
      "Iteration 30, loss = 0.11198690\n",
      "Validation score: 0.947759\n",
      "Iteration 31, loss = 0.14819998\n",
      "Validation score: 0.950560\n",
      "Iteration 32, loss = 0.13571664\n",
      "Validation score: 0.951401\n",
      "Iteration 33, loss = 0.12774283\n",
      "Validation score: 0.955322\n",
      "Iteration 34, loss = 0.11188434\n",
      "Validation score: 0.954622\n",
      "Iteration 35, loss = 0.11831190\n",
      "Validation score: 0.960364\n",
      "Iteration 36, loss = 0.11738250\n",
      "Validation score: 0.956303\n",
      "Iteration 37, loss = 0.13856670\n",
      "Validation score: 0.948880\n",
      "Iteration 38, loss = 0.14419356\n",
      "Validation score: 0.953501\n",
      "Iteration 39, loss = 0.11072419\n",
      "Validation score: 0.950840\n",
      "Iteration 40, loss = 0.09857653\n",
      "Validation score: 0.954482\n",
      "Iteration 41, loss = 0.11788226\n",
      "Validation score: 0.957283\n",
      "Iteration 42, loss = 0.12090361\n",
      "Validation score: 0.954482\n",
      "Iteration 43, loss = 0.14191682\n",
      "Validation score: 0.955882\n",
      "Iteration 44, loss = 0.11554716\n",
      "Validation score: 0.952101\n",
      "Iteration 45, loss = 0.10464690\n",
      "Validation score: 0.958543\n",
      "Iteration 46, loss = 0.09193958\n",
      "Validation score: 0.953782\n",
      "Validation score did not improve more than tol=0.000100 for 10 consecutive epochs. Stopping.\n",
      "Best iteration: 46\n"
     ]
    }
   ],
   "source": [
    "from sklearn.neural_network import MLPClassifier\n",
    "\n",
    "# Define the MLPClassifier with early stopping\n",
    "mlp = MLPClassifier(hidden_layer_sizes=(512,), batch_size=30,early_stopping=True, activation='relu', max_iter=3000,\n",
    "                    learning_rate_init=0.001, verbose=True, random_state=22,\n",
    "                    validation_fraction=0.2)\n",
    "\n",
    "# Train the model\n",
    "mlp.fit(X_train, y_train)\n",
    "\n",
    "print(f\"Best iteration: {mlp.n_iter_}\")"
   ]
  },
  {
   "cell_type": "code",
   "execution_count": 9,
   "id": "dbb15596",
   "metadata": {
    "execution": {
     "iopub.execute_input": "2024-12-13T21:57:27.046277Z",
     "iopub.status.busy": "2024-12-13T21:57:27.042740Z",
     "iopub.status.idle": "2024-12-13T21:57:27.807369Z",
     "shell.execute_reply": "2024-12-13T21:57:27.806106Z"
    },
    "papermill": {
     "duration": 0.792494,
     "end_time": "2024-12-13T21:57:27.812778",
     "exception": false,
     "start_time": "2024-12-13T21:57:27.020284",
     "status": "completed"
    },
    "tags": []
   },
   "outputs": [],
   "source": [
    "predictions = mlp.predict(originalTestData)"
   ]
  },
  {
   "cell_type": "code",
   "execution_count": 10,
   "id": "a84bbe1c",
   "metadata": {
    "execution": {
     "iopub.execute_input": "2024-12-13T21:57:27.852893Z",
     "iopub.status.busy": "2024-12-13T21:57:27.852247Z",
     "iopub.status.idle": "2024-12-13T21:57:27.916752Z",
     "shell.execute_reply": "2024-12-13T21:57:27.915503Z"
    },
    "papermill": {
     "duration": 0.087646,
     "end_time": "2024-12-13T21:57:27.919187",
     "exception": false,
     "start_time": "2024-12-13T21:57:27.831541",
     "status": "completed"
    },
    "tags": []
   },
   "outputs": [],
   "source": [
    "submission = pd.DataFrame({'ImageId': range(1, len(predictions) + 1), 'Label': predictions})\n",
    "submission.to_csv('submission.csv', index=False)"
   ]
  },
  {
   "cell_type": "code",
   "execution_count": null,
   "id": "d190bacd",
   "metadata": {
    "papermill": {
     "duration": 0.006186,
     "end_time": "2024-12-13T21:57:27.931946",
     "exception": false,
     "start_time": "2024-12-13T21:57:27.925760",
     "status": "completed"
    },
    "tags": []
   },
   "outputs": [],
   "source": []
  }
 ],
 "metadata": {
  "kaggle": {
   "accelerator": "none",
   "dataSources": [
    {
     "databundleVersionId": 861823,
     "sourceId": 3004,
     "sourceType": "competition"
    }
   ],
   "dockerImageVersionId": 30804,
   "isGpuEnabled": false,
   "isInternetEnabled": true,
   "language": "python",
   "sourceType": "notebook"
  },
  "kernelspec": {
   "display_name": "Python 3",
   "language": "python",
   "name": "python3"
  },
  "language_info": {
   "codemirror_mode": {
    "name": "ipython",
    "version": 3
   },
   "file_extension": ".py",
   "mimetype": "text/x-python",
   "name": "python",
   "nbconvert_exporter": "python",
   "pygments_lexer": "ipython3",
   "version": "3.10.14"
  },
  "papermill": {
   "default_parameters": {},
   "duration": 1265.189898,
   "end_time": "2024-12-13T21:57:28.659593",
   "environment_variables": {},
   "exception": null,
   "input_path": "__notebook__.ipynb",
   "output_path": "__notebook__.ipynb",
   "parameters": {},
   "start_time": "2024-12-13T21:36:23.469695",
   "version": "2.6.0"
  }
 },
 "nbformat": 4,
 "nbformat_minor": 5
}
