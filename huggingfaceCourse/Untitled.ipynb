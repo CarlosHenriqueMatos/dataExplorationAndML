{
 "cells": [
  {
   "cell_type": "code",
   "execution_count": 2,
   "id": "5b2093a6-96c7-4401-a3d0-ebc8eb091f9d",
   "metadata": {},
   "outputs": [],
   "source": [
    "from smolagents import CodeAgent, DuckDuckGoSearchTool, HfApiModel, load_tool, tool\n",
    "import datetime\n",
    "import requests\n",
    "import pytz\n",
    "import yaml\n",
    "#from tools.final_answer import FinalAnswerTool"
   ]
  },
  {
   "cell_type": "code",
   "execution_count": null,
   "id": "f072beba-bd6c-4a94-9d81-82ca4fb69414",
   "metadata": {},
   "outputs": [],
   "source": []
  }
 ],
 "metadata": {
  "kernelspec": {
   "display_name": "Python 3 (ipykernel)",
   "language": "python",
   "name": "python3"
  },
  "language_info": {
   "codemirror_mode": {
    "name": "ipython",
    "version": 3
   },
   "file_extension": ".py",
   "mimetype": "text/x-python",
   "name": "python",
   "nbconvert_exporter": "python",
   "pygments_lexer": "ipython3",
   "version": "3.10.16"
  }
 },
 "nbformat": 4,
 "nbformat_minor": 5
}
