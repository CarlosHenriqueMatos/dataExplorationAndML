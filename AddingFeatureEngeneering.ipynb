{
 "cells": [
  {
   "cell_type": "markdown",
   "id": "6c01d8dc",
   "metadata": {
    "papermill": {
     "duration": 0.008874,
     "end_time": "2024-12-07T18:06:27.528108",
     "exception": false,
     "start_time": "2024-12-07T18:06:27.519234",
     "status": "completed"
    },
    "tags": []
   },
   "source": [
    "# 1.Introduction\n",
    "I will divide this notebook in parts, in the end of each part i wish improve the results. I will do it until 90+% or spend 2 weeks in this notebook.\n",
    "\n",
    "\n",
    "Im studying neural networks and than i will use in my works."
   ]
  },
  {
   "cell_type": "markdown",
   "id": "c7a67709",
   "metadata": {
    "papermill": {
     "duration": 0.008931,
     "end_time": "2024-12-07T18:06:27.545838",
     "exception": false,
     "start_time": "2024-12-07T18:06:27.536907",
     "status": "completed"
    },
    "tags": []
   },
   "source": [
    "## 2 . Simple code only with basics feature engeneering"
   ]
  },
  {
   "cell_type": "code",
   "execution_count": 1,
   "id": "03441f6c",
   "metadata": {
    "_cell_guid": "b1076dfc-b9ad-4769-8c92-a6c4dae69d19",
    "_uuid": "8f2839f25d086af736a60e9eeb907d3b93b6e0e5",
    "execution": {
     "iopub.execute_input": "2024-12-07T18:06:27.564078Z",
     "iopub.status.busy": "2024-12-07T18:06:27.563677Z",
     "iopub.status.idle": "2024-12-07T18:06:28.561416Z",
     "shell.execute_reply": "2024-12-07T18:06:28.560185Z"
    },
    "papermill": {
     "duration": 1.00994,
     "end_time": "2024-12-07T18:06:28.564249",
     "exception": false,
     "start_time": "2024-12-07T18:06:27.554309",
     "status": "completed"
    },
    "tags": []
   },
   "outputs": [
    {
     "name": "stdout",
     "output_type": "stream",
     "text": [
      "/kaggle/input/titanic/train.csv\n",
      "/kaggle/input/titanic/test.csv\n",
      "/kaggle/input/titanic/gender_submission.csv\n"
     ]
    }
   ],
   "source": [
    "# This Python 3 environment comes with many helpful analytics libraries installed\n",
    "# It is defined by the kaggle/python Docker image: https://github.com/kaggle/docker-python\n",
    "# For example, here's several helpful packages to load\n",
    "\n",
    "import numpy as np # linear algebra\n",
    "import pandas as pd # data processing, CSV file I/O (e.g. pd.read_csv)\n",
    "from collections import Counter\n",
    "\n",
    "# Input data files are available in the read-only \"../input/\" directory\n",
    "# For example, running this (by clicking run or pressing Shift+Enter) will list all files under the input directory\n",
    "\n",
    "import os\n",
    "for dirname, _, filenames in os.walk('/kaggle/input'):\n",
    "    for filename in filenames:\n",
    "        print(os.path.join(dirname, filename))\n",
    "\n",
    "# You can write up to 20GB to the current directory (/kaggle/working/) that gets preserved as output when you create a version using \"Save & Run All\" \n",
    "# You can also write temporary files to /kaggle/temp/, but they won't be saved outside of the current session"
   ]
  },
  {
   "cell_type": "code",
   "execution_count": 2,
   "id": "d3292e69",
   "metadata": {
    "execution": {
     "iopub.execute_input": "2024-12-07T18:06:28.582960Z",
     "iopub.status.busy": "2024-12-07T18:06:28.582455Z",
     "iopub.status.idle": "2024-12-07T18:06:30.988305Z",
     "shell.execute_reply": "2024-12-07T18:06:30.987096Z"
    },
    "papermill": {
     "duration": 2.418298,
     "end_time": "2024-12-07T18:06:30.990929",
     "exception": false,
     "start_time": "2024-12-07T18:06:28.572631",
     "status": "completed"
    },
    "tags": []
   },
   "outputs": [],
   "source": [
    "from sklearn.ensemble import RandomForestClassifier\n",
    "from sklearn.metrics import accuracy_score\n",
    "from sklearn.preprocessing import LabelEncoder\n",
    "from sklearn.model_selection import cross_val_score\n",
    "import seaborn as sns\n",
    "%matplotlib inline\n",
    "\n",
    "import warnings\n",
    "warnings.filterwarnings('ignore')"
   ]
  },
  {
   "cell_type": "code",
   "execution_count": 3,
   "id": "523cd5df",
   "metadata": {
    "execution": {
     "iopub.execute_input": "2024-12-07T18:06:31.010892Z",
     "iopub.status.busy": "2024-12-07T18:06:31.009533Z",
     "iopub.status.idle": "2024-12-07T18:06:31.056157Z",
     "shell.execute_reply": "2024-12-07T18:06:31.054733Z"
    },
    "papermill": {
     "duration": 0.059177,
     "end_time": "2024-12-07T18:06:31.058615",
     "exception": false,
     "start_time": "2024-12-07T18:06:30.999438",
     "status": "completed"
    },
    "tags": []
   },
   "outputs": [
    {
     "name": "stdout",
     "output_type": "stream",
     "text": [
      "   PassengerId  Survived  Pclass  \\\n",
      "0            1         0       3   \n",
      "1            2         1       1   \n",
      "2            3         1       3   \n",
      "3            4         1       1   \n",
      "4            5         0       3   \n",
      "\n",
      "                                                Name     Sex   Age  SibSp  \\\n",
      "0                            Braund, Mr. Owen Harris    male  22.0      1   \n",
      "1  Cumings, Mrs. John Bradley (Florence Briggs Th...  female  38.0      1   \n",
      "2                             Heikkinen, Miss. Laina  female  26.0      0   \n",
      "3       Futrelle, Mrs. Jacques Heath (Lily May Peel)  female  35.0      1   \n",
      "4                           Allen, Mr. William Henry    male  35.0      0   \n",
      "\n",
      "   Parch            Ticket     Fare Cabin Embarked  \n",
      "0      0         A/5 21171   7.2500   NaN        S  \n",
      "1      0          PC 17599  71.2833   C85        C  \n",
      "2      0  STON/O2. 3101282   7.9250   NaN        S  \n",
      "3      0            113803  53.1000  C123        S  \n",
      "4      0            373450   8.0500   NaN        S  \n",
      "\n",
      "\n",
      "   PassengerId  Pclass                                          Name     Sex  \\\n",
      "0          892       3                              Kelly, Mr. James    male   \n",
      "1          893       3              Wilkes, Mrs. James (Ellen Needs)  female   \n",
      "2          894       2                     Myles, Mr. Thomas Francis    male   \n",
      "3          895       3                              Wirz, Mr. Albert    male   \n",
      "4          896       3  Hirvonen, Mrs. Alexander (Helga E Lindqvist)  female   \n",
      "\n",
      "    Age  SibSp  Parch   Ticket     Fare Cabin Embarked  \n",
      "0  34.5      0      0   330911   7.8292   NaN        Q  \n",
      "1  47.0      1      0   363272   7.0000   NaN        S  \n",
      "2  62.0      0      0   240276   9.6875   NaN        Q  \n",
      "3  27.0      0      0   315154   8.6625   NaN        S  \n",
      "4  22.0      1      1  3101298  12.2875   NaN        S  \n"
     ]
    }
   ],
   "source": [
    "trainOriginalData = pd.read_csv('/kaggle/input/titanic/train.csv')\n",
    "testOriginalData = pd.read_csv('/kaggle/input/titanic/test.csv')\n",
    "print(trainOriginalData.head(5))\n",
    "print('\\n')\n",
    "print(testOriginalData.head(5))"
   ]
  },
  {
   "cell_type": "code",
   "execution_count": 4,
   "id": "3f62b4c3",
   "metadata": {
    "execution": {
     "iopub.execute_input": "2024-12-07T18:06:31.077760Z",
     "iopub.status.busy": "2024-12-07T18:06:31.077342Z",
     "iopub.status.idle": "2024-12-07T18:06:31.089426Z",
     "shell.execute_reply": "2024-12-07T18:06:31.087662Z"
    },
    "papermill": {
     "duration": 0.024929,
     "end_time": "2024-12-07T18:06:31.092185",
     "exception": false,
     "start_time": "2024-12-07T18:06:31.067256",
     "status": "completed"
    },
    "tags": []
   },
   "outputs": [
    {
     "name": "stdout",
     "output_type": "stream",
     "text": [
      "PassengerId      0\n",
      "Survived         0\n",
      "Pclass           0\n",
      "Name             0\n",
      "Sex              0\n",
      "Age            177\n",
      "SibSp            0\n",
      "Parch            0\n",
      "Ticket           0\n",
      "Fare             0\n",
      "Cabin          687\n",
      "Embarked         2\n",
      "dtype: int64 \n",
      "\n",
      "PassengerId      0\n",
      "Survived         0\n",
      "Pclass           0\n",
      "Name             0\n",
      "Sex              0\n",
      "Age            177\n",
      "SibSp            0\n",
      "Parch            0\n",
      "Ticket           0\n",
      "Fare             0\n",
      "Cabin          687\n",
      "Embarked         2\n",
      "dtype: int64\n"
     ]
    }
   ],
   "source": [
    "print(trainOriginalData.isna().sum(),\"\\n\")\n",
    "print(trainOriginalData.isna().sum())\n"
   ]
  },
  {
   "cell_type": "code",
   "execution_count": 5,
   "id": "0ce2eb4d",
   "metadata": {
    "execution": {
     "iopub.execute_input": "2024-12-07T18:06:31.113579Z",
     "iopub.status.busy": "2024-12-07T18:06:31.113163Z",
     "iopub.status.idle": "2024-12-07T18:06:31.124511Z",
     "shell.execute_reply": "2024-12-07T18:06:31.123442Z"
    },
    "papermill": {
     "duration": 0.025216,
     "end_time": "2024-12-07T18:06:31.126845",
     "exception": false,
     "start_time": "2024-12-07T18:06:31.101629",
     "status": "completed"
    },
    "tags": []
   },
   "outputs": [],
   "source": [
    "trainData = trainOriginalData.drop([\"Name\",\"Sex\",\"Ticket\",\"Cabin\",\"Embarked\",\"Cabin\"], axis = 1)\n",
    "testData = testOriginalData.drop([\"Name\", \"Sex\", \"Ticket\", \"Cabin\",\"Embarked\",\"Cabin\"], axis = 1)"
   ]
  },
  {
   "cell_type": "code",
   "execution_count": 6,
   "id": "5ece3a12",
   "metadata": {
    "execution": {
     "iopub.execute_input": "2024-12-07T18:06:31.147297Z",
     "iopub.status.busy": "2024-12-07T18:06:31.146862Z",
     "iopub.status.idle": "2024-12-07T18:06:31.179913Z",
     "shell.execute_reply": "2024-12-07T18:06:31.178646Z"
    },
    "papermill": {
     "duration": 0.046345,
     "end_time": "2024-12-07T18:06:31.182927",
     "exception": false,
     "start_time": "2024-12-07T18:06:31.136582",
     "status": "completed"
    },
    "tags": []
   },
   "outputs": [],
   "source": [
    "yTrain = trainData[\"Survived\"]\n",
    "xTrain = trainData.fillna(trainData.mode())\n",
    "xTrain = xTrain.drop([\"Survived\"],axis = 1)\n",
    "xTest = testData.fillna(trainData.mode())"
   ]
  },
  {
   "cell_type": "code",
   "execution_count": 7,
   "id": "dd15ec27",
   "metadata": {
    "execution": {
     "iopub.execute_input": "2024-12-07T18:06:31.202857Z",
     "iopub.status.busy": "2024-12-07T18:06:31.201646Z",
     "iopub.status.idle": "2024-12-07T18:06:31.214912Z",
     "shell.execute_reply": "2024-12-07T18:06:31.213687Z"
    },
    "papermill": {
     "duration": 0.025718,
     "end_time": "2024-12-07T18:06:31.217122",
     "exception": false,
     "start_time": "2024-12-07T18:06:31.191404",
     "status": "completed"
    },
    "tags": []
   },
   "outputs": [
    {
     "name": "stdout",
     "output_type": "stream",
     "text": [
      "PassengerId      0\n",
      "Pclass           0\n",
      "Age            177\n",
      "SibSp            0\n",
      "Parch            0\n",
      "Fare             0\n",
      "dtype: int64 \n",
      "\n",
      "PassengerId     0\n",
      "Pclass          0\n",
      "Age            86\n",
      "SibSp           0\n",
      "Parch           0\n",
      "Fare            1\n",
      "dtype: int64\n",
      "PassengerId    0\n",
      "Pclass         0\n",
      "Age            0\n",
      "SibSp          0\n",
      "Parch          0\n",
      "Fare           0\n",
      "dtype: int64\n"
     ]
    }
   ],
   "source": [
    "print(xTrain.isna().sum(),\"\\n\")\n",
    "print(xTest.isna().sum())\n",
    "xTrain['Fare'] = xTrain['Fare'].fillna(xTrain['Fare'].mean())\n",
    "xTrain['Age'] = xTrain['Age'].fillna(xTrain['Age'].mean())\n",
    "xTest['Age'] = xTest['Age'].fillna(xTest['Age'].mean())\n",
    "xTest['Fare'] = xTest['Fare'].fillna(xTest['Fare'].mean())\n",
    "print(xTest.isna().sum())"
   ]
  },
  {
   "cell_type": "code",
   "execution_count": 8,
   "id": "c0b37304",
   "metadata": {
    "execution": {
     "iopub.execute_input": "2024-12-07T18:06:31.236747Z",
     "iopub.status.busy": "2024-12-07T18:06:31.235580Z",
     "iopub.status.idle": "2024-12-07T18:06:31.241249Z",
     "shell.execute_reply": "2024-12-07T18:06:31.239983Z"
    },
    "papermill": {
     "duration": 0.018028,
     "end_time": "2024-12-07T18:06:31.243537",
     "exception": false,
     "start_time": "2024-12-07T18:06:31.225509",
     "status": "completed"
    },
    "tags": []
   },
   "outputs": [],
   "source": [
    "model = RandomForestClassifier(n_estimators=100, max_depth=10, random_state=100, min_samples_leaf= 3)\n",
    "#model.fit(xTrain, yTrain)"
   ]
  },
  {
   "cell_type": "code",
   "execution_count": 9,
   "id": "e7007763",
   "metadata": {
    "execution": {
     "iopub.execute_input": "2024-12-07T18:06:31.262519Z",
     "iopub.status.busy": "2024-12-07T18:06:31.262125Z",
     "iopub.status.idle": "2024-12-07T18:06:31.266619Z",
     "shell.execute_reply": "2024-12-07T18:06:31.265542Z"
    },
    "papermill": {
     "duration": 0.016807,
     "end_time": "2024-12-07T18:06:31.268979",
     "exception": false,
     "start_time": "2024-12-07T18:06:31.252172",
     "status": "completed"
    },
    "tags": []
   },
   "outputs": [],
   "source": [
    "#predictions = model.predict(xTest)\n",
    "\n",
    "#output = pd.DataFrame({'PassengerId': xTest.PassengerId, 'Survived': predictions})\n",
    "#output.to_csv('submissionBasicRF.csv', index=False)\n",
    "#print(\"Your submission was successfully saved!\")"
   ]
  },
  {
   "cell_type": "code",
   "execution_count": 10,
   "id": "1d406fb8",
   "metadata": {
    "execution": {
     "iopub.execute_input": "2024-12-07T18:06:31.289863Z",
     "iopub.status.busy": "2024-12-07T18:06:31.289404Z",
     "iopub.status.idle": "2024-12-07T18:06:31.302863Z",
     "shell.execute_reply": "2024-12-07T18:06:31.301646Z"
    },
    "papermill": {
     "duration": 0.027019,
     "end_time": "2024-12-07T18:06:31.305609",
     "exception": false,
     "start_time": "2024-12-07T18:06:31.278590",
     "status": "completed"
    },
    "tags": []
   },
   "outputs": [],
   "source": [
    "from sklearn.neural_network import MLPClassifier"
   ]
  },
  {
   "cell_type": "code",
   "execution_count": 11,
   "id": "bc38003e",
   "metadata": {
    "execution": {
     "iopub.execute_input": "2024-12-07T18:06:31.325344Z",
     "iopub.status.busy": "2024-12-07T18:06:31.324920Z",
     "iopub.status.idle": "2024-12-07T18:06:31.330366Z",
     "shell.execute_reply": "2024-12-07T18:06:31.329078Z"
    },
    "papermill": {
     "duration": 0.018535,
     "end_time": "2024-12-07T18:06:31.332772",
     "exception": false,
     "start_time": "2024-12-07T18:06:31.314237",
     "status": "completed"
    },
    "tags": []
   },
   "outputs": [],
   "source": [
    "num_epochs = 30\n",
    "num_hidden_units = 2048\n",
    "learning_rate_init = 0.01\n",
    "activation = 'relu'\n",
    "SEED = 100"
   ]
  },
  {
   "cell_type": "code",
   "execution_count": 12,
   "id": "e1edf3bf",
   "metadata": {
    "execution": {
     "iopub.execute_input": "2024-12-07T18:06:31.351688Z",
     "iopub.status.busy": "2024-12-07T18:06:31.351299Z",
     "iopub.status.idle": "2024-12-07T18:06:31.356859Z",
     "shell.execute_reply": "2024-12-07T18:06:31.355797Z"
    },
    "papermill": {
     "duration": 0.017752,
     "end_time": "2024-12-07T18:06:31.359178",
     "exception": false,
     "start_time": "2024-12-07T18:06:31.341426",
     "status": "completed"
    },
    "tags": []
   },
   "outputs": [],
   "source": [
    "mlp = MLPClassifier(\n",
    "    hidden_layer_sizes=(num_hidden_units,),\n",
    "    activation=activation,\n",
    "    learning_rate_init=learning_rate_init,\n",
    "    warm_start=True,\n",
    "    verbose=True,\n",
    "    random_state=SEED,\n",
    "    early_stopping=True,\n",
    "    n_iter_no_change=100, # large number of iterations to avoid early stopping message\n",
    ")"
   ]
  },
  {
   "cell_type": "code",
   "execution_count": 13,
   "id": "593d2fda",
   "metadata": {
    "execution": {
     "iopub.execute_input": "2024-12-07T18:06:31.377931Z",
     "iopub.status.busy": "2024-12-07T18:06:31.377482Z",
     "iopub.status.idle": "2024-12-07T18:06:31.382300Z",
     "shell.execute_reply": "2024-12-07T18:06:31.381234Z"
    },
    "papermill": {
     "duration": 0.016881,
     "end_time": "2024-12-07T18:06:31.384490",
     "exception": false,
     "start_time": "2024-12-07T18:06:31.367609",
     "status": "completed"
    },
    "tags": []
   },
   "outputs": [],
   "source": [
    "#mlp.fit(xTrain, yTrain)"
   ]
  },
  {
   "cell_type": "code",
   "execution_count": 14,
   "id": "60015c75",
   "metadata": {
    "execution": {
     "iopub.execute_input": "2024-12-07T18:06:31.402995Z",
     "iopub.status.busy": "2024-12-07T18:06:31.402587Z",
     "iopub.status.idle": "2024-12-07T18:06:31.407601Z",
     "shell.execute_reply": "2024-12-07T18:06:31.406359Z"
    },
    "papermill": {
     "duration": 0.016924,
     "end_time": "2024-12-07T18:06:31.409915",
     "exception": false,
     "start_time": "2024-12-07T18:06:31.392991",
     "status": "completed"
    },
    "tags": []
   },
   "outputs": [],
   "source": [
    "#predictions = mlp.predict(xTest)\n",
    "#output = pd.DataFrame({'PassengerId': xTest.PassengerId, 'Survived': predictions})\n",
    "#output.to_csv('submissionDataCkeanCNN.csv', index=False)\n",
    "#print(\"Your submission was successfully saved!\")"
   ]
  },
  {
   "cell_type": "markdown",
   "id": "f879ee91",
   "metadata": {
    "papermill": {
     "duration": 0.008163,
     "end_time": "2024-12-07T18:06:31.426480",
     "exception": false,
     "start_time": "2024-12-07T18:06:31.418317",
     "status": "completed"
    },
    "tags": []
   },
   "source": [
    "This part achieve almost 70% in the competetion."
   ]
  },
  {
   "cell_type": "markdown",
   "id": "29e658e8",
   "metadata": {
    "papermill": {
     "duration": 0.008213,
     "end_time": "2024-12-07T18:06:31.443130",
     "exception": false,
     "start_time": "2024-12-07T18:06:31.434917",
     "status": "completed"
    },
    "tags": []
   },
   "source": [
    "## 2.Adding feature treatment"
   ]
  },
  {
   "cell_type": "code",
   "execution_count": 15,
   "id": "51d18663",
   "metadata": {
    "execution": {
     "iopub.execute_input": "2024-12-07T18:06:31.462057Z",
     "iopub.status.busy": "2024-12-07T18:06:31.461634Z",
     "iopub.status.idle": "2024-12-07T18:06:31.476798Z",
     "shell.execute_reply": "2024-12-07T18:06:31.475394Z"
    },
    "papermill": {
     "duration": 0.027419,
     "end_time": "2024-12-07T18:06:31.479305",
     "exception": false,
     "start_time": "2024-12-07T18:06:31.451886",
     "status": "completed"
    },
    "tags": []
   },
   "outputs": [],
   "source": [
    "trainOriginalData = pd.read_csv('/kaggle/input/titanic/train.csv')\n",
    "testOriginalData = pd.read_csv('/kaggle/input/titanic/test.csv')"
   ]
  },
  {
   "cell_type": "code",
   "execution_count": 16,
   "id": "d171c537",
   "metadata": {
    "execution": {
     "iopub.execute_input": "2024-12-07T18:06:31.499279Z",
     "iopub.status.busy": "2024-12-07T18:06:31.498861Z",
     "iopub.status.idle": "2024-12-07T18:06:31.521257Z",
     "shell.execute_reply": "2024-12-07T18:06:31.519765Z"
    },
    "papermill": {
     "duration": 0.035638,
     "end_time": "2024-12-07T18:06:31.523744",
     "exception": false,
     "start_time": "2024-12-07T18:06:31.488106",
     "status": "completed"
    },
    "tags": []
   },
   "outputs": [
    {
     "data": {
      "text/html": [
       "<div>\n",
       "<style scoped>\n",
       "    .dataframe tbody tr th:only-of-type {\n",
       "        vertical-align: middle;\n",
       "    }\n",
       "\n",
       "    .dataframe tbody tr th {\n",
       "        vertical-align: top;\n",
       "    }\n",
       "\n",
       "    .dataframe thead th {\n",
       "        text-align: right;\n",
       "    }\n",
       "</style>\n",
       "<table border=\"1\" class=\"dataframe\">\n",
       "  <thead>\n",
       "    <tr style=\"text-align: right;\">\n",
       "      <th></th>\n",
       "      <th>PassengerId</th>\n",
       "      <th>Survived</th>\n",
       "      <th>Pclass</th>\n",
       "      <th>Name</th>\n",
       "      <th>Sex</th>\n",
       "      <th>Age</th>\n",
       "      <th>SibSp</th>\n",
       "      <th>Parch</th>\n",
       "      <th>Ticket</th>\n",
       "      <th>Fare</th>\n",
       "      <th>Cabin</th>\n",
       "      <th>Embarked</th>\n",
       "    </tr>\n",
       "  </thead>\n",
       "  <tbody>\n",
       "    <tr>\n",
       "      <th>0</th>\n",
       "      <td>1</td>\n",
       "      <td>0</td>\n",
       "      <td>3</td>\n",
       "      <td>Braund, Mr. Owen Harris</td>\n",
       "      <td>male</td>\n",
       "      <td>22.0</td>\n",
       "      <td>1</td>\n",
       "      <td>0</td>\n",
       "      <td>A/5 21171</td>\n",
       "      <td>7.2500</td>\n",
       "      <td>NaN</td>\n",
       "      <td>S</td>\n",
       "    </tr>\n",
       "    <tr>\n",
       "      <th>1</th>\n",
       "      <td>2</td>\n",
       "      <td>1</td>\n",
       "      <td>1</td>\n",
       "      <td>Cumings, Mrs. John Bradley (Florence Briggs Th...</td>\n",
       "      <td>female</td>\n",
       "      <td>38.0</td>\n",
       "      <td>1</td>\n",
       "      <td>0</td>\n",
       "      <td>PC 17599</td>\n",
       "      <td>71.2833</td>\n",
       "      <td>C85</td>\n",
       "      <td>C</td>\n",
       "    </tr>\n",
       "    <tr>\n",
       "      <th>2</th>\n",
       "      <td>3</td>\n",
       "      <td>1</td>\n",
       "      <td>3</td>\n",
       "      <td>Heikkinen, Miss. Laina</td>\n",
       "      <td>female</td>\n",
       "      <td>26.0</td>\n",
       "      <td>0</td>\n",
       "      <td>0</td>\n",
       "      <td>STON/O2. 3101282</td>\n",
       "      <td>7.9250</td>\n",
       "      <td>NaN</td>\n",
       "      <td>S</td>\n",
       "    </tr>\n",
       "    <tr>\n",
       "      <th>3</th>\n",
       "      <td>4</td>\n",
       "      <td>1</td>\n",
       "      <td>1</td>\n",
       "      <td>Futrelle, Mrs. Jacques Heath (Lily May Peel)</td>\n",
       "      <td>female</td>\n",
       "      <td>35.0</td>\n",
       "      <td>1</td>\n",
       "      <td>0</td>\n",
       "      <td>113803</td>\n",
       "      <td>53.1000</td>\n",
       "      <td>C123</td>\n",
       "      <td>S</td>\n",
       "    </tr>\n",
       "    <tr>\n",
       "      <th>4</th>\n",
       "      <td>5</td>\n",
       "      <td>0</td>\n",
       "      <td>3</td>\n",
       "      <td>Allen, Mr. William Henry</td>\n",
       "      <td>male</td>\n",
       "      <td>35.0</td>\n",
       "      <td>0</td>\n",
       "      <td>0</td>\n",
       "      <td>373450</td>\n",
       "      <td>8.0500</td>\n",
       "      <td>NaN</td>\n",
       "      <td>S</td>\n",
       "    </tr>\n",
       "    <tr>\n",
       "      <th>...</th>\n",
       "      <td>...</td>\n",
       "      <td>...</td>\n",
       "      <td>...</td>\n",
       "      <td>...</td>\n",
       "      <td>...</td>\n",
       "      <td>...</td>\n",
       "      <td>...</td>\n",
       "      <td>...</td>\n",
       "      <td>...</td>\n",
       "      <td>...</td>\n",
       "      <td>...</td>\n",
       "      <td>...</td>\n",
       "    </tr>\n",
       "    <tr>\n",
       "      <th>886</th>\n",
       "      <td>887</td>\n",
       "      <td>0</td>\n",
       "      <td>2</td>\n",
       "      <td>Montvila, Rev. Juozas</td>\n",
       "      <td>male</td>\n",
       "      <td>27.0</td>\n",
       "      <td>0</td>\n",
       "      <td>0</td>\n",
       "      <td>211536</td>\n",
       "      <td>13.0000</td>\n",
       "      <td>NaN</td>\n",
       "      <td>S</td>\n",
       "    </tr>\n",
       "    <tr>\n",
       "      <th>887</th>\n",
       "      <td>888</td>\n",
       "      <td>1</td>\n",
       "      <td>1</td>\n",
       "      <td>Graham, Miss. Margaret Edith</td>\n",
       "      <td>female</td>\n",
       "      <td>19.0</td>\n",
       "      <td>0</td>\n",
       "      <td>0</td>\n",
       "      <td>112053</td>\n",
       "      <td>30.0000</td>\n",
       "      <td>B42</td>\n",
       "      <td>S</td>\n",
       "    </tr>\n",
       "    <tr>\n",
       "      <th>888</th>\n",
       "      <td>889</td>\n",
       "      <td>0</td>\n",
       "      <td>3</td>\n",
       "      <td>Johnston, Miss. Catherine Helen \"Carrie\"</td>\n",
       "      <td>female</td>\n",
       "      <td>NaN</td>\n",
       "      <td>1</td>\n",
       "      <td>2</td>\n",
       "      <td>W./C. 6607</td>\n",
       "      <td>23.4500</td>\n",
       "      <td>NaN</td>\n",
       "      <td>S</td>\n",
       "    </tr>\n",
       "    <tr>\n",
       "      <th>889</th>\n",
       "      <td>890</td>\n",
       "      <td>1</td>\n",
       "      <td>1</td>\n",
       "      <td>Behr, Mr. Karl Howell</td>\n",
       "      <td>male</td>\n",
       "      <td>26.0</td>\n",
       "      <td>0</td>\n",
       "      <td>0</td>\n",
       "      <td>111369</td>\n",
       "      <td>30.0000</td>\n",
       "      <td>C148</td>\n",
       "      <td>C</td>\n",
       "    </tr>\n",
       "    <tr>\n",
       "      <th>890</th>\n",
       "      <td>891</td>\n",
       "      <td>0</td>\n",
       "      <td>3</td>\n",
       "      <td>Dooley, Mr. Patrick</td>\n",
       "      <td>male</td>\n",
       "      <td>32.0</td>\n",
       "      <td>0</td>\n",
       "      <td>0</td>\n",
       "      <td>370376</td>\n",
       "      <td>7.7500</td>\n",
       "      <td>NaN</td>\n",
       "      <td>Q</td>\n",
       "    </tr>\n",
       "  </tbody>\n",
       "</table>\n",
       "<p>891 rows × 12 columns</p>\n",
       "</div>"
      ],
      "text/plain": [
       "     PassengerId  Survived  Pclass  \\\n",
       "0              1         0       3   \n",
       "1              2         1       1   \n",
       "2              3         1       3   \n",
       "3              4         1       1   \n",
       "4              5         0       3   \n",
       "..           ...       ...     ...   \n",
       "886          887         0       2   \n",
       "887          888         1       1   \n",
       "888          889         0       3   \n",
       "889          890         1       1   \n",
       "890          891         0       3   \n",
       "\n",
       "                                                  Name     Sex   Age  SibSp  \\\n",
       "0                              Braund, Mr. Owen Harris    male  22.0      1   \n",
       "1    Cumings, Mrs. John Bradley (Florence Briggs Th...  female  38.0      1   \n",
       "2                               Heikkinen, Miss. Laina  female  26.0      0   \n",
       "3         Futrelle, Mrs. Jacques Heath (Lily May Peel)  female  35.0      1   \n",
       "4                             Allen, Mr. William Henry    male  35.0      0   \n",
       "..                                                 ...     ...   ...    ...   \n",
       "886                              Montvila, Rev. Juozas    male  27.0      0   \n",
       "887                       Graham, Miss. Margaret Edith  female  19.0      0   \n",
       "888           Johnston, Miss. Catherine Helen \"Carrie\"  female   NaN      1   \n",
       "889                              Behr, Mr. Karl Howell    male  26.0      0   \n",
       "890                                Dooley, Mr. Patrick    male  32.0      0   \n",
       "\n",
       "     Parch            Ticket     Fare Cabin Embarked  \n",
       "0        0         A/5 21171   7.2500   NaN        S  \n",
       "1        0          PC 17599  71.2833   C85        C  \n",
       "2        0  STON/O2. 3101282   7.9250   NaN        S  \n",
       "3        0            113803  53.1000  C123        S  \n",
       "4        0            373450   8.0500   NaN        S  \n",
       "..     ...               ...      ...   ...      ...  \n",
       "886      0            211536  13.0000   NaN        S  \n",
       "887      0            112053  30.0000   B42        S  \n",
       "888      2        W./C. 6607  23.4500   NaN        S  \n",
       "889      0            111369  30.0000  C148        C  \n",
       "890      0            370376   7.7500   NaN        Q  \n",
       "\n",
       "[891 rows x 12 columns]"
      ]
     },
     "execution_count": 16,
     "metadata": {},
     "output_type": "execute_result"
    }
   ],
   "source": [
    "trainOriginalData"
   ]
  },
  {
   "cell_type": "code",
   "execution_count": 17,
   "id": "86387fd0",
   "metadata": {
    "execution": {
     "iopub.execute_input": "2024-12-07T18:06:31.543930Z",
     "iopub.status.busy": "2024-12-07T18:06:31.543435Z",
     "iopub.status.idle": "2024-12-07T18:06:31.554031Z",
     "shell.execute_reply": "2024-12-07T18:06:31.552821Z"
    },
    "papermill": {
     "duration": 0.023552,
     "end_time": "2024-12-07T18:06:31.556386",
     "exception": false,
     "start_time": "2024-12-07T18:06:31.532834",
     "status": "completed"
    },
    "tags": []
   },
   "outputs": [],
   "source": [
    "trainOriginalData['Sex'] = pd.get_dummies(trainOriginalData['Sex'], dtype=int)[\"male\"]\n",
    "testOriginalData['Sex'] = pd.get_dummies(testOriginalData['Sex'], dtype=int)[\"male\"]"
   ]
  },
  {
   "cell_type": "code",
   "execution_count": 18,
   "id": "08c5a4c8",
   "metadata": {
    "execution": {
     "iopub.execute_input": "2024-12-07T18:06:31.576887Z",
     "iopub.status.busy": "2024-12-07T18:06:31.576458Z",
     "iopub.status.idle": "2024-12-07T18:06:31.597287Z",
     "shell.execute_reply": "2024-12-07T18:06:31.596104Z"
    },
    "papermill": {
     "duration": 0.033754,
     "end_time": "2024-12-07T18:06:31.599966",
     "exception": false,
     "start_time": "2024-12-07T18:06:31.566212",
     "status": "completed"
    },
    "tags": []
   },
   "outputs": [
    {
     "data": {
      "text/html": [
       "<div>\n",
       "<style scoped>\n",
       "    .dataframe tbody tr th:only-of-type {\n",
       "        vertical-align: middle;\n",
       "    }\n",
       "\n",
       "    .dataframe tbody tr th {\n",
       "        vertical-align: top;\n",
       "    }\n",
       "\n",
       "    .dataframe thead th {\n",
       "        text-align: right;\n",
       "    }\n",
       "</style>\n",
       "<table border=\"1\" class=\"dataframe\">\n",
       "  <thead>\n",
       "    <tr style=\"text-align: right;\">\n",
       "      <th></th>\n",
       "      <th>PassengerId</th>\n",
       "      <th>Survived</th>\n",
       "      <th>Pclass</th>\n",
       "      <th>Name</th>\n",
       "      <th>Sex</th>\n",
       "      <th>Age</th>\n",
       "      <th>SibSp</th>\n",
       "      <th>Parch</th>\n",
       "      <th>Ticket</th>\n",
       "      <th>Fare</th>\n",
       "      <th>Cabin</th>\n",
       "      <th>Embarked</th>\n",
       "    </tr>\n",
       "  </thead>\n",
       "  <tbody>\n",
       "    <tr>\n",
       "      <th>0</th>\n",
       "      <td>1</td>\n",
       "      <td>0</td>\n",
       "      <td>3</td>\n",
       "      <td>Braund, Mr. Owen Harris</td>\n",
       "      <td>1</td>\n",
       "      <td>22.0</td>\n",
       "      <td>1</td>\n",
       "      <td>0</td>\n",
       "      <td>A/5 21171</td>\n",
       "      <td>7.2500</td>\n",
       "      <td>NaN</td>\n",
       "      <td>S</td>\n",
       "    </tr>\n",
       "    <tr>\n",
       "      <th>1</th>\n",
       "      <td>2</td>\n",
       "      <td>1</td>\n",
       "      <td>1</td>\n",
       "      <td>Cumings, Mrs. John Bradley (Florence Briggs Th...</td>\n",
       "      <td>0</td>\n",
       "      <td>38.0</td>\n",
       "      <td>1</td>\n",
       "      <td>0</td>\n",
       "      <td>PC 17599</td>\n",
       "      <td>71.2833</td>\n",
       "      <td>C85</td>\n",
       "      <td>C</td>\n",
       "    </tr>\n",
       "    <tr>\n",
       "      <th>2</th>\n",
       "      <td>3</td>\n",
       "      <td>1</td>\n",
       "      <td>3</td>\n",
       "      <td>Heikkinen, Miss. Laina</td>\n",
       "      <td>0</td>\n",
       "      <td>26.0</td>\n",
       "      <td>0</td>\n",
       "      <td>0</td>\n",
       "      <td>STON/O2. 3101282</td>\n",
       "      <td>7.9250</td>\n",
       "      <td>NaN</td>\n",
       "      <td>S</td>\n",
       "    </tr>\n",
       "    <tr>\n",
       "      <th>3</th>\n",
       "      <td>4</td>\n",
       "      <td>1</td>\n",
       "      <td>1</td>\n",
       "      <td>Futrelle, Mrs. Jacques Heath (Lily May Peel)</td>\n",
       "      <td>0</td>\n",
       "      <td>35.0</td>\n",
       "      <td>1</td>\n",
       "      <td>0</td>\n",
       "      <td>113803</td>\n",
       "      <td>53.1000</td>\n",
       "      <td>C123</td>\n",
       "      <td>S</td>\n",
       "    </tr>\n",
       "    <tr>\n",
       "      <th>4</th>\n",
       "      <td>5</td>\n",
       "      <td>0</td>\n",
       "      <td>3</td>\n",
       "      <td>Allen, Mr. William Henry</td>\n",
       "      <td>1</td>\n",
       "      <td>35.0</td>\n",
       "      <td>0</td>\n",
       "      <td>0</td>\n",
       "      <td>373450</td>\n",
       "      <td>8.0500</td>\n",
       "      <td>NaN</td>\n",
       "      <td>S</td>\n",
       "    </tr>\n",
       "    <tr>\n",
       "      <th>...</th>\n",
       "      <td>...</td>\n",
       "      <td>...</td>\n",
       "      <td>...</td>\n",
       "      <td>...</td>\n",
       "      <td>...</td>\n",
       "      <td>...</td>\n",
       "      <td>...</td>\n",
       "      <td>...</td>\n",
       "      <td>...</td>\n",
       "      <td>...</td>\n",
       "      <td>...</td>\n",
       "      <td>...</td>\n",
       "    </tr>\n",
       "    <tr>\n",
       "      <th>886</th>\n",
       "      <td>887</td>\n",
       "      <td>0</td>\n",
       "      <td>2</td>\n",
       "      <td>Montvila, Rev. Juozas</td>\n",
       "      <td>1</td>\n",
       "      <td>27.0</td>\n",
       "      <td>0</td>\n",
       "      <td>0</td>\n",
       "      <td>211536</td>\n",
       "      <td>13.0000</td>\n",
       "      <td>NaN</td>\n",
       "      <td>S</td>\n",
       "    </tr>\n",
       "    <tr>\n",
       "      <th>887</th>\n",
       "      <td>888</td>\n",
       "      <td>1</td>\n",
       "      <td>1</td>\n",
       "      <td>Graham, Miss. Margaret Edith</td>\n",
       "      <td>0</td>\n",
       "      <td>19.0</td>\n",
       "      <td>0</td>\n",
       "      <td>0</td>\n",
       "      <td>112053</td>\n",
       "      <td>30.0000</td>\n",
       "      <td>B42</td>\n",
       "      <td>S</td>\n",
       "    </tr>\n",
       "    <tr>\n",
       "      <th>888</th>\n",
       "      <td>889</td>\n",
       "      <td>0</td>\n",
       "      <td>3</td>\n",
       "      <td>Johnston, Miss. Catherine Helen \"Carrie\"</td>\n",
       "      <td>0</td>\n",
       "      <td>NaN</td>\n",
       "      <td>1</td>\n",
       "      <td>2</td>\n",
       "      <td>W./C. 6607</td>\n",
       "      <td>23.4500</td>\n",
       "      <td>NaN</td>\n",
       "      <td>S</td>\n",
       "    </tr>\n",
       "    <tr>\n",
       "      <th>889</th>\n",
       "      <td>890</td>\n",
       "      <td>1</td>\n",
       "      <td>1</td>\n",
       "      <td>Behr, Mr. Karl Howell</td>\n",
       "      <td>1</td>\n",
       "      <td>26.0</td>\n",
       "      <td>0</td>\n",
       "      <td>0</td>\n",
       "      <td>111369</td>\n",
       "      <td>30.0000</td>\n",
       "      <td>C148</td>\n",
       "      <td>C</td>\n",
       "    </tr>\n",
       "    <tr>\n",
       "      <th>890</th>\n",
       "      <td>891</td>\n",
       "      <td>0</td>\n",
       "      <td>3</td>\n",
       "      <td>Dooley, Mr. Patrick</td>\n",
       "      <td>1</td>\n",
       "      <td>32.0</td>\n",
       "      <td>0</td>\n",
       "      <td>0</td>\n",
       "      <td>370376</td>\n",
       "      <td>7.7500</td>\n",
       "      <td>NaN</td>\n",
       "      <td>Q</td>\n",
       "    </tr>\n",
       "  </tbody>\n",
       "</table>\n",
       "<p>891 rows × 12 columns</p>\n",
       "</div>"
      ],
      "text/plain": [
       "     PassengerId  Survived  Pclass  \\\n",
       "0              1         0       3   \n",
       "1              2         1       1   \n",
       "2              3         1       3   \n",
       "3              4         1       1   \n",
       "4              5         0       3   \n",
       "..           ...       ...     ...   \n",
       "886          887         0       2   \n",
       "887          888         1       1   \n",
       "888          889         0       3   \n",
       "889          890         1       1   \n",
       "890          891         0       3   \n",
       "\n",
       "                                                  Name  Sex   Age  SibSp  \\\n",
       "0                              Braund, Mr. Owen Harris    1  22.0      1   \n",
       "1    Cumings, Mrs. John Bradley (Florence Briggs Th...    0  38.0      1   \n",
       "2                               Heikkinen, Miss. Laina    0  26.0      0   \n",
       "3         Futrelle, Mrs. Jacques Heath (Lily May Peel)    0  35.0      1   \n",
       "4                             Allen, Mr. William Henry    1  35.0      0   \n",
       "..                                                 ...  ...   ...    ...   \n",
       "886                              Montvila, Rev. Juozas    1  27.0      0   \n",
       "887                       Graham, Miss. Margaret Edith    0  19.0      0   \n",
       "888           Johnston, Miss. Catherine Helen \"Carrie\"    0   NaN      1   \n",
       "889                              Behr, Mr. Karl Howell    1  26.0      0   \n",
       "890                                Dooley, Mr. Patrick    1  32.0      0   \n",
       "\n",
       "     Parch            Ticket     Fare Cabin Embarked  \n",
       "0        0         A/5 21171   7.2500   NaN        S  \n",
       "1        0          PC 17599  71.2833   C85        C  \n",
       "2        0  STON/O2. 3101282   7.9250   NaN        S  \n",
       "3        0            113803  53.1000  C123        S  \n",
       "4        0            373450   8.0500   NaN        S  \n",
       "..     ...               ...      ...   ...      ...  \n",
       "886      0            211536  13.0000   NaN        S  \n",
       "887      0            112053  30.0000   B42        S  \n",
       "888      2        W./C. 6607  23.4500   NaN        S  \n",
       "889      0            111369  30.0000  C148        C  \n",
       "890      0            370376   7.7500   NaN        Q  \n",
       "\n",
       "[891 rows x 12 columns]"
      ]
     },
     "execution_count": 18,
     "metadata": {},
     "output_type": "execute_result"
    }
   ],
   "source": [
    "trainOriginalData"
   ]
  },
  {
   "cell_type": "code",
   "execution_count": 19,
   "id": "b67e8b28",
   "metadata": {
    "execution": {
     "iopub.execute_input": "2024-12-07T18:06:31.621919Z",
     "iopub.status.busy": "2024-12-07T18:06:31.621458Z",
     "iopub.status.idle": "2024-12-07T18:06:31.640672Z",
     "shell.execute_reply": "2024-12-07T18:06:31.639207Z"
    },
    "papermill": {
     "duration": 0.033737,
     "end_time": "2024-12-07T18:06:31.643363",
     "exception": false,
     "start_time": "2024-12-07T18:06:31.609626",
     "status": "completed"
    },
    "tags": []
   },
   "outputs": [],
   "source": [
    "trainOriginalData[\"Age\"] = trainOriginalData[\"Age\"]/trainOriginalData[\"Age\"].max()\n",
    "trainOriginalData['Age'] = trainOriginalData['Age'].fillna(trainOriginalData['Age'].mean())\n",
    "\n",
    "testOriginalData[\"Age\"] = testOriginalData[\"Age\"]/testOriginalData[\"Age\"].max()\n",
    "testOriginalData['Age'] = testOriginalData['Age'].fillna(testOriginalData['Age'].mean())\n",
    "\n",
    "trainOriginalData[\"Fare\"] = trainOriginalData[\"Fare\"]/trainOriginalData[\"Fare\"].max()\n",
    "trainOriginalData['Fare'] = trainOriginalData['Fare'].fillna(trainOriginalData['Fare'].mean())\n",
    "\n",
    "testOriginalData[\"Fare\"] = testOriginalData[\"Fare\"]/testOriginalData[\"Fare\"].max()\n",
    "testOriginalData['Fare'] = testOriginalData['Fare'].fillna(testOriginalData['Fare'].mean())"
   ]
  },
  {
   "cell_type": "code",
   "execution_count": 20,
   "id": "753c599f",
   "metadata": {
    "execution": {
     "iopub.execute_input": "2024-12-07T18:06:31.663276Z",
     "iopub.status.busy": "2024-12-07T18:06:31.662880Z",
     "iopub.status.idle": "2024-12-07T18:06:31.683600Z",
     "shell.execute_reply": "2024-12-07T18:06:31.682381Z"
    },
    "papermill": {
     "duration": 0.033714,
     "end_time": "2024-12-07T18:06:31.686274",
     "exception": false,
     "start_time": "2024-12-07T18:06:31.652560",
     "status": "completed"
    },
    "tags": []
   },
   "outputs": [
    {
     "data": {
      "text/html": [
       "<div>\n",
       "<style scoped>\n",
       "    .dataframe tbody tr th:only-of-type {\n",
       "        vertical-align: middle;\n",
       "    }\n",
       "\n",
       "    .dataframe tbody tr th {\n",
       "        vertical-align: top;\n",
       "    }\n",
       "\n",
       "    .dataframe thead th {\n",
       "        text-align: right;\n",
       "    }\n",
       "</style>\n",
       "<table border=\"1\" class=\"dataframe\">\n",
       "  <thead>\n",
       "    <tr style=\"text-align: right;\">\n",
       "      <th></th>\n",
       "      <th>PassengerId</th>\n",
       "      <th>Survived</th>\n",
       "      <th>Pclass</th>\n",
       "      <th>Name</th>\n",
       "      <th>Sex</th>\n",
       "      <th>Age</th>\n",
       "      <th>SibSp</th>\n",
       "      <th>Parch</th>\n",
       "      <th>Ticket</th>\n",
       "      <th>Fare</th>\n",
       "      <th>Cabin</th>\n",
       "      <th>Embarked</th>\n",
       "    </tr>\n",
       "  </thead>\n",
       "  <tbody>\n",
       "    <tr>\n",
       "      <th>0</th>\n",
       "      <td>1</td>\n",
       "      <td>0</td>\n",
       "      <td>3</td>\n",
       "      <td>Braund, Mr. Owen Harris</td>\n",
       "      <td>1</td>\n",
       "      <td>0.275000</td>\n",
       "      <td>1</td>\n",
       "      <td>0</td>\n",
       "      <td>A/5 21171</td>\n",
       "      <td>0.014151</td>\n",
       "      <td>NaN</td>\n",
       "      <td>S</td>\n",
       "    </tr>\n",
       "    <tr>\n",
       "      <th>1</th>\n",
       "      <td>2</td>\n",
       "      <td>1</td>\n",
       "      <td>1</td>\n",
       "      <td>Cumings, Mrs. John Bradley (Florence Briggs Th...</td>\n",
       "      <td>0</td>\n",
       "      <td>0.475000</td>\n",
       "      <td>1</td>\n",
       "      <td>0</td>\n",
       "      <td>PC 17599</td>\n",
       "      <td>0.139136</td>\n",
       "      <td>C85</td>\n",
       "      <td>C</td>\n",
       "    </tr>\n",
       "    <tr>\n",
       "      <th>2</th>\n",
       "      <td>3</td>\n",
       "      <td>1</td>\n",
       "      <td>3</td>\n",
       "      <td>Heikkinen, Miss. Laina</td>\n",
       "      <td>0</td>\n",
       "      <td>0.325000</td>\n",
       "      <td>0</td>\n",
       "      <td>0</td>\n",
       "      <td>STON/O2. 3101282</td>\n",
       "      <td>0.015469</td>\n",
       "      <td>NaN</td>\n",
       "      <td>S</td>\n",
       "    </tr>\n",
       "    <tr>\n",
       "      <th>3</th>\n",
       "      <td>4</td>\n",
       "      <td>1</td>\n",
       "      <td>1</td>\n",
       "      <td>Futrelle, Mrs. Jacques Heath (Lily May Peel)</td>\n",
       "      <td>0</td>\n",
       "      <td>0.437500</td>\n",
       "      <td>1</td>\n",
       "      <td>0</td>\n",
       "      <td>113803</td>\n",
       "      <td>0.103644</td>\n",
       "      <td>C123</td>\n",
       "      <td>S</td>\n",
       "    </tr>\n",
       "    <tr>\n",
       "      <th>4</th>\n",
       "      <td>5</td>\n",
       "      <td>0</td>\n",
       "      <td>3</td>\n",
       "      <td>Allen, Mr. William Henry</td>\n",
       "      <td>1</td>\n",
       "      <td>0.437500</td>\n",
       "      <td>0</td>\n",
       "      <td>0</td>\n",
       "      <td>373450</td>\n",
       "      <td>0.015713</td>\n",
       "      <td>NaN</td>\n",
       "      <td>S</td>\n",
       "    </tr>\n",
       "    <tr>\n",
       "      <th>...</th>\n",
       "      <td>...</td>\n",
       "      <td>...</td>\n",
       "      <td>...</td>\n",
       "      <td>...</td>\n",
       "      <td>...</td>\n",
       "      <td>...</td>\n",
       "      <td>...</td>\n",
       "      <td>...</td>\n",
       "      <td>...</td>\n",
       "      <td>...</td>\n",
       "      <td>...</td>\n",
       "      <td>...</td>\n",
       "    </tr>\n",
       "    <tr>\n",
       "      <th>886</th>\n",
       "      <td>887</td>\n",
       "      <td>0</td>\n",
       "      <td>2</td>\n",
       "      <td>Montvila, Rev. Juozas</td>\n",
       "      <td>1</td>\n",
       "      <td>0.337500</td>\n",
       "      <td>0</td>\n",
       "      <td>0</td>\n",
       "      <td>211536</td>\n",
       "      <td>0.025374</td>\n",
       "      <td>NaN</td>\n",
       "      <td>S</td>\n",
       "    </tr>\n",
       "    <tr>\n",
       "      <th>887</th>\n",
       "      <td>888</td>\n",
       "      <td>1</td>\n",
       "      <td>1</td>\n",
       "      <td>Graham, Miss. Margaret Edith</td>\n",
       "      <td>0</td>\n",
       "      <td>0.237500</td>\n",
       "      <td>0</td>\n",
       "      <td>0</td>\n",
       "      <td>112053</td>\n",
       "      <td>0.058556</td>\n",
       "      <td>B42</td>\n",
       "      <td>S</td>\n",
       "    </tr>\n",
       "    <tr>\n",
       "      <th>888</th>\n",
       "      <td>889</td>\n",
       "      <td>0</td>\n",
       "      <td>3</td>\n",
       "      <td>Johnston, Miss. Catherine Helen \"Carrie\"</td>\n",
       "      <td>0</td>\n",
       "      <td>0.371239</td>\n",
       "      <td>1</td>\n",
       "      <td>2</td>\n",
       "      <td>W./C. 6607</td>\n",
       "      <td>0.045771</td>\n",
       "      <td>NaN</td>\n",
       "      <td>S</td>\n",
       "    </tr>\n",
       "    <tr>\n",
       "      <th>889</th>\n",
       "      <td>890</td>\n",
       "      <td>1</td>\n",
       "      <td>1</td>\n",
       "      <td>Behr, Mr. Karl Howell</td>\n",
       "      <td>1</td>\n",
       "      <td>0.325000</td>\n",
       "      <td>0</td>\n",
       "      <td>0</td>\n",
       "      <td>111369</td>\n",
       "      <td>0.058556</td>\n",
       "      <td>C148</td>\n",
       "      <td>C</td>\n",
       "    </tr>\n",
       "    <tr>\n",
       "      <th>890</th>\n",
       "      <td>891</td>\n",
       "      <td>0</td>\n",
       "      <td>3</td>\n",
       "      <td>Dooley, Mr. Patrick</td>\n",
       "      <td>1</td>\n",
       "      <td>0.400000</td>\n",
       "      <td>0</td>\n",
       "      <td>0</td>\n",
       "      <td>370376</td>\n",
       "      <td>0.015127</td>\n",
       "      <td>NaN</td>\n",
       "      <td>Q</td>\n",
       "    </tr>\n",
       "  </tbody>\n",
       "</table>\n",
       "<p>891 rows × 12 columns</p>\n",
       "</div>"
      ],
      "text/plain": [
       "     PassengerId  Survived  Pclass  \\\n",
       "0              1         0       3   \n",
       "1              2         1       1   \n",
       "2              3         1       3   \n",
       "3              4         1       1   \n",
       "4              5         0       3   \n",
       "..           ...       ...     ...   \n",
       "886          887         0       2   \n",
       "887          888         1       1   \n",
       "888          889         0       3   \n",
       "889          890         1       1   \n",
       "890          891         0       3   \n",
       "\n",
       "                                                  Name  Sex       Age  SibSp  \\\n",
       "0                              Braund, Mr. Owen Harris    1  0.275000      1   \n",
       "1    Cumings, Mrs. John Bradley (Florence Briggs Th...    0  0.475000      1   \n",
       "2                               Heikkinen, Miss. Laina    0  0.325000      0   \n",
       "3         Futrelle, Mrs. Jacques Heath (Lily May Peel)    0  0.437500      1   \n",
       "4                             Allen, Mr. William Henry    1  0.437500      0   \n",
       "..                                                 ...  ...       ...    ...   \n",
       "886                              Montvila, Rev. Juozas    1  0.337500      0   \n",
       "887                       Graham, Miss. Margaret Edith    0  0.237500      0   \n",
       "888           Johnston, Miss. Catherine Helen \"Carrie\"    0  0.371239      1   \n",
       "889                              Behr, Mr. Karl Howell    1  0.325000      0   \n",
       "890                                Dooley, Mr. Patrick    1  0.400000      0   \n",
       "\n",
       "     Parch            Ticket      Fare Cabin Embarked  \n",
       "0        0         A/5 21171  0.014151   NaN        S  \n",
       "1        0          PC 17599  0.139136   C85        C  \n",
       "2        0  STON/O2. 3101282  0.015469   NaN        S  \n",
       "3        0            113803  0.103644  C123        S  \n",
       "4        0            373450  0.015713   NaN        S  \n",
       "..     ...               ...       ...   ...      ...  \n",
       "886      0            211536  0.025374   NaN        S  \n",
       "887      0            112053  0.058556   B42        S  \n",
       "888      2        W./C. 6607  0.045771   NaN        S  \n",
       "889      0            111369  0.058556  C148        C  \n",
       "890      0            370376  0.015127   NaN        Q  \n",
       "\n",
       "[891 rows x 12 columns]"
      ]
     },
     "execution_count": 20,
     "metadata": {},
     "output_type": "execute_result"
    }
   ],
   "source": [
    "trainOriginalData"
   ]
  },
  {
   "cell_type": "code",
   "execution_count": 21,
   "id": "0121e981",
   "metadata": {
    "execution": {
     "iopub.execute_input": "2024-12-07T18:06:31.708306Z",
     "iopub.status.busy": "2024-12-07T18:06:31.706820Z",
     "iopub.status.idle": "2024-12-07T18:06:31.715962Z",
     "shell.execute_reply": "2024-12-07T18:06:31.714791Z"
    },
    "papermill": {
     "duration": 0.022325,
     "end_time": "2024-12-07T18:06:31.718336",
     "exception": false,
     "start_time": "2024-12-07T18:06:31.696011",
     "status": "completed"
    },
    "tags": []
   },
   "outputs": [],
   "source": [
    "trainOriginalData = trainOriginalData.drop([\"Ticket\",\"Cabin\",\"Name\",\"PassengerId\"], axis = 1)\n",
    "testOriginalData = testOriginalData.drop([\"Ticket\",\"Cabin\",\"Name\",\"PassengerId\"], axis = 1)"
   ]
  },
  {
   "cell_type": "code",
   "execution_count": 22,
   "id": "5e0566ca",
   "metadata": {
    "execution": {
     "iopub.execute_input": "2024-12-07T18:06:31.740931Z",
     "iopub.status.busy": "2024-12-07T18:06:31.740516Z",
     "iopub.status.idle": "2024-12-07T18:06:31.756041Z",
     "shell.execute_reply": "2024-12-07T18:06:31.754639Z"
    },
    "papermill": {
     "duration": 0.030179,
     "end_time": "2024-12-07T18:06:31.758310",
     "exception": false,
     "start_time": "2024-12-07T18:06:31.728131",
     "status": "completed"
    },
    "tags": []
   },
   "outputs": [
    {
     "data": {
      "text/html": [
       "<div>\n",
       "<style scoped>\n",
       "    .dataframe tbody tr th:only-of-type {\n",
       "        vertical-align: middle;\n",
       "    }\n",
       "\n",
       "    .dataframe tbody tr th {\n",
       "        vertical-align: top;\n",
       "    }\n",
       "\n",
       "    .dataframe thead th {\n",
       "        text-align: right;\n",
       "    }\n",
       "</style>\n",
       "<table border=\"1\" class=\"dataframe\">\n",
       "  <thead>\n",
       "    <tr style=\"text-align: right;\">\n",
       "      <th></th>\n",
       "      <th>Survived</th>\n",
       "      <th>Pclass</th>\n",
       "      <th>Sex</th>\n",
       "      <th>Age</th>\n",
       "      <th>SibSp</th>\n",
       "      <th>Parch</th>\n",
       "      <th>Fare</th>\n",
       "      <th>Embarked</th>\n",
       "    </tr>\n",
       "  </thead>\n",
       "  <tbody>\n",
       "    <tr>\n",
       "      <th>0</th>\n",
       "      <td>0</td>\n",
       "      <td>3</td>\n",
       "      <td>1</td>\n",
       "      <td>0.275000</td>\n",
       "      <td>1</td>\n",
       "      <td>0</td>\n",
       "      <td>0.014151</td>\n",
       "      <td>S</td>\n",
       "    </tr>\n",
       "    <tr>\n",
       "      <th>1</th>\n",
       "      <td>1</td>\n",
       "      <td>1</td>\n",
       "      <td>0</td>\n",
       "      <td>0.475000</td>\n",
       "      <td>1</td>\n",
       "      <td>0</td>\n",
       "      <td>0.139136</td>\n",
       "      <td>C</td>\n",
       "    </tr>\n",
       "    <tr>\n",
       "      <th>2</th>\n",
       "      <td>1</td>\n",
       "      <td>3</td>\n",
       "      <td>0</td>\n",
       "      <td>0.325000</td>\n",
       "      <td>0</td>\n",
       "      <td>0</td>\n",
       "      <td>0.015469</td>\n",
       "      <td>S</td>\n",
       "    </tr>\n",
       "    <tr>\n",
       "      <th>3</th>\n",
       "      <td>1</td>\n",
       "      <td>1</td>\n",
       "      <td>0</td>\n",
       "      <td>0.437500</td>\n",
       "      <td>1</td>\n",
       "      <td>0</td>\n",
       "      <td>0.103644</td>\n",
       "      <td>S</td>\n",
       "    </tr>\n",
       "    <tr>\n",
       "      <th>4</th>\n",
       "      <td>0</td>\n",
       "      <td>3</td>\n",
       "      <td>1</td>\n",
       "      <td>0.437500</td>\n",
       "      <td>0</td>\n",
       "      <td>0</td>\n",
       "      <td>0.015713</td>\n",
       "      <td>S</td>\n",
       "    </tr>\n",
       "    <tr>\n",
       "      <th>...</th>\n",
       "      <td>...</td>\n",
       "      <td>...</td>\n",
       "      <td>...</td>\n",
       "      <td>...</td>\n",
       "      <td>...</td>\n",
       "      <td>...</td>\n",
       "      <td>...</td>\n",
       "      <td>...</td>\n",
       "    </tr>\n",
       "    <tr>\n",
       "      <th>886</th>\n",
       "      <td>0</td>\n",
       "      <td>2</td>\n",
       "      <td>1</td>\n",
       "      <td>0.337500</td>\n",
       "      <td>0</td>\n",
       "      <td>0</td>\n",
       "      <td>0.025374</td>\n",
       "      <td>S</td>\n",
       "    </tr>\n",
       "    <tr>\n",
       "      <th>887</th>\n",
       "      <td>1</td>\n",
       "      <td>1</td>\n",
       "      <td>0</td>\n",
       "      <td>0.237500</td>\n",
       "      <td>0</td>\n",
       "      <td>0</td>\n",
       "      <td>0.058556</td>\n",
       "      <td>S</td>\n",
       "    </tr>\n",
       "    <tr>\n",
       "      <th>888</th>\n",
       "      <td>0</td>\n",
       "      <td>3</td>\n",
       "      <td>0</td>\n",
       "      <td>0.371239</td>\n",
       "      <td>1</td>\n",
       "      <td>2</td>\n",
       "      <td>0.045771</td>\n",
       "      <td>S</td>\n",
       "    </tr>\n",
       "    <tr>\n",
       "      <th>889</th>\n",
       "      <td>1</td>\n",
       "      <td>1</td>\n",
       "      <td>1</td>\n",
       "      <td>0.325000</td>\n",
       "      <td>0</td>\n",
       "      <td>0</td>\n",
       "      <td>0.058556</td>\n",
       "      <td>C</td>\n",
       "    </tr>\n",
       "    <tr>\n",
       "      <th>890</th>\n",
       "      <td>0</td>\n",
       "      <td>3</td>\n",
       "      <td>1</td>\n",
       "      <td>0.400000</td>\n",
       "      <td>0</td>\n",
       "      <td>0</td>\n",
       "      <td>0.015127</td>\n",
       "      <td>Q</td>\n",
       "    </tr>\n",
       "  </tbody>\n",
       "</table>\n",
       "<p>891 rows × 8 columns</p>\n",
       "</div>"
      ],
      "text/plain": [
       "     Survived  Pclass  Sex       Age  SibSp  Parch      Fare Embarked\n",
       "0           0       3    1  0.275000      1      0  0.014151        S\n",
       "1           1       1    0  0.475000      1      0  0.139136        C\n",
       "2           1       3    0  0.325000      0      0  0.015469        S\n",
       "3           1       1    0  0.437500      1      0  0.103644        S\n",
       "4           0       3    1  0.437500      0      0  0.015713        S\n",
       "..        ...     ...  ...       ...    ...    ...       ...      ...\n",
       "886         0       2    1  0.337500      0      0  0.025374        S\n",
       "887         1       1    0  0.237500      0      0  0.058556        S\n",
       "888         0       3    0  0.371239      1      2  0.045771        S\n",
       "889         1       1    1  0.325000      0      0  0.058556        C\n",
       "890         0       3    1  0.400000      0      0  0.015127        Q\n",
       "\n",
       "[891 rows x 8 columns]"
      ]
     },
     "execution_count": 22,
     "metadata": {},
     "output_type": "execute_result"
    }
   ],
   "source": [
    "trainOriginalData"
   ]
  },
  {
   "cell_type": "code",
   "execution_count": 23,
   "id": "caf00619",
   "metadata": {
    "execution": {
     "iopub.execute_input": "2024-12-07T18:06:31.779967Z",
     "iopub.status.busy": "2024-12-07T18:06:31.779565Z",
     "iopub.status.idle": "2024-12-07T18:06:31.793162Z",
     "shell.execute_reply": "2024-12-07T18:06:31.791945Z"
    },
    "papermill": {
     "duration": 0.02751,
     "end_time": "2024-12-07T18:06:31.795732",
     "exception": false,
     "start_time": "2024-12-07T18:06:31.768222",
     "status": "completed"
    },
    "tags": []
   },
   "outputs": [
    {
     "data": {
      "text/html": [
       "<div>\n",
       "<style scoped>\n",
       "    .dataframe tbody tr th:only-of-type {\n",
       "        vertical-align: middle;\n",
       "    }\n",
       "\n",
       "    .dataframe tbody tr th {\n",
       "        vertical-align: top;\n",
       "    }\n",
       "\n",
       "    .dataframe thead th {\n",
       "        text-align: right;\n",
       "    }\n",
       "</style>\n",
       "<table border=\"1\" class=\"dataframe\">\n",
       "  <thead>\n",
       "    <tr style=\"text-align: right;\">\n",
       "      <th></th>\n",
       "      <th>C</th>\n",
       "      <th>Q</th>\n",
       "      <th>S</th>\n",
       "    </tr>\n",
       "  </thead>\n",
       "  <tbody>\n",
       "    <tr>\n",
       "      <th>0</th>\n",
       "      <td>0</td>\n",
       "      <td>0</td>\n",
       "      <td>1</td>\n",
       "    </tr>\n",
       "    <tr>\n",
       "      <th>1</th>\n",
       "      <td>1</td>\n",
       "      <td>0</td>\n",
       "      <td>0</td>\n",
       "    </tr>\n",
       "    <tr>\n",
       "      <th>2</th>\n",
       "      <td>0</td>\n",
       "      <td>0</td>\n",
       "      <td>1</td>\n",
       "    </tr>\n",
       "    <tr>\n",
       "      <th>3</th>\n",
       "      <td>0</td>\n",
       "      <td>0</td>\n",
       "      <td>1</td>\n",
       "    </tr>\n",
       "    <tr>\n",
       "      <th>4</th>\n",
       "      <td>0</td>\n",
       "      <td>0</td>\n",
       "      <td>1</td>\n",
       "    </tr>\n",
       "    <tr>\n",
       "      <th>...</th>\n",
       "      <td>...</td>\n",
       "      <td>...</td>\n",
       "      <td>...</td>\n",
       "    </tr>\n",
       "    <tr>\n",
       "      <th>886</th>\n",
       "      <td>0</td>\n",
       "      <td>0</td>\n",
       "      <td>1</td>\n",
       "    </tr>\n",
       "    <tr>\n",
       "      <th>887</th>\n",
       "      <td>0</td>\n",
       "      <td>0</td>\n",
       "      <td>1</td>\n",
       "    </tr>\n",
       "    <tr>\n",
       "      <th>888</th>\n",
       "      <td>0</td>\n",
       "      <td>0</td>\n",
       "      <td>1</td>\n",
       "    </tr>\n",
       "    <tr>\n",
       "      <th>889</th>\n",
       "      <td>1</td>\n",
       "      <td>0</td>\n",
       "      <td>0</td>\n",
       "    </tr>\n",
       "    <tr>\n",
       "      <th>890</th>\n",
       "      <td>0</td>\n",
       "      <td>1</td>\n",
       "      <td>0</td>\n",
       "    </tr>\n",
       "  </tbody>\n",
       "</table>\n",
       "<p>891 rows × 3 columns</p>\n",
       "</div>"
      ],
      "text/plain": [
       "     C  Q  S\n",
       "0    0  0  1\n",
       "1    1  0  0\n",
       "2    0  0  1\n",
       "3    0  0  1\n",
       "4    0  0  1\n",
       "..  .. .. ..\n",
       "886  0  0  1\n",
       "887  0  0  1\n",
       "888  0  0  1\n",
       "889  1  0  0\n",
       "890  0  1  0\n",
       "\n",
       "[891 rows x 3 columns]"
      ]
     },
     "execution_count": 23,
     "metadata": {},
     "output_type": "execute_result"
    }
   ],
   "source": [
    "pd.get_dummies(trainOriginalData['Embarked'], dtype=int)"
   ]
  },
  {
   "cell_type": "code",
   "execution_count": 24,
   "id": "baeb9d9d",
   "metadata": {
    "execution": {
     "iopub.execute_input": "2024-12-07T18:06:31.817180Z",
     "iopub.status.busy": "2024-12-07T18:06:31.816813Z",
     "iopub.status.idle": "2024-12-07T18:06:31.826625Z",
     "shell.execute_reply": "2024-12-07T18:06:31.825570Z"
    },
    "papermill": {
     "duration": 0.023233,
     "end_time": "2024-12-07T18:06:31.828979",
     "exception": false,
     "start_time": "2024-12-07T18:06:31.805746",
     "status": "completed"
    },
    "tags": []
   },
   "outputs": [],
   "source": [
    "trainOriginalData = pd.concat([trainOriginalData, pd.get_dummies(trainOriginalData['Embarked'], dtype=int)], axis=1)\n",
    "testOriginalData = pd.concat([testOriginalData, pd.get_dummies(testOriginalData['Embarked'], dtype=int)], axis=1)"
   ]
  },
  {
   "cell_type": "code",
   "execution_count": 25,
   "id": "3510d291",
   "metadata": {
    "execution": {
     "iopub.execute_input": "2024-12-07T18:06:31.852386Z",
     "iopub.status.busy": "2024-12-07T18:06:31.852023Z",
     "iopub.status.idle": "2024-12-07T18:06:31.858878Z",
     "shell.execute_reply": "2024-12-07T18:06:31.857630Z"
    },
    "papermill": {
     "duration": 0.021175,
     "end_time": "2024-12-07T18:06:31.861048",
     "exception": false,
     "start_time": "2024-12-07T18:06:31.839873",
     "status": "completed"
    },
    "tags": []
   },
   "outputs": [],
   "source": [
    "trainOriginalData = trainOriginalData.drop([\"Embarked\"], axis = 1)\n",
    "testOriginalData = testOriginalData.drop([\"Embarked\"], axis = 1)"
   ]
  },
  {
   "cell_type": "code",
   "execution_count": 26,
   "id": "e4ddd3e5",
   "metadata": {
    "execution": {
     "iopub.execute_input": "2024-12-07T18:06:31.882887Z",
     "iopub.status.busy": "2024-12-07T18:06:31.882169Z",
     "iopub.status.idle": "2024-12-07T18:06:31.887150Z",
     "shell.execute_reply": "2024-12-07T18:06:31.885909Z"
    },
    "papermill": {
     "duration": 0.018474,
     "end_time": "2024-12-07T18:06:31.889382",
     "exception": false,
     "start_time": "2024-12-07T18:06:31.870908",
     "status": "completed"
    },
    "tags": []
   },
   "outputs": [],
   "source": [
    "trainData = trainOriginalData\n",
    "testData = testOriginalData"
   ]
  },
  {
   "cell_type": "code",
   "execution_count": 27,
   "id": "83103aa7",
   "metadata": {
    "execution": {
     "iopub.execute_input": "2024-12-07T18:06:31.911329Z",
     "iopub.status.busy": "2024-12-07T18:06:31.910913Z",
     "iopub.status.idle": "2024-12-07T18:06:31.925841Z",
     "shell.execute_reply": "2024-12-07T18:06:31.924655Z"
    },
    "papermill": {
     "duration": 0.028831,
     "end_time": "2024-12-07T18:06:31.928488",
     "exception": false,
     "start_time": "2024-12-07T18:06:31.899657",
     "status": "completed"
    },
    "tags": []
   },
   "outputs": [
    {
     "data": {
      "text/html": [
       "<div>\n",
       "<style scoped>\n",
       "    .dataframe tbody tr th:only-of-type {\n",
       "        vertical-align: middle;\n",
       "    }\n",
       "\n",
       "    .dataframe tbody tr th {\n",
       "        vertical-align: top;\n",
       "    }\n",
       "\n",
       "    .dataframe thead th {\n",
       "        text-align: right;\n",
       "    }\n",
       "</style>\n",
       "<table border=\"1\" class=\"dataframe\">\n",
       "  <thead>\n",
       "    <tr style=\"text-align: right;\">\n",
       "      <th></th>\n",
       "      <th>Pclass</th>\n",
       "      <th>Sex</th>\n",
       "      <th>Age</th>\n",
       "      <th>SibSp</th>\n",
       "      <th>Parch</th>\n",
       "      <th>Fare</th>\n",
       "      <th>C</th>\n",
       "      <th>Q</th>\n",
       "      <th>S</th>\n",
       "    </tr>\n",
       "  </thead>\n",
       "  <tbody>\n",
       "    <tr>\n",
       "      <th>0</th>\n",
       "      <td>3</td>\n",
       "      <td>1</td>\n",
       "      <td>0.453947</td>\n",
       "      <td>0</td>\n",
       "      <td>0</td>\n",
       "      <td>0.015282</td>\n",
       "      <td>0</td>\n",
       "      <td>1</td>\n",
       "      <td>0</td>\n",
       "    </tr>\n",
       "    <tr>\n",
       "      <th>1</th>\n",
       "      <td>3</td>\n",
       "      <td>0</td>\n",
       "      <td>0.618421</td>\n",
       "      <td>1</td>\n",
       "      <td>0</td>\n",
       "      <td>0.013663</td>\n",
       "      <td>0</td>\n",
       "      <td>0</td>\n",
       "      <td>1</td>\n",
       "    </tr>\n",
       "    <tr>\n",
       "      <th>2</th>\n",
       "      <td>2</td>\n",
       "      <td>1</td>\n",
       "      <td>0.815789</td>\n",
       "      <td>0</td>\n",
       "      <td>0</td>\n",
       "      <td>0.018909</td>\n",
       "      <td>0</td>\n",
       "      <td>1</td>\n",
       "      <td>0</td>\n",
       "    </tr>\n",
       "    <tr>\n",
       "      <th>3</th>\n",
       "      <td>3</td>\n",
       "      <td>1</td>\n",
       "      <td>0.355263</td>\n",
       "      <td>0</td>\n",
       "      <td>0</td>\n",
       "      <td>0.016908</td>\n",
       "      <td>0</td>\n",
       "      <td>0</td>\n",
       "      <td>1</td>\n",
       "    </tr>\n",
       "    <tr>\n",
       "      <th>4</th>\n",
       "      <td>3</td>\n",
       "      <td>0</td>\n",
       "      <td>0.289474</td>\n",
       "      <td>1</td>\n",
       "      <td>1</td>\n",
       "      <td>0.023984</td>\n",
       "      <td>0</td>\n",
       "      <td>0</td>\n",
       "      <td>1</td>\n",
       "    </tr>\n",
       "    <tr>\n",
       "      <th>...</th>\n",
       "      <td>...</td>\n",
       "      <td>...</td>\n",
       "      <td>...</td>\n",
       "      <td>...</td>\n",
       "      <td>...</td>\n",
       "      <td>...</td>\n",
       "      <td>...</td>\n",
       "      <td>...</td>\n",
       "      <td>...</td>\n",
       "    </tr>\n",
       "    <tr>\n",
       "      <th>413</th>\n",
       "      <td>3</td>\n",
       "      <td>1</td>\n",
       "      <td>0.398324</td>\n",
       "      <td>0</td>\n",
       "      <td>0</td>\n",
       "      <td>0.015713</td>\n",
       "      <td>0</td>\n",
       "      <td>0</td>\n",
       "      <td>1</td>\n",
       "    </tr>\n",
       "    <tr>\n",
       "      <th>414</th>\n",
       "      <td>1</td>\n",
       "      <td>0</td>\n",
       "      <td>0.513158</td>\n",
       "      <td>0</td>\n",
       "      <td>0</td>\n",
       "      <td>0.212559</td>\n",
       "      <td>1</td>\n",
       "      <td>0</td>\n",
       "      <td>0</td>\n",
       "    </tr>\n",
       "    <tr>\n",
       "      <th>415</th>\n",
       "      <td>3</td>\n",
       "      <td>1</td>\n",
       "      <td>0.506579</td>\n",
       "      <td>0</td>\n",
       "      <td>0</td>\n",
       "      <td>0.014151</td>\n",
       "      <td>0</td>\n",
       "      <td>0</td>\n",
       "      <td>1</td>\n",
       "    </tr>\n",
       "    <tr>\n",
       "      <th>416</th>\n",
       "      <td>3</td>\n",
       "      <td>1</td>\n",
       "      <td>0.398324</td>\n",
       "      <td>0</td>\n",
       "      <td>0</td>\n",
       "      <td>0.015713</td>\n",
       "      <td>0</td>\n",
       "      <td>0</td>\n",
       "      <td>1</td>\n",
       "    </tr>\n",
       "    <tr>\n",
       "      <th>417</th>\n",
       "      <td>3</td>\n",
       "      <td>1</td>\n",
       "      <td>0.398324</td>\n",
       "      <td>1</td>\n",
       "      <td>1</td>\n",
       "      <td>0.043640</td>\n",
       "      <td>1</td>\n",
       "      <td>0</td>\n",
       "      <td>0</td>\n",
       "    </tr>\n",
       "  </tbody>\n",
       "</table>\n",
       "<p>418 rows × 9 columns</p>\n",
       "</div>"
      ],
      "text/plain": [
       "     Pclass  Sex       Age  SibSp  Parch      Fare  C  Q  S\n",
       "0         3    1  0.453947      0      0  0.015282  0  1  0\n",
       "1         3    0  0.618421      1      0  0.013663  0  0  1\n",
       "2         2    1  0.815789      0      0  0.018909  0  1  0\n",
       "3         3    1  0.355263      0      0  0.016908  0  0  1\n",
       "4         3    0  0.289474      1      1  0.023984  0  0  1\n",
       "..      ...  ...       ...    ...    ...       ... .. .. ..\n",
       "413       3    1  0.398324      0      0  0.015713  0  0  1\n",
       "414       1    0  0.513158      0      0  0.212559  1  0  0\n",
       "415       3    1  0.506579      0      0  0.014151  0  0  1\n",
       "416       3    1  0.398324      0      0  0.015713  0  0  1\n",
       "417       3    1  0.398324      1      1  0.043640  1  0  0\n",
       "\n",
       "[418 rows x 9 columns]"
      ]
     },
     "execution_count": 27,
     "metadata": {},
     "output_type": "execute_result"
    }
   ],
   "source": [
    "testData"
   ]
  },
  {
   "cell_type": "code",
   "execution_count": 28,
   "id": "8a54402c",
   "metadata": {
    "execution": {
     "iopub.execute_input": "2024-12-07T18:06:31.952238Z",
     "iopub.status.busy": "2024-12-07T18:06:31.951831Z",
     "iopub.status.idle": "2024-12-07T18:06:31.957828Z",
     "shell.execute_reply": "2024-12-07T18:06:31.956576Z"
    },
    "papermill": {
     "duration": 0.020909,
     "end_time": "2024-12-07T18:06:31.959995",
     "exception": false,
     "start_time": "2024-12-07T18:06:31.939086",
     "status": "completed"
    },
    "tags": []
   },
   "outputs": [],
   "source": [
    "mlp = MLPClassifier(\n",
    "    hidden_layer_sizes=(num_hidden_units,),\n",
    "    activation=activation,\n",
    "    learning_rate_init=learning_rate_init,\n",
    "    warm_start=False,\n",
    "    max_iter= 9999,\n",
    "    batch_size=50,\n",
    "    verbose=False,\n",
    "    validation_fraction = 0.2,\n",
    "    learning_rate = \"adaptive\",\n",
    "    random_state=SEED,\n",
    "    early_stopping=True,\n",
    "    n_iter_no_change=100, # large number of iterations to avoid early stopping message\n",
    ")"
   ]
  },
  {
   "cell_type": "code",
   "execution_count": 29,
   "id": "588f63d9",
   "metadata": {
    "execution": {
     "iopub.execute_input": "2024-12-07T18:06:31.982466Z",
     "iopub.status.busy": "2024-12-07T18:06:31.982092Z",
     "iopub.status.idle": "2024-12-07T18:07:03.926703Z",
     "shell.execute_reply": "2024-12-07T18:07:03.925577Z"
    },
    "papermill": {
     "duration": 31.982364,
     "end_time": "2024-12-07T18:07:03.952650",
     "exception": false,
     "start_time": "2024-12-07T18:06:31.970286",
     "status": "completed"
    },
    "tags": []
   },
   "outputs": [
    {
     "name": "stdout",
     "output_type": "stream",
     "text": [
      "Mean Accuracy was:  0.7071181972255351\n"
     ]
    }
   ],
   "source": [
    "#mlp.fit(xTrain, yTrain)\n",
    "scores = cross_val_score(mlp, xTrain, yTrain, cv=5)\n",
    "print(\"Mean Accuracy was: \",sum(scores)/len(scores))"
   ]
  },
  {
   "cell_type": "code",
   "execution_count": 30,
   "id": "9dde6eaa",
   "metadata": {
    "execution": {
     "iopub.execute_input": "2024-12-07T18:07:03.998127Z",
     "iopub.status.busy": "2024-12-07T18:07:03.996842Z",
     "iopub.status.idle": "2024-12-07T18:07:16.036579Z",
     "shell.execute_reply": "2024-12-07T18:07:16.035321Z"
    },
    "papermill": {
     "duration": 12.067026,
     "end_time": "2024-12-07T18:07:16.040564",
     "exception": false,
     "start_time": "2024-12-07T18:07:03.973538",
     "status": "completed"
    },
    "tags": []
   },
   "outputs": [
    {
     "data": {
      "text/html": [
       "<style>#sk-container-id-1 {color: black;background-color: white;}#sk-container-id-1 pre{padding: 0;}#sk-container-id-1 div.sk-toggleable {background-color: white;}#sk-container-id-1 label.sk-toggleable__label {cursor: pointer;display: block;width: 100%;margin-bottom: 0;padding: 0.3em;box-sizing: border-box;text-align: center;}#sk-container-id-1 label.sk-toggleable__label-arrow:before {content: \"▸\";float: left;margin-right: 0.25em;color: #696969;}#sk-container-id-1 label.sk-toggleable__label-arrow:hover:before {color: black;}#sk-container-id-1 div.sk-estimator:hover label.sk-toggleable__label-arrow:before {color: black;}#sk-container-id-1 div.sk-toggleable__content {max-height: 0;max-width: 0;overflow: hidden;text-align: left;background-color: #f0f8ff;}#sk-container-id-1 div.sk-toggleable__content pre {margin: 0.2em;color: black;border-radius: 0.25em;background-color: #f0f8ff;}#sk-container-id-1 input.sk-toggleable__control:checked~div.sk-toggleable__content {max-height: 200px;max-width: 100%;overflow: auto;}#sk-container-id-1 input.sk-toggleable__control:checked~label.sk-toggleable__label-arrow:before {content: \"▾\";}#sk-container-id-1 div.sk-estimator input.sk-toggleable__control:checked~label.sk-toggleable__label {background-color: #d4ebff;}#sk-container-id-1 div.sk-label input.sk-toggleable__control:checked~label.sk-toggleable__label {background-color: #d4ebff;}#sk-container-id-1 input.sk-hidden--visually {border: 0;clip: rect(1px 1px 1px 1px);clip: rect(1px, 1px, 1px, 1px);height: 1px;margin: -1px;overflow: hidden;padding: 0;position: absolute;width: 1px;}#sk-container-id-1 div.sk-estimator {font-family: monospace;background-color: #f0f8ff;border: 1px dotted black;border-radius: 0.25em;box-sizing: border-box;margin-bottom: 0.5em;}#sk-container-id-1 div.sk-estimator:hover {background-color: #d4ebff;}#sk-container-id-1 div.sk-parallel-item::after {content: \"\";width: 100%;border-bottom: 1px solid gray;flex-grow: 1;}#sk-container-id-1 div.sk-label:hover label.sk-toggleable__label {background-color: #d4ebff;}#sk-container-id-1 div.sk-serial::before {content: \"\";position: absolute;border-left: 1px solid gray;box-sizing: border-box;top: 0;bottom: 0;left: 50%;z-index: 0;}#sk-container-id-1 div.sk-serial {display: flex;flex-direction: column;align-items: center;background-color: white;padding-right: 0.2em;padding-left: 0.2em;position: relative;}#sk-container-id-1 div.sk-item {position: relative;z-index: 1;}#sk-container-id-1 div.sk-parallel {display: flex;align-items: stretch;justify-content: center;background-color: white;position: relative;}#sk-container-id-1 div.sk-item::before, #sk-container-id-1 div.sk-parallel-item::before {content: \"\";position: absolute;border-left: 1px solid gray;box-sizing: border-box;top: 0;bottom: 0;left: 50%;z-index: -1;}#sk-container-id-1 div.sk-parallel-item {display: flex;flex-direction: column;z-index: 1;position: relative;background-color: white;}#sk-container-id-1 div.sk-parallel-item:first-child::after {align-self: flex-end;width: 50%;}#sk-container-id-1 div.sk-parallel-item:last-child::after {align-self: flex-start;width: 50%;}#sk-container-id-1 div.sk-parallel-item:only-child::after {width: 0;}#sk-container-id-1 div.sk-dashed-wrapped {border: 1px dashed gray;margin: 0 0.4em 0.5em 0.4em;box-sizing: border-box;padding-bottom: 0.4em;background-color: white;}#sk-container-id-1 div.sk-label label {font-family: monospace;font-weight: bold;display: inline-block;line-height: 1.2em;}#sk-container-id-1 div.sk-label-container {text-align: center;}#sk-container-id-1 div.sk-container {/* jupyter's `normalize.less` sets `[hidden] { display: none; }` but bootstrap.min.css set `[hidden] { display: none !important; }` so we also need the `!important` here to be able to override the default hidden behavior on the sphinx rendered scikit-learn.org. See: https://github.com/scikit-learn/scikit-learn/issues/21755 */display: inline-block !important;position: relative;}#sk-container-id-1 div.sk-text-repr-fallback {display: none;}</style><div id=\"sk-container-id-1\" class=\"sk-top-container\"><div class=\"sk-text-repr-fallback\"><pre>MLPClassifier(batch_size=50, early_stopping=True, hidden_layer_sizes=(2048,),\n",
       "              learning_rate=&#x27;adaptive&#x27;, learning_rate_init=0.01, max_iter=9999,\n",
       "              n_iter_no_change=100, random_state=100, validation_fraction=0.2)</pre><b>In a Jupyter environment, please rerun this cell to show the HTML representation or trust the notebook. <br />On GitHub, the HTML representation is unable to render, please try loading this page with nbviewer.org.</b></div><div class=\"sk-container\" hidden><div class=\"sk-item\"><div class=\"sk-estimator sk-toggleable\"><input class=\"sk-toggleable__control sk-hidden--visually\" id=\"sk-estimator-id-1\" type=\"checkbox\" checked><label for=\"sk-estimator-id-1\" class=\"sk-toggleable__label sk-toggleable__label-arrow\">MLPClassifier</label><div class=\"sk-toggleable__content\"><pre>MLPClassifier(batch_size=50, early_stopping=True, hidden_layer_sizes=(2048,),\n",
       "              learning_rate=&#x27;adaptive&#x27;, learning_rate_init=0.01, max_iter=9999,\n",
       "              n_iter_no_change=100, random_state=100, validation_fraction=0.2)</pre></div></div></div></div></div>"
      ],
      "text/plain": [
       "MLPClassifier(batch_size=50, early_stopping=True, hidden_layer_sizes=(2048,),\n",
       "              learning_rate='adaptive', learning_rate_init=0.01, max_iter=9999,\n",
       "              n_iter_no_change=100, random_state=100, validation_fraction=0.2)"
      ]
     },
     "execution_count": 30,
     "metadata": {},
     "output_type": "execute_result"
    }
   ],
   "source": [
    "mlp.fit(xTrain, yTrain)"
   ]
  },
  {
   "cell_type": "code",
   "execution_count": 31,
   "id": "fd88fb2a",
   "metadata": {
    "execution": {
     "iopub.execute_input": "2024-12-07T18:07:16.085478Z",
     "iopub.status.busy": "2024-12-07T18:07:16.084926Z",
     "iopub.status.idle": "2024-12-07T18:07:16.112486Z",
     "shell.execute_reply": "2024-12-07T18:07:16.111281Z"
    },
    "papermill": {
     "duration": 0.054041,
     "end_time": "2024-12-07T18:07:16.116621",
     "exception": false,
     "start_time": "2024-12-07T18:07:16.062580",
     "status": "completed"
    },
    "tags": []
   },
   "outputs": [
    {
     "name": "stdout",
     "output_type": "stream",
     "text": [
      "Your submission was successfully saved!\n"
     ]
    }
   ],
   "source": [
    "predictions = mlp.predict(xTest)\n",
    "output = pd.DataFrame({'PassengerId': xTest.PassengerId, 'Survived': predictions})\n",
    "output.to_csv('submissionDataCleanedCNN.csv', index=False)\n",
    "print(\"Your submission was successfully saved!\")"
   ]
  },
  {
   "cell_type": "markdown",
   "id": "6ccf5d9d",
   "metadata": {
    "papermill": {
     "duration": 0.020213,
     "end_time": "2024-12-07T18:07:16.158362",
     "exception": false,
     "start_time": "2024-12-07T18:07:16.138149",
     "status": "completed"
    },
    "tags": []
   },
   "source": [
    "The result was worst than last one, now i will make a better feature engeneering"
   ]
  },
  {
   "cell_type": "markdown",
   "id": "b29f3e98",
   "metadata": {
    "papermill": {
     "duration": 0.020789,
     "end_time": "2024-12-07T18:07:16.200625",
     "exception": false,
     "start_time": "2024-12-07T18:07:16.179836",
     "status": "completed"
    },
    "tags": []
   },
   "source": [
    "## 3.Treating data outliers and improving feature engeneering\n",
    "\n",
    "\n",
    "https://numpy.org/doc/2.1/reference/generated/numpy.percentile.html"
   ]
  },
  {
   "cell_type": "code",
   "execution_count": 32,
   "id": "cfeec353",
   "metadata": {
    "execution": {
     "iopub.execute_input": "2024-12-07T18:07:16.235527Z",
     "iopub.status.busy": "2024-12-07T18:07:16.235154Z",
     "iopub.status.idle": "2024-12-07T18:07:16.242762Z",
     "shell.execute_reply": "2024-12-07T18:07:16.241585Z"
    },
    "papermill": {
     "duration": 0.023684,
     "end_time": "2024-12-07T18:07:16.245264",
     "exception": false,
     "start_time": "2024-12-07T18:07:16.221580",
     "status": "completed"
    },
    "tags": []
   },
   "outputs": [],
   "source": [
    "def multiOutliersDataset(df: pd.DataFrame, qtOut: int, features: list) -> list:\n",
    "    indices = []\n",
    "    # Iterar pelas colunas especificadas\n",
    "    for col in features:\n",
    "        Q1 = np.percentile(df[col], 25)\n",
    "        Q3 = np.percentile(df[col], 75)\n",
    "        \n",
    "        IQR = Q3 - Q1\n",
    "        \n",
    "        outlierLimits = 1.5 * IQR\n",
    "\n",
    "        outliersColumn = df[(df[col] < Q1 - outlierLimits) | (df[col] > Q3 + outlierLimits)].index\n",
    "        indices.extend(outliersColumn)\n",
    "\n",
    "    # Contar ocorrências de outliers por observação\n",
    "    outlier_counts = Counter(indices)\n",
    "\n",
    "    # Selecionar observações com mais de 'n' outliers\n",
    "    multiple_outliers = [index for index, count in outlier_counts.items() if count > qtOut]\n",
    "\n",
    "    return multiple_outliers"
   ]
  },
  {
   "cell_type": "code",
   "execution_count": 33,
   "id": "8bfbc7fd",
   "metadata": {
    "execution": {
     "iopub.execute_input": "2024-12-07T18:07:16.269332Z",
     "iopub.status.busy": "2024-12-07T18:07:16.268938Z",
     "iopub.status.idle": "2024-12-07T18:07:16.303961Z",
     "shell.execute_reply": "2024-12-07T18:07:16.302502Z"
    },
    "papermill": {
     "duration": 0.050104,
     "end_time": "2024-12-07T18:07:16.306505",
     "exception": false,
     "start_time": "2024-12-07T18:07:16.256401",
     "status": "completed"
    },
    "tags": []
   },
   "outputs": [
    {
     "name": "stdout",
     "output_type": "stream",
     "text": [
      "Data type of dataframe columns: \n",
      " PassengerId      int64\n",
      "Survived         int64\n",
      "Pclass           int64\n",
      "Name            object\n",
      "Sex             object\n",
      "Age            float64\n",
      "SibSp            int64\n",
      "Parch            int64\n",
      "Ticket          object\n",
      "Fare           float64\n",
      "Cabin           object\n",
      "Embarked        object\n",
      "dtype: object\n",
      "\n",
      "Statistical metrics on data: \n",
      "        PassengerId    Survived      Pclass         Age       SibSp  \\\n",
      "count   891.000000  891.000000  891.000000  714.000000  891.000000   \n",
      "mean    446.000000    0.383838    2.308642   29.699118    0.523008   \n",
      "std     257.353842    0.486592    0.836071   14.526497    1.102743   \n",
      "min       1.000000    0.000000    1.000000    0.420000    0.000000   \n",
      "25%     223.500000    0.000000    2.000000   20.125000    0.000000   \n",
      "50%     446.000000    0.000000    3.000000   28.000000    0.000000   \n",
      "75%     668.500000    1.000000    3.000000   38.000000    1.000000   \n",
      "max     891.000000    1.000000    3.000000   80.000000    8.000000   \n",
      "\n",
      "            Parch        Fare  \n",
      "count  891.000000  891.000000  \n",
      "mean     0.381594   32.204208  \n",
      "std      0.806057   49.693429  \n",
      "min      0.000000    0.000000  \n",
      "25%      0.000000    7.910400  \n",
      "50%      0.000000   14.454200  \n",
      "75%      0.000000   31.000000  \n",
      "max      6.000000  512.329200  \n"
     ]
    }
   ],
   "source": [
    "trainOriginalData = pd.read_csv('/kaggle/input/titanic/train.csv')\n",
    "testOriginalData = pd.read_csv('/kaggle/input/titanic/test.csv')\n",
    "print(\"Data type of dataframe columns: \\n\",trainOriginalData.dtypes)\n",
    "print(\"\\nStatistical metrics on data: \\n\", trainOriginalData.describe())"
   ]
  },
  {
   "cell_type": "code",
   "execution_count": 34,
   "id": "ebdc1573",
   "metadata": {
    "execution": {
     "iopub.execute_input": "2024-12-07T18:07:16.330796Z",
     "iopub.status.busy": "2024-12-07T18:07:16.330354Z",
     "iopub.status.idle": "2024-12-07T18:07:16.342070Z",
     "shell.execute_reply": "2024-12-07T18:07:16.340827Z"
    },
    "papermill": {
     "duration": 0.026355,
     "end_time": "2024-12-07T18:07:16.344387",
     "exception": false,
     "start_time": "2024-12-07T18:07:16.318032",
     "status": "completed"
    },
    "tags": []
   },
   "outputs": [
    {
     "name": "stdout",
     "output_type": "stream",
     "text": [
      "Train Original Data\n",
      " PassengerId      0\n",
      "Survived         0\n",
      "Pclass           0\n",
      "Name             0\n",
      "Sex              0\n",
      "Age            177\n",
      "SibSp            0\n",
      "Parch            0\n",
      "Ticket           0\n",
      "Fare             0\n",
      "Cabin          687\n",
      "Embarked         2\n",
      "dtype: int64\n",
      "\n",
      "Test Original Data\n",
      " PassengerId      0\n",
      "Pclass           0\n",
      "Name             0\n",
      "Sex              0\n",
      "Age             86\n",
      "SibSp            0\n",
      "Parch            0\n",
      "Ticket           0\n",
      "Fare             1\n",
      "Cabin          327\n",
      "Embarked         0\n",
      "dtype: int64\n"
     ]
    }
   ],
   "source": [
    "print(\"Train Original Data\\n\",trainOriginalData.fillna(np.nan).isnull().sum())\n",
    "print(\"\\nTest Original Data\\n\",testOriginalData.fillna(np.nan).isnull().sum())"
   ]
  },
  {
   "cell_type": "code",
   "execution_count": 35,
   "id": "9555b644",
   "metadata": {
    "execution": {
     "iopub.execute_input": "2024-12-07T18:07:16.368587Z",
     "iopub.status.busy": "2024-12-07T18:07:16.368216Z",
     "iopub.status.idle": "2024-12-07T18:07:16.377845Z",
     "shell.execute_reply": "2024-12-07T18:07:16.376643Z"
    },
    "papermill": {
     "duration": 0.024435,
     "end_time": "2024-12-07T18:07:16.380302",
     "exception": false,
     "start_time": "2024-12-07T18:07:16.355867",
     "status": "completed"
    },
    "tags": []
   },
   "outputs": [],
   "source": [
    "trainOriginalData['Sex'] = pd.get_dummies(trainOriginalData['Sex'], dtype=int)[\"male\"]\n",
    "testOriginalData['Sex'] = pd.get_dummies(testOriginalData['Sex'], dtype=int)[\"male\"]"
   ]
  },
  {
   "cell_type": "code",
   "execution_count": 36,
   "id": "0889619d",
   "metadata": {
    "execution": {
     "iopub.execute_input": "2024-12-07T18:07:16.404353Z",
     "iopub.status.busy": "2024-12-07T18:07:16.403925Z",
     "iopub.status.idle": "2024-12-07T18:07:16.420188Z",
     "shell.execute_reply": "2024-12-07T18:07:16.419082Z"
    },
    "papermill": {
     "duration": 0.031152,
     "end_time": "2024-12-07T18:07:16.422971",
     "exception": false,
     "start_time": "2024-12-07T18:07:16.391819",
     "status": "completed"
    },
    "tags": []
   },
   "outputs": [],
   "source": [
    "trainOriginalData = trainOriginalData.drop((multiOutliersDataset(trainOriginalData,2,[\"Pclass\",\"Sex\",\"Age\",\"SibSp\",\"Parch\",\"Fare\"])), axis = 0).reset_index(drop=True)"
   ]
  },
  {
   "cell_type": "markdown",
   "id": "459536c0",
   "metadata": {
    "papermill": {
     "duration": 0.011375,
     "end_time": "2024-12-07T18:07:16.445974",
     "exception": false,
     "start_time": "2024-12-07T18:07:16.434599",
     "status": "completed"
    },
    "tags": []
   },
   "source": [
    "### 3.1. Feature Analisis"
   ]
  },
  {
   "cell_type": "code",
   "execution_count": 37,
   "id": "ba0cbf74",
   "metadata": {
    "execution": {
     "iopub.execute_input": "2024-12-07T18:07:16.470956Z",
     "iopub.status.busy": "2024-12-07T18:07:16.470423Z",
     "iopub.status.idle": "2024-12-07T18:07:16.958533Z",
     "shell.execute_reply": "2024-12-07T18:07:16.957028Z"
    },
    "papermill": {
     "duration": 0.50387,
     "end_time": "2024-12-07T18:07:16.961001",
     "exception": false,
     "start_time": "2024-12-07T18:07:16.457131",
     "status": "completed"
    },
    "tags": []
   },
   "outputs": [
    {
     "data": {
      "image/png": "[encoded data removed]",
      "text/plain": [
       "<Figure size 640x480 with 2 Axes>"
      ]
     },
     "metadata": {},
     "output_type": "display_data"
    }
   ],
   "source": [
    "g = sns.heatmap(trainOriginalData[[\"Survived\",\"Pclass\",\"Sex\",\"Age\",\"SibSp\",\"Parch\",\"Fare\"]].corr(),annot=True, fmt = \".2f\")"
   ]
  },
  {
   "cell_type": "code",
   "execution_count": null,
   "id": "a0b3f00f",
   "metadata": {
    "execution": {
     "iopub.execute_input": "2024-12-07T18:02:04.704616Z",
     "iopub.status.busy": "2024-12-07T18:02:04.704251Z",
     "iopub.status.idle": "2024-12-07T18:02:04.710558Z",
     "shell.execute_reply": "2024-12-07T18:02:04.709628Z",
     "shell.execute_reply.started": "2024-12-07T18:02:04.704582Z"
    },
    "papermill": {
     "duration": 0.011526,
     "end_time": "2024-12-07T18:07:16.984938",
     "exception": false,
     "start_time": "2024-12-07T18:07:16.973412",
     "status": "completed"
    },
    "tags": []
   },
   "outputs": [],
   "source": []
  },
  {
   "cell_type": "code",
   "execution_count": null,
   "id": "b0b0cc4b",
   "metadata": {
    "papermill": {
     "duration": 0.011911,
     "end_time": "2024-12-07T18:07:17.009230",
     "exception": false,
     "start_time": "2024-12-07T18:07:16.997319",
     "status": "completed"
    },
    "tags": []
   },
   "outputs": [],
   "source": []
  }
 ],
 "metadata": {
  "kaggle": {
   "accelerator": "none",
   "dataSources": [
    {
     "databundleVersionId": 26502,
     "sourceId": 3136,
     "sourceType": "competition"
    }
   ],
   "dockerImageVersionId": 30786,
   "isGpuEnabled": false,
   "isInternetEnabled": true,
   "language": "python",
   "sourceType": "notebook"
  },
  "kernelspec": {
   "display_name": "Python 3",
   "language": "python",
   "name": "python3"
  },
  "language_info": {
   "codemirror_mode": {
    "name": "ipython",
    "version": 3
   },
   "file_extension": ".py",
   "mimetype": "text/x-python",
   "name": "python",
   "nbconvert_exporter": "python",
   "pygments_lexer": "ipython3",
   "version": "3.10.14"
  },
  "papermill": {
   "default_parameters": {},
   "duration": 53.137921,
   "end_time": "2024-12-07T18:07:17.745255",
   "environment_variables": {},
   "exception": null,
   "input_path": "__notebook__.ipynb",
   "output_path": "__notebook__.ipynb",
   "parameters": {},
   "start_time": "2024-12-07T18:06:24.607334",
   "version": "2.6.0"
  }
 },
 "nbformat": 4,
 "nbformat_minor": 5
}
