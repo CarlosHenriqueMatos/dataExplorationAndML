{
 "cells": [
  {
   "cell_type": "code",
   "execution_count": 1,
   "id": "88b9faaf-caf4-4499-9a00-402047f72d70",
   "metadata": {
    "colab": {
     "base_uri": "https://localhost:8080/"
    },
    "executionInfo": {
     "elapsed": 22779,
     "status": "ok",
     "timestamp": 1740358240247,
     "user": {
      "displayName": "carlos matos",
      "userId": "02219067111046996044"
     },
     "user_tz": 180
    },
    "id": "88b9faaf-caf4-4499-9a00-402047f72d70",
    "outputId": "4de31d32-2b3a-4dcc-c842-9db10f54ef85"
   },
   "outputs": [
    {
     "name": "stdout",
     "output_type": "stream",
     "text": [
      "Collecting SpeechRecognition\n",
      "  Downloading SpeechRecognition-3.14.1-py3-none-any.whl.metadata (31 kB)\n",
      "Requirement already satisfied: typing-extensions in /home/carlos/anaconda3/envs/pytorch/lib/python3.11/site-packages (from SpeechRecognition) (4.12.2)\n",
      "Downloading SpeechRecognition-3.14.1-py3-none-any.whl (32.9 MB)\n",
      "\u001b[2K   \u001b[38;2;114;156;31m━━━━━━━━━━━━━━━━━━━━━━━━━━━━━━━━━━━━━━━━\u001b[0m \u001b[32m32.9/32.9 MB\u001b[0m \u001b[31m18.7 MB/s\u001b[0m eta \u001b[36m0:00:00\u001b[0m MB/s\u001b[0m eta \u001b[36m0:00:01\u001b[0m:01\u001b[0m\n",
      "Installing collected packages: SpeechRecognition\n",
      "Successfully installed SpeechRecognition-3.14.1\n",
      "Collecting gTTS\n",
      "  Downloading gTTS-2.5.4-py3-none-any.whl.metadata (4.1 kB)\n",
      "Requirement already satisfied: requests<3,>=2.27 in /home/carlos/anaconda3/envs/pytorch/lib/python3.11/site-packages (from gTTS) (2.32.3)\n",
      "Requirement already satisfied: click<8.2,>=7.1 in /home/carlos/anaconda3/envs/pytorch/lib/python3.11/site-packages (from gTTS) (8.1.8)\n",
      "Requirement already satisfied: charset_normalizer<4,>=2 in /home/carlos/anaconda3/envs/pytorch/lib/python3.11/site-packages (from requests<3,>=2.27->gTTS) (3.4.1)\n",
      "Requirement already satisfied: idna<4,>=2.5 in /home/carlos/anaconda3/envs/pytorch/lib/python3.11/site-packages (from requests<3,>=2.27->gTTS) (3.10)\n",
      "Requirement already satisfied: urllib3<3,>=1.21.1 in /home/carlos/anaconda3/envs/pytorch/lib/python3.11/site-packages (from requests<3,>=2.27->gTTS) (2.3.0)\n",
      "Requirement already satisfied: certifi>=2017.4.17 in /home/carlos/anaconda3/envs/pytorch/lib/python3.11/site-packages (from requests<3,>=2.27->gTTS) (2025.1.31)\n",
      "Downloading gTTS-2.5.4-py3-none-any.whl (29 kB)\n",
      "Installing collected packages: gTTS\n",
      "Successfully installed gTTS-2.5.4\n",
      "Collecting playsound3\n",
      "  Downloading playsound3-2.5.2-py3-none-any.whl.metadata (4.6 kB)\n",
      "Requirement already satisfied: certifi in /home/carlos/anaconda3/envs/pytorch/lib/python3.11/site-packages (from playsound3) (2025.1.31)\n",
      "Downloading playsound3-2.5.2-py3-none-any.whl (7.1 kB)\n",
      "Installing collected packages: playsound3\n",
      "Successfully installed playsound3-2.5.2\n",
      "Collecting pyjokes\n",
      "  Downloading pyjokes-0.8.3-py3-none-any.whl.metadata (3.4 kB)\n",
      "Downloading pyjokes-0.8.3-py3-none-any.whl (47 kB)\n",
      "Installing collected packages: pyjokes\n",
      "Successfully installed pyjokes-0.8.3\n",
      "Collecting wikipedia\n",
      "  Downloading wikipedia-1.4.0.tar.gz (27 kB)\n",
      "  Preparing metadata (setup.py) ... \u001b[?25ldone\n",
      "\u001b[?25hRequirement already satisfied: beautifulsoup4 in /home/carlos/anaconda3/envs/pytorch/lib/python3.11/site-packages (from wikipedia) (4.12.3)\n",
      "Requirement already satisfied: requests<3.0.0,>=2.0.0 in /home/carlos/anaconda3/envs/pytorch/lib/python3.11/site-packages (from wikipedia) (2.32.3)\n",
      "Requirement already satisfied: charset_normalizer<4,>=2 in /home/carlos/anaconda3/envs/pytorch/lib/python3.11/site-packages (from requests<3.0.0,>=2.0.0->wikipedia) (3.4.1)\n",
      "Requirement already satisfied: idna<4,>=2.5 in /home/carlos/anaconda3/envs/pytorch/lib/python3.11/site-packages (from requests<3.0.0,>=2.0.0->wikipedia) (3.10)\n",
      "Requirement already satisfied: urllib3<3,>=1.21.1 in /home/carlos/anaconda3/envs/pytorch/lib/python3.11/site-packages (from requests<3.0.0,>=2.0.0->wikipedia) (2.3.0)\n",
      "Requirement already satisfied: certifi>=2017.4.17 in /home/carlos/anaconda3/envs/pytorch/lib/python3.11/site-packages (from requests<3.0.0,>=2.0.0->wikipedia) (2025.1.31)\n",
      "Requirement already satisfied: soupsieve>1.2 in /home/carlos/anaconda3/envs/pytorch/lib/python3.11/site-packages (from beautifulsoup4->wikipedia) (2.5)\n",
      "Building wheels for collected packages: wikipedia\n",
      "  Building wheel for wikipedia (setup.py) ... \u001b[?25done\n",
      "\u001b[?25h  Created wheel for wikipedia: filename=wikipedia-1.4.0-py3-none-any.whl size=11679 sha256=98b2f17cc53eca3befc3484961be17d648007addda28745582f4da6c32f60a47\n",
      "  Stored in directory: /home/carlos/.cache/pip/wheels/8f/ab/cb/45ccc40522d3a1c41e1d2ad53b8f33a62f394011ec38cd71c6\n",
      "Successfully built wikipedia\n",
      "Installing collected packages: wikipedia\n",
      "Successfully installed wikipedia-1.4.0\n",
      "Requirement already satisfied: pygame in /home/carlos/anaconda3/envs/pytorch/lib/python3.11/site-packages (2.6.1)\n",
      "Collecting PyAudio\n",
      "  Downloading PyAudio-0.2.14.tar.gz (47 kB)\n",
      "  Installing build dependencies ... \u001b[done\n",
      "\u001b[?25h  Getting requirements to build wheel ... \u001b[?25ldone\n",
      "\u001b[?25h  Preparing metadata (pyproject.toml) ... \u001b[?25ldone\n",
      "\u001b[?25hBuilding wheels for collected packages: PyAudio\n",
      "  Building wheel for PyAudio (pyproject.toml) ... \u001bdone\n",
      "\u001b[?25h  Created wheel for PyAudio: filename=PyAudio-0.2.14-cp311-cp311-linux_x86_64.whl size=27346 sha256=5c2c4857c21bc2d9eb555ab47e279a2e50b8715b265a900afa3ee0103b232629\n",
      "  Stored in directory: /home/carlos/.cache/pip/wheels/80/b1/c1/67e4ef443de2665d86031d4760508094eab5de37d5d64d9c27\n",
      "Successfully built PyAudio\n",
      "Installing collected packages: PyAudio\n",
      "Successfully installed PyAudio-0.2.14\n",
      "Collecting sounddevice\n",
      "  Downloading sounddevice-0.5.1-py3-none-any.whl.metadata (1.4 kB)\n",
      "Requirement already satisfied: CFFI>=1.0 in /home/carlos/anaconda3/envs/pytorch/lib/python3.11/site-packages (from sounddevice) (1.17.1)\n",
      "Requirement already satisfied: pycparser in /home/carlos/anaconda3/envs/pytorch/lib/python3.11/site-packages (from CFFI>=1.0->sounddevice) (2.22)\n",
      "Downloading sounddevice-0.5.1-py3-none-any.whl (32 kB)\n",
      "Installing collected packages: sounddevice\n",
      "Successfully installed sounddevice-0.5.1\n"
     ]
    }
   ],
   "source": [
    "!pip install SpeechRecognition\n",
    "!pip install gTTS\n",
    "!pip install playsound3\n",
    "!pip install pyjokes\n",
    "!pip install wikipedia\n",
    "!pip install pygame\n",
    "!pip install PyAudio\n",
    "!pip install sounddevice"
   ]
  },
  {
   "cell_type": "code",
   "execution_count": 3,
   "id": "2a72b034-858b-40b5-982b-5c3fd89f5fee",
   "metadata": {
    "colab": {
     "base_uri": "https://localhost:8080/",
     "height": 408
    },
    "executionInfo": {
     "elapsed": 53,
     "status": "error",
     "timestamp": 1740358266403,
     "user": {
      "displayName": "carlos matos",
      "userId": "02219067111046996044"
     },
     "user_tz": 180
    },
    "id": "2a72b034-858b-40b5-982b-5c3fd89f5fee",
    "outputId": "1f822b57-c78d-4c6d-8cbe-ecc9890fa408"
   },
   "outputs": [
    {
     "name": "stderr",
     "output_type": "stream",
     "text": [
      "ALSA lib pcm_dsnoop.c:567:(snd_pcm_dsnoop_open) unable to open slave\n",
      "ALSA lib pcm_dmix.c:1000:(snd_pcm_dmix_open) unable to open slave\n",
      "ALSA lib pcm.c:2722:(snd_pcm_open_noupdate) Unknown PCM cards.pcm.rear\n",
      "ALSA lib pcm.c:2722:(snd_pcm_open_noupdate) Unknown PCM cards.pcm.center_lfe\n",
      "ALSA lib pcm.c:2722:(snd_pcm_open_noupdate) Unknown PCM cards.pcm.side\n",
      "ALSA lib dlmisc.c:339:(snd_dlobj_cache_get0) Cannot open shared library libasound_module_pcm_pipewire.so (/home/carlos/anaconda3/envs/pytorch/lib/alsa-lib/libasound_module_pcm_pipewire.so: cannot open shared object file: No such file or directory)\n",
      "ALSA lib dlmisc.c:339:(snd_dlobj_cache_get0) Cannot open shared library libasound_module_pcm_pipewire.so (/home/carlos/anaconda3/envs/pytorch/lib/alsa-lib/libasound_module_pcm_pipewire.so: cannot open shared object file: No such file or directory)\n",
      "ALSA lib pcm_dmix.c:1000:(snd_pcm_dmix_open) unable to open slave\n",
      "ALSA lib dlmisc.c:339:(snd_dlobj_cache_get0) Cannot open shared library libasound_module_pcm_pipewire.so (/home/carlos/anaconda3/envs/pytorch/lib/alsa-lib/libasound_module_pcm_pipewire.so: cannot open shared object file: No such file or directory)\n",
      "ALSA lib dlmisc.c:339:(snd_dlobj_cache_get0) Cannot open shared library libasound_module_pcm_pipewire.so (/home/carlos/anaconda3/envs/pytorch/lib/alsa-lib/libasound_module_pcm_pipewire.so: cannot open shared object file: No such file or directory)\n",
      "ALSA lib pcm_dsnoop.c:567:(snd_pcm_dsnoop_open) unable to open slave\n",
      "ALSA lib pcm_dmix.c:1000:(snd_pcm_dmix_open) unable to open slave\n",
      "ALSA lib pcm.c:2722:(snd_pcm_open_noupdate) Unknown PCM cards.pcm.rear\n",
      "ALSA lib pcm.c:2722:(snd_pcm_open_noupdate) Unknown PCM cards.pcm.center_lfe\n",
      "ALSA lib pcm.c:2722:(snd_pcm_open_noupdate) Unknown PCM cards.pcm.side\n",
      "ALSA lib dlmisc.c:339:(snd_dlobj_cache_get0) Cannot open shared library libasound_module_pcm_pipewire.so (/home/carlos/anaconda3/envs/pytorch/lib/alsa-lib/libasound_module_pcm_pipewire.so: cannot open shared object file: No such file or directory)\n",
      "ALSA lib dlmisc.c:339:(snd_dlobj_cache_get0) Cannot open shared library libasound_module_pcm_pipewire.so (/home/carlos/anaconda3/envs/pytorch/lib/alsa-lib/libasound_module_pcm_pipewire.so: cannot open shared object file: No such file or directory)\n",
      "ALSA lib pcm_dmix.c:1000:(snd_pcm_dmix_open) unable to open slave\n",
      "ALSA lib dlmisc.c:339:(snd_dlobj_cache_get0) Cannot open shared library libasound_module_pcm_pipewire.so (/home/carlos/anaconda3/envs/pytorch/lib/alsa-lib/libasound_module_pcm_pipewire.so: cannot open shared object file: No such file or directory)\n",
      "ALSA lib dlmisc.c:339:(snd_dlobj_cache_get0) Cannot open shared library libasound_module_pcm_pipewire.so (/home/carlos/anaconda3/envs/pytorch/lib/alsa-lib/libasound_module_pcm_pipewire.so: cannot open shared object file: No such file or directory)\n"
     ]
    },
    {
     "name": "stdout",
     "output_type": "stream",
     "text": [
      "Say something:\n"
     ]
    },
    {
     "ename": "WaitTimeoutError",
     "evalue": "listening timed out while waiting for phrase to start",
     "output_type": "error",
     "traceback": [
      "\u001b[0;31m---------------------------------------------------------------------------\u001b[0m",
      "\u001b[0;31mWaitTimeoutError\u001b[0m                          Traceback (most recent call last)",
      "Cell \u001b[0;32mIn[3], line 25\u001b[0m\n\u001b[1;32m     22\u001b[0m         \u001b[38;5;28mprint\u001b[39m(\u001b[38;5;124mf\u001b[39m\u001b[38;5;124m\"\u001b[39m\u001b[38;5;124mError connecting to Google API: \u001b[39m\u001b[38;5;132;01m{\u001b[39;00me\u001b[38;5;132;01m}\u001b[39;00m\u001b[38;5;124m\"\u001b[39m)\n\u001b[1;32m     24\u001b[0m \u001b[38;5;28;01mif\u001b[39;00m \u001b[38;5;18m__name__\u001b[39m \u001b[38;5;241m==\u001b[39m \u001b[38;5;124m\"\u001b[39m\u001b[38;5;124m__main__\u001b[39m\u001b[38;5;124m\"\u001b[39m:\n\u001b[0;32m---> 25\u001b[0m     \u001b[43mspeech_to_text_and_save\u001b[49m\u001b[43m(\u001b[49m\u001b[43m)\u001b[49m\n",
      "Cell \u001b[0;32mIn[3], line 9\u001b[0m, in \u001b[0;36mspeech_to_text_and_save\u001b[0;34m()\u001b[0m\n\u001b[1;32m      7\u001b[0m     \u001b[38;5;28mprint\u001b[39m(\u001b[38;5;124m\"\u001b[39m\u001b[38;5;124mSay something:\u001b[39m\u001b[38;5;124m\"\u001b[39m)\n\u001b[1;32m      8\u001b[0m     recognizer\u001b[38;5;241m.\u001b[39madjust_for_ambient_noise(source)\n\u001b[0;32m----> 9\u001b[0m     audio \u001b[38;5;241m=\u001b[39m \u001b[43mrecognizer\u001b[49m\u001b[38;5;241;43m.\u001b[39;49m\u001b[43mlisten\u001b[49m\u001b[43m(\u001b[49m\u001b[43msource\u001b[49m\u001b[43m,\u001b[49m\u001b[43m \u001b[49m\u001b[43mtimeout\u001b[49m\u001b[38;5;241;43m=\u001b[39;49m\u001b[38;5;241;43m5\u001b[39;49m\u001b[43m)\u001b[49m\n\u001b[1;32m     11\u001b[0m \u001b[38;5;28;01mtry\u001b[39;00m:\n\u001b[1;32m     12\u001b[0m     \u001b[38;5;28mprint\u001b[39m(\u001b[38;5;124m\"\u001b[39m\u001b[38;5;124mRecognizing...\u001b[39m\u001b[38;5;124m\"\u001b[39m)\n",
      "File \u001b[0;32m~/anaconda3/envs/pytorch/lib/python3.11/site-packages/speech_recognition/__init__.py:460\u001b[0m, in \u001b[0;36mRecognizer.listen\u001b[0;34m(self, source, timeout, phrase_time_limit, snowboy_configuration, stream)\u001b[0m\n\u001b[1;32m    458\u001b[0m result \u001b[38;5;241m=\u001b[39m \u001b[38;5;28mself\u001b[39m\u001b[38;5;241m.\u001b[39m_listen(source, timeout, phrase_time_limit, snowboy_configuration, stream)\n\u001b[1;32m    459\u001b[0m \u001b[38;5;28;01mif\u001b[39;00m \u001b[38;5;129;01mnot\u001b[39;00m stream:\n\u001b[0;32m--> 460\u001b[0m \u001b[43m    \u001b[49m\u001b[38;5;28;43;01mfor\u001b[39;49;00m\u001b[43m \u001b[49m\u001b[43ma\u001b[49m\u001b[43m \u001b[49m\u001b[38;5;129;43;01min\u001b[39;49;00m\u001b[43m \u001b[49m\u001b[43mresult\u001b[49m\u001b[43m:\u001b[49m\n\u001b[1;32m    461\u001b[0m \u001b[43m        \u001b[49m\u001b[38;5;28;43;01mreturn\u001b[39;49;00m\u001b[43m \u001b[49m\u001b[43ma\u001b[49m\n\u001b[1;32m    462\u001b[0m \u001b[38;5;28;01mreturn\u001b[39;00m result\n",
      "File \u001b[0;32m~/anaconda3/envs/pytorch/lib/python3.11/site-packages/speech_recognition/__init__.py:490\u001b[0m, in \u001b[0;36mRecognizer._listen\u001b[0;34m(self, source, timeout, phrase_time_limit, snowboy_configuration, stream)\u001b[0m\n\u001b[1;32m    488\u001b[0m elapsed_time \u001b[38;5;241m+\u001b[39m\u001b[38;5;241m=\u001b[39m seconds_per_buffer\n\u001b[1;32m    489\u001b[0m \u001b[38;5;28;01mif\u001b[39;00m timeout \u001b[38;5;129;01mand\u001b[39;00m elapsed_time \u001b[38;5;241m>\u001b[39m timeout:\n\u001b[0;32m--> 490\u001b[0m     \u001b[38;5;28;01mraise\u001b[39;00m WaitTimeoutError(\u001b[38;5;124m\"\u001b[39m\u001b[38;5;124mlistening timed out while waiting for phrase to start\u001b[39m\u001b[38;5;124m\"\u001b[39m)\n\u001b[1;32m    492\u001b[0m buffer \u001b[38;5;241m=\u001b[39m source\u001b[38;5;241m.\u001b[39mstream\u001b[38;5;241m.\u001b[39mread(source\u001b[38;5;241m.\u001b[39mCHUNK)\n\u001b[1;32m    493\u001b[0m \u001b[38;5;28;01mif\u001b[39;00m \u001b[38;5;28mlen\u001b[39m(buffer) \u001b[38;5;241m==\u001b[39m \u001b[38;5;241m0\u001b[39m: \u001b[38;5;28;01mbreak\u001b[39;00m  \u001b[38;5;66;03m# reached end of the stream\u001b[39;00m\n",
      "\u001b[0;31mWaitTimeoutError\u001b[0m: listening timed out while waiting for phrase to start"
     ]
    }
   ],
   "source": [
    "import speech_recognition as sr\n",
    "\n",
    "def speech_to_text_and_save():\n",
    "    recognizer = sr.Recognizer()\n",
    "\n",
    "    with sr.Microphone() as source:\n",
    "        print(\"Say something:\")\n",
    "        recognizer.adjust_for_ambient_noise(source)\n",
    "        audio = recognizer.listen(source, timeout=5)\n",
    "\n",
    "    try:\n",
    "        print(\"Recognizing...\")\n",
    "        text = recognizer.recognize_google(audio)\n",
    "        print(f\"Text: {text}\")\n",
    "\n",
    "        with open(\"transcribed_text.txt\", \"w\") as file:\n",
    "            file.write(text)\n",
    "            print(\"Transcribed text saved to transcribed_text.txt\")\n",
    "    except sr.UnknownValueError:\n",
    "        print(\"Could not understand audio.\")\n",
    "    except sr.RequestError as e:\n",
    "        print(f\"Error connecting to Google API: {e}\")\n",
    "\n",
    "if __name__ == \"__main__\":\n",
    "    speech_to_text_and_save()"
   ]
  },
  {
   "cell_type": "code",
   "execution_count": 5,
   "id": "JFpgDmOlR1PA",
   "metadata": {
    "colab": {
     "base_uri": "https://localhost:8080/",
     "height": 332
    },
    "executionInfo": {
     "elapsed": 333,
     "status": "error",
     "timestamp": 1740355875834,
     "user": {
      "displayName": "carlos matos",
      "userId": "02219067111046996044"
     },
     "user_tz": 180
    },
    "id": "JFpgDmOlR1PA",
    "outputId": "be508019-ed04-4c59-fcf8-403f430acbfc"
   },
   "outputs": [
    {
     "name": "stdout",
     "output_type": "stream",
     "text": [
      "Estou ouvindo...\n"
     ]
    }
   ],
   "source": [
    "# Importação de bibliotecas\n",
    "import speech_recognition as sr\n",
    "from gtts import gTTS\n",
    "import os\n",
    "from datetime import datetime\n",
    "import sounddevice as sd\n",
    "import numpy as np\n",
    "import webbrowser\n",
    "import pyjokes\n",
    "import wikipedia\n",
    "from pygame import mixer\n",
    "import wave\n",
    "\n",
    "# Captura de áudio usando sounddevice\n",
    "def get_audio():\n",
    "    fs = 44100  # Taxa de amostragem\n",
    "    seconds = 5  # Duração da gravação\n",
    "\n",
    "    print(\"Estou ouvindo...\")\n",
    "    recording = sd.rec(int(seconds * fs), samplerate=fs, channels=1, dtype=np.int16)\n",
    "    sd.wait()\n",
    "\n",
    "    filename = \"audio.wav\"\n",
    "    with wave.open(filename, 'wb') as wf:\n",
    "        wf.setnchannels(1)\n",
    "        wf.setsampwidth(2)\n",
    "        wf.setframerate(fs)\n",
    "        wf.writeframes(recording.tobytes())\n",
    "\n",
    "    r = sr.Recognizer()\n",
    "    with sr.AudioFile(filename) as source:\n",
    "        audio = r.record(source)\n",
    "        said = \"\"\n",
    "        try:\n",
    "            said = r.recognize_google(audio)\n",
    "            print(said)\n",
    "        except sr.UnknownValueError:\n",
    "            speak(\"Desculpe, não entendi.\")\n",
    "        except sr.RequestError:\n",
    "            speak(\"O serviço não está disponível.\")\n",
    "\n",
    "    return said.lower()\n",
    "\n",
    "# Função para converter texto em fala\n",
    "def speak(text):\n",
    "    tts = gTTS(text=text, lang='en')\n",
    "    filename = \"voice.mp3\"\n",
    "    try:\n",
    "        os.remove(filename)\n",
    "    except OSError:\n",
    "        pass\n",
    "    tts.save(filename)\n",
    "    mixer.init()\n",
    "    mixer.music.load(filename)\n",
    "    mixer.music.play()\n",
    "\n",
    "# Função para responder comandos\n",
    "def respond(text):\n",
    "    print(\"Texto reconhecido: \" + text)\n",
    "    if 'youtube' in text:\n",
    "        speak(\"O que você quer pesquisar?\")\n",
    "        keyword = get_audio()\n",
    "        if keyword:\n",
    "            url = f\"https://www.youtube.com/results?search_query={keyword}\"\n",
    "            webbrowser.open(url)\n",
    "            speak(f\"Aqui estão os resultados para {keyword} no YouTube\")\n",
    "    elif 'search' in text:\n",
    "        speak(\"O que você quer pesquisar?\")\n",
    "        query = get_audio()\n",
    "        if query:\n",
    "            result = wikipedia.summary(query, sentences=3)\n",
    "            speak(\"De acordo com a Wikipédia\")\n",
    "            print(result)\n",
    "            speak(result)\n",
    "    elif 'joke' in text:\n",
    "        speak(pyjokes.get_joke())\n",
    "    elif 'what time' in text:\n",
    "        strTime = datetime.today().strftime(\"%H:%M %p\")\n",
    "        print(strTime)\n",
    "        speak(strTime)\n",
    "    elif 'play music' in text or 'play song' in text:\n",
    "        speak(\"Reproduzindo música...\")\n",
    "        music_dir = \"/home/carloshenrique/Documents/Git/dataExplorationAndML/DIO_Course/speechRecognizer\"  # Modifique para seu diretório de músicas\n",
    "        songs = os.listdir(music_dir)\n",
    "        print(songs)\n",
    "        playmusic(music_dir + \"\\\\\" + songs[0])\n",
    "    elif 'stop music' in text:\n",
    "        speak(\"Parando música.\")\n",
    "        stopmusic()\n",
    "    elif 'exit' in text:\n",
    "        speak(\"Até a próxima!\")\n",
    "        exit()\n",
    "\n",
    "# Função para tocar música\n",
    "def playmusic(song):\n",
    "    mixer.init()\n",
    "    mixer.music.load(song)\n",
    "    mixer.music.play()\n",
    "\n",
    "# Função para parar música\n",
    "def stopmusic():\n",
    "    mixer.music.stop()\n",
    "\n",
    "# Execução principal\n",
    "text = get_audio()\n",
    "if text:\n",
    "    respond(text)\n"
   ]
  },
  {
   "cell_type": "code",
   "execution_count": null,
   "id": "MdSTWoA7SjJw",
   "metadata": {
    "colab": {
     "base_uri": "https://localhost:8080/"
    },
    "executionInfo": {
     "elapsed": 2144,
     "status": "ok",
     "timestamp": 1740355846828,
     "user": {
      "displayName": "carlos matos",
      "userId": "02219067111046996044"
     },
     "user_tz": 180
    },
    "id": "MdSTWoA7SjJw",
    "outputId": "dd367904-79f8-4e34-f7f8-cd54a6105755"
   },
   "outputs": [
    {
     "name": "stdout",
     "output_type": "stream",
     "text": [
      "Requirement already satisfied: sounddevice in /usr/local/lib/python3.11/dist-packages (0.5.1)\n",
      "Requirement already satisfied: CFFI>=1.0 in /usr/local/lib/python3.11/dist-packages (from sounddevice) (1.17.1)\n",
      "Requirement already satisfied: pycparser in /usr/local/lib/python3.11/dist-packages (from CFFI>=1.0->sounddevice) (2.22)\n"
     ]
    }
   ],
   "source": []
  },
  {
   "cell_type": "code",
   "execution_count": null,
   "id": "_dyGKqEsSjlV",
   "metadata": {
    "id": "_dyGKqEsSjlV"
   },
   "outputs": [],
   "source": []
  }
 ],
 "metadata": {
  "colab": {
   "provenance": []
  },
  "kernelspec": {
   "display_name": "Python 3 (ipykernel)",
   "language": "python",
   "name": "python3"
  },
  "language_info": {
   "codemirror_mode": {
    "name": "ipython",
    "version": 3
   },
   "file_extension": ".py",
   "mimetype": "text/x-python",
   "name": "python",
   "nbconvert_exporter": "python",
   "pygments_lexer": "ipython3",
   "version": "3.11.8"
  }
 },
 "nbformat": 4,
 "nbformat_minor": 5
}
