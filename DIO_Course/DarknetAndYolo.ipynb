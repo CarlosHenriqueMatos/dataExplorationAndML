{
 "cells": [
  {
   "cell_type": "markdown",
   "metadata": {
    "id": "G4J9sFi39ScM"
   },
   "source": [
    "## STEP 0. Configure runtime to work with GPU\n",
    "\n",
    "We want to use the **12GB-RAM GPU** hardware acceleration!\n",
    "\n",
    "Go to **> Menu > Runtime > Configure Runtime Type** And select **GPU** From the **Hardware accelerator** drop down meu"
   ]
  },
  {
   "cell_type": "code",
   "execution_count": 1,
   "metadata": {},
   "outputs": [],
   "source": [
    "# Disponivel em\n",
    "# https://youtube.com/playlist?list=PLqSRiSjByYuKqUleBDbwjNt5GJLhoae70&si=2mxKTRCsTJszr3k_\n",
    "# O codigo sera adaptado"
   ]
  },
  {
   "cell_type": "code",
   "execution_count": 2,
   "metadata": {},
   "outputs": [
    {
     "name": "stdout",
     "output_type": "stream",
     "text": [
      "fatal: destination path 'OIDv4_ToolKit' already exists and is not an empty directory.\n"
     ]
    }
   ],
   "source": [
    "!git clone https://github.com/EscVM/OIDv4_ToolKit.git"
   ]
  },
  {
   "cell_type": "code",
   "execution_count": 3,
   "metadata": {},
   "outputs": [
    {
     "name": "stdout",
     "output_type": "stream",
     "text": [
      "/home/carlos/Documentos/Git/dataExplorationAndML/DIO_Course/OIDv4_ToolKit\n"
     ]
    }
   ],
   "source": [
    "cd OIDv4_ToolKit/"
   ]
  },
  {
   "cell_type": "code",
   "execution_count": 4,
   "metadata": {},
   "outputs": [],
   "source": [
    "#!pip3 install -r requirements.txt"
   ]
  },
  {
   "cell_type": "code",
   "execution_count": 5,
   "metadata": {},
   "outputs": [
    {
     "name": "stdout",
     "output_type": "stream",
     "text": [
      "\u001b[92m\n",
      "\t\t   ___   _____  ______            _    _    \n",
      "\t\t .'   `.|_   _||_   _ `.         | |  | |   \n",
      "\t\t/  .-.  \\ | |    | | `. \\ _   __ | |__| |_  \n",
      "\t\t| |   | | | |    | |  | |[ \\ [  ]|____   _| \n",
      "\t\t\\  `-'  /_| |_  _| |_.' / \\ \\/ /     _| |_  \n",
      "\t\t `.___.'|_____||______.'   \\__/     |_____|\n",
      "\t\u001b[0m\n",
      "\u001b[92m\n",
      "             _____                    _                 _             \n",
      "            (____ \\                  | |               | |            \n",
      "             _   \\ \\ ___  _ _ _ ____ | | ___   ____  _ | | ____  ____ \n",
      "            | |   | / _ \\| | | |  _ \\| |/ _ \\ / _  |/ || |/ _  )/ ___)\n",
      "            | |__/ / |_| | | | | | | | | |_| ( ( | ( (_| ( (/ /| |    \n",
      "            |_____/ \\___/ \\____|_| |_|_|\\___/ \\_||_|\\____|\\____)_|    \n",
      "                                                          \n",
      "        \u001b[0m\n",
      "    [INFO] | Downloading ['Bird', 'Butterfly', 'Flower'] together.\u001b[0m\n",
      "\n",
      "\u001b[95m--------------------------------------Bird--------------------------------------\u001b[0m\n",
      "    [INFO] | Downloading train images.\u001b[0m\n",
      "    [INFO] | [INFO] Found 18525 online images for train.\u001b[0m\n",
      "    [INFO] | Limiting to 500 images.\u001b[0m\n",
      "    [INFO] | Download of 448 images in train.\u001b[0m\n",
      "100%|█████████████████████████████████████████| 448/448 [01:01<00:00,  7.27it/s]\n",
      "    [INFO] | Done!\u001b[0m\n",
      "    [INFO] | Creating labels for Bird of train.\u001b[0m\n",
      "    [INFO] | Labels creation completed.\u001b[0m\n",
      "\n",
      "\u001b[95m-----------------------------------Butterfly-----------------------------------\u001b[0m\n",
      "    [INFO] | Downloading train images.\u001b[0m\n",
      "    [INFO] | [INFO] Found 4937 online images for train.\u001b[0m\n",
      "    [INFO] | Limiting to 500 images.\u001b[0m\n",
      "    [INFO] | Download of 321 images in train.\u001b[0m\n",
      "100%|█████████████████████████████████████████| 321/321 [00:33<00:00,  9.61it/s]\n",
      "    [INFO] | Done!\u001b[0m\n",
      "    [INFO] | Creating labels for Butterfly of train.\u001b[0m\n",
      "    [INFO] | Labels creation completed.\u001b[0m\n",
      "\n",
      "\u001b[95m-------------------------------------Flower-------------------------------------\u001b[0m\n",
      "    [INFO] | Downloading train images.\u001b[0m\n",
      "    [INFO] | [INFO] Found 62716 online images for train.\u001b[0m\n",
      "    [INFO] | Limiting to 500 images.\u001b[0m\n",
      "    [INFO] | Download of 473 images in train.\u001b[0m\n",
      "^C8%|████████████████████████████████████     | 416/473 [00:42<00:03, 14.67it/s]\n",
      "Traceback (most recent call last):\n",
      "  File \"/home/carlos/anaconda3/envs/pytorch/bin/aws\", line 19, in <module>\n",
      "    import awscli.clidriver\n",
      "\n",
      "  File \"/home/carlos/anaconda3/envs/pytorch/lib/python3.11/site-packages/awscli/clidriver.py\", line 44, in <module>\n",
      "    from awscli.formatter import get_formatter\n",
      "  File \"/home/carlos/anaconda3/envs/pytorch/lib/python3.11/site-packages/awscli/formatter.py\", line 20, in <module>\n",
      "    from awscli.table import ColorizedStyler, MultiTable, Styler\n",
      "  File \"/home/carlos/anaconda3/envs/pytorch/lib/python3.11/site-packages/awscli/table.py\", line 18, in <module>\n",
      "    import colorama\n",
      "  File \"/home/carlos/anaconda3/envs/pytorch/lib/python3.11/site-packages/colorama/__init__.py\", line 2, in <module>\n",
      "fatal error: \n",
      "    from .initialise import init, deinit, reinit, colorama_text, just_fix_windows_console\n",
      "  File \"/home/carlos/anaconda3/envs/pytorch/lib/python3.11/site-packages/colorama/initialise.py\", line 95, in <module>\n",
      "    @contextlib.contextmanager\n",
      "     ^^^^^^^^^^^^^^^^^^^^^^^^^\n",
      "  File \"/home/carlos/anaconda3/envs/pytorch/lib/python3.11/contextlib.py\", line 299, in contextmanager\n",
      "fatal error: \n",
      "fatal error: \n",
      "fatal error: \n",
      "\n",
      "fatal error: \n",
      "fatal error: \n",
      "    @wraps(func)\n",
      "     ^^^^^^^^^^^\n",
      "  File \"/home/carlos/anaconda3/envs/pytorch/lib/python3.11/functools.py\", line 76, in wraps\n",
      "    return partial(update_wrapper, wrapped=wrapped,\n",
      "           ^^^^^^^^^^^^^^^^^^^^^^^^^^^^^^^^^^^^^^^^\n",
      "KeyboardInterrupt\n",
      "cancelled: ctrl-c received\n",
      "cancelled: ctrl-c received\n"
     ]
    }
   ],
   "source": [
    "#!python main.py downloader --classes Bird Butterfly Flower --type_csv train --limit 500 --multiclasses 1 -y"
   ]
  },
  {
   "cell_type": "code",
   "execution_count": 6,
   "metadata": {
    "scrolled": true
   },
   "outputs": [
    {
     "name": "stdout",
     "output_type": "stream",
     "text": [
      "\u001b[92m\n",
      "\t\t   ___   _____  ______            _    _    \n",
      "\t\t .'   `.|_   _||_   _ `.         | |  | |   \n",
      "\t\t/  .-.  \\ | |    | | `. \\ _   __ | |__| |_  \n",
      "\t\t| |   | | | |    | |  | |[ \\ [  ]|____   _| \n",
      "\t\t\\  `-'  /_| |_  _| |_.' / \\ \\/ /     _| |_  \n",
      "\t\t `.___.'|_____||______.'   \\__/     |_____|\n",
      "\t\u001b[0m\n",
      "\u001b[92m\n",
      "             _____                    _                 _             \n",
      "            (____ \\                  | |               | |            \n",
      "             _   \\ \\ ___  _ _ _ ____ | | ___   ____  _ | | ____  ____ \n",
      "            | |   | / _ \\| | | |  _ \\| |/ _ \\ / _  |/ || |/ _  )/ ___)\n",
      "            | |__/ / |_| | | | | | | | | |_| ( ( | ( (_| ( (/ /| |    \n",
      "            |_____/ \\___/ \\____|_| |_|_|\\___/ \\_||_|\\____|\\____)_|    \n",
      "                                                          \n",
      "        \u001b[0m\n",
      "    [INFO] | Downloading ['Bird', 'Butterfly', 'Flower'] together.\u001b[0m\n",
      "\n",
      "\u001b[95m--------------------------------------Bird--------------------------------------\u001b[0m\n",
      "    [INFO] | Downloading test images.\u001b[0m\n",
      "    [INFO] | [INFO] Found 1997 online images for test.\u001b[0m\n",
      "    [INFO] | Limiting to 100 images.\u001b[0m\n",
      "    [INFO] | Download of 82 images in test.\u001b[0m\n",
      "^C5%|███████████████████████▌                   | 45/82 [00:06<00:03, 10.07it/s]\n",
      "\n",
      "\n",
      "Traceback (most recent call last):\n",
      "  File \"/home/carlos/anaconda3/envs/pytorch/bin/aws\", line 19, in <module>\n",
      "Traceback (most recent call last):\n",
      "  File \"/home/carlos/anaconda3/envs/pytorch/bin/aws\", line 19, in <module>\n",
      "    import awscli.clidriver\n",
      "Traceback (most recent call last):\n",
      "  File \"/home/carlos/anaconda3/envs/pytorch/bin/aws\", line 19, in <module>\n",
      "  File \"/home/carlos/anaconda3/envs/pytorch/lib/python3.11/site-packages/awscli/clidriver.py\", line 17, in <module>\n",
      "    import awscli.clidriver\n",
      "  File \"/home/carlos/anaconda3/envs/pytorch/lib/python3.11/site-packages/awscli/clidriver.py\", line 17, in <module>\n",
      "    import botocore.session\n",
      "    import awscli.clidriver\n",
      "  File \"/home/carlos/anaconda3/envs/pytorch/lib/python3.11/site-packages/botocore/session.py\", line 26, in <module>\n",
      "  File \"/home/carlos/anaconda3/envs/pytorch/lib/python3.11/site-packages/awscli/clidriver.py\", line 13, in <module>\n",
      "    import botocore.session\n",
      "  File \"/home/carlos/anaconda3/envs/pytorch/lib/python3.11/site-packages/botocore/session.py\", line 26, in <module>\n",
      "    import logging\n",
      "  File \"/home/carlos/anaconda3/envs/pytorch/lib/python3.11/logging/__init__.py\", line 454, in <module>\n",
      "fatal error: \n",
      "    class StrFormatStyle(PercentStyle):\n",
      "  File \"/home/carlos/anaconda3/envs/pytorch/lib/python3.11/logging/__init__.py\", line 459, in StrFormatStyle\n",
      "    fmt_spec = re.compile(r'^(.?[<>=^])?[+ -]?#?0?(\\d+|{\\w+})?[,_]?(\\.(\\d+|{\\w+}))?[bcdefgnosx%]?$', re.I)\n",
      "               ^^^^^^^^^^^^^^^^^^^^^^^^^^^^^^^^^^^^^^^^^^^^^^^^^^^^^^^^^^^^^^^^^^^^^^^^^^^^^^^^^^^^^^^^^^^\n",
      "  File \"/home/carlos/anaconda3/envs/pytorch/lib/python3.11/re/__init__.py\", line 227, in compile\n",
      "fatal error: \n",
      "fatal error: \n",
      "    import botocore.client\n",
      "  File \"/home/carlos/anaconda3/envs/pytorch/lib/python3.11/site-packages/botocore/client.py\", line 15, in <module>\n",
      "    import botocore.client\n",
      "  File \"/home/carlos/anaconda3/envs/pytorch/lib/python3.11/site-packages/botocore/client.py\", line 15, in <module>\n",
      "    from botocore import waiter, xform_name\n",
      "  File \"/home/carlos/anaconda3/envs/pytorch/lib/python3.11/site-packages/botocore/waiter.py\", line 18, in <module>\n",
      "    from botocore import waiter, xform_name\n",
      "  File \"/home/carlos/anaconda3/envs/pytorch/lib/python3.11/site-packages/botocore/waiter.py\", line 18, in <module>\n",
      "    from botocore.docs.docstring import WaiterDocstring\n",
      "    return _compile(pattern, flags)\n",
      "           ^^^^^^^^^^^^^^^^^^^^^^^^\n",
      "    from botocore.docs.docstring import WaiterDocstring\n",
      "  File \"/home/carlos/anaconda3/envs/pytorch/lib/python3.11/site-packages/botocore/docs/__init__.py\", line 15, in <module>\n",
      "  File \"/home/carlos/anaconda3/envs/pytorch/lib/python3.11/site-packages/botocore/docs/__init__.py\", line 15, in <module>\n",
      "    from botocore.docs.service import ServiceDocumenter\n",
      "  File \"/home/carlos/anaconda3/envs/pytorch/lib/python3.11/site-packages/botocore/docs/service.py\", line 13, in <module>\n",
      "  File \"/home/carlos/anaconda3/envs/pytorch/lib/python3.11/re/__init__.py\", line 294, in _compile\n",
      "    p = _compiler.compile(pattern, flags)\n",
      "    from botocore.docs.service import ServiceDocumenter\n",
      "  File \"/home/carlos/anaconda3/envs/pytorch/lib/python3.11/site-packages/botocore/docs/service.py\", line 13, in <module>\n",
      "    from botocore.docs.bcdoc.restdoc import DocumentStructure\n",
      "  File \"/home/carlos/anaconda3/envs/pytorch/lib/python3.11/site-packages/botocore/docs/bcdoc/restdoc.py\", line 17, in <module>\n",
      "    from botocore.docs.bcdoc.restdoc import DocumentStructure\n",
      "  File \"/home/carlos/anaconda3/envs/pytorch/lib/python3.11/site-packages/botocore/docs/bcdoc/restdoc.py\", line 17, in <module>\n",
      "        ^^^^^^^^^^^^^^^^^^^^^^^^^^^^^^^^^\n",
      "  File \"/home/carlos/anaconda3/envs/pytorch/lib/python3.11/re/_compiler.py\", line 749, in compile\n",
      "    from botocore.compat import OrderedDict\n",
      "  File \"/home/carlos/anaconda3/envs/pytorch/lib/python3.11/site-packages/botocore/compat.py\", line 32, in <module>\n",
      "    from botocore.compat import OrderedDict\n",
      "  File \"/home/carlos/anaconda3/envs/pytorch/lib/python3.11/site-packages/botocore/compat.py\", line 29, in <module>\n",
      "    code = _code(p, flags)\n",
      "           ^^^^^^^^^^^^^^^\n",
      "  File \"/home/carlos/anaconda3/envs/pytorch/lib/python3.11/re/_compiler.py\", line 582, in _code\n",
      "    _compile(code, p.data, flags)\n",
      "    from urllib3 import exceptions\n",
      "  File \"/home/carlos/anaconda3/envs/pytorch/lib/python3.11/site-packages/urllib3/__init__.py\", line 15, in <module>\n",
      "  File \"/home/carlos/anaconda3/envs/pytorch/lib/python3.11/re/_compiler.py\", line 111, in _compile\n",
      "    _compile(code, av[2], flags)\n",
      "  File \"/home/carlos/anaconda3/envs/pytorch/lib/python3.11/re/_compiler.py\", line 86, in _compile\n",
      "    charset, hascased = _optimize_charset(av, iscased, tolower, fixes)\n",
      "                        ^^^^^^^^^^^^^^^^^^^^^^^^^^^^^^^^^^^^^^^^^^^^^^\n",
      "  File \"/home/carlos/anaconda3/envs/pytorch/lib/python3.11/re/_compiler.py\", line 376, in _optimize_charset\n",
      "    data += chunk\n",
      "    ^^^^\n",
      "KeyboardInterrupt\n",
      "    from botocore.vendored import six\n",
      "  File \"/home/carlos/anaconda3/envs/pytorch/lib/python3.11/site-packages/botocore/vendored/six.py\", line 310, in <module>\n",
      "    from ._base_connection import _TYPE_BODY\n",
      "  File \"/home/carlos/anaconda3/envs/pytorch/lib/python3.11/site-packages/urllib3/_base_connection.py\", line 5, in <module>\n",
      "    MovedModule(\"tkinter_tkfiledialog\", \"tkFileDialog\", \"tkinter.filedialog\"),\n",
      "    ^^^^^^^^^^^^^^^^^^^^^^^^^^^^^^^^^^^^^^^^^^^^^^^^^^^^^^^^^^^^^^^^^^^^^^^^^\n",
      "  File \"/home/carlos/anaconda3/envs/pytorch/lib/python3.11/site-packages/botocore/vendored/six.py\", line 111, in __init__\n",
      "    from .util.connection import _TYPE_SOCKET_OPTIONS\n",
      "  File \"/home/carlos/anaconda3/envs/pytorch/lib/python3.11/site-packages/urllib3/util/__init__.py\", line 4, in <module>\n",
      "    super(MovedModule, self).__init__(name)\n",
      "  File \"/home/carlos/anaconda3/envs/pytorch/lib/python3.11/site-packages/botocore/vendored/six.py\", line 93, in __init__\n",
      "    from .connection import is_connection_dropped\n",
      "  File \"/home/carlos/anaconda3/envs/pytorch/lib/python3.11/site-packages/urllib3/util/connection.py\", line 7, in <module>\n",
      "    def __init__(self, name):\n",
      "\n",
      "KeyboardInterrupt\n",
      "    from .timeout import _DEFAULT_TIMEOUT, _TYPE_TIMEOUT\n",
      "  File \"<frozen importlib._bootstrap>\", line 1176, in _find_and_load\n",
      "  File \"<frozen importlib._bootstrap>\", line 1147, in _find_and_load_unlocked\n",
      "  File \"<frozen importlib._bootstrap>\", line 676, in _load_unlocked\n",
      "  File \"<frozen importlib._bootstrap>\", line 579, in module_from_spec\n",
      "  File \"<frozen importlib._bootstrap>\", line 557, in _init_module_attrs\n",
      "KeyboardInterrupt\n",
      "cancelled: ctrl-c received\n"
     ]
    }
   ],
   "source": [
    "!python main.py downloader --classes Bird Butterfly Flower --type_csv test --limit 100 --multiclasses 1 -y"
   ]
  },
  {
   "cell_type": "code",
   "execution_count": 7,
   "metadata": {},
   "outputs": [
    {
     "name": "stdout",
     "output_type": "stream",
     "text": [
      "Bird\n",
      "Butterfly\n",
      "Flower\n"
     ]
    }
   ],
   "source": [
    "!cat classes.txt"
   ]
  },
  {
   "cell_type": "code",
   "execution_count": 8,
   "metadata": {},
   "outputs": [],
   "source": [
    "!echo -e 'Bird\\nButterfly\\nFlower' > classes.txt"
   ]
  },
  {
   "cell_type": "code",
   "execution_count": 9,
   "metadata": {},
   "outputs": [
    {
     "name": "stdout",
     "output_type": "stream",
     "text": [
      "fatal: destination path 'TreinamentoCustomizadoYOLO' already exists and is not an empty directory.\n"
     ]
    }
   ],
   "source": [
    "!git clone -n https://github.com/Hemilibeatriz/TreinamentoCustomizadoYOLO.git"
   ]
  },
  {
   "cell_type": "code",
   "execution_count": 10,
   "metadata": {},
   "outputs": [
    {
     "name": "stdout",
     "output_type": "stream",
     "text": [
      "/home/carlos/Documentos/Git/dataExplorationAndML/DIO_Course/OIDv4_ToolKit/TreinamentoCustomizadoYOLO\n"
     ]
    }
   ],
   "source": [
    "cd TreinamentoCustomizadoYOLO/"
   ]
  },
  {
   "cell_type": "markdown",
   "metadata": {},
   "source": [
    "!git checkout HEAD converter_anotacoes.py"
   ]
  },
  {
   "cell_type": "code",
   "execution_count": 11,
   "metadata": {},
   "outputs": [
    {
     "name": "stdout",
     "output_type": "stream",
     "text": [
      "mv: não foi possível obter estado de 'converter_anotacoes.py': Arquivo ou diretório inexistente\n"
     ]
    }
   ],
   "source": [
    "!mv converter_anotacoes.py /home/carlos/Documentos/Git/dataExplorationAndML/DIO_Course/OIDv4_ToolKit"
   ]
  },
  {
   "cell_type": "code",
   "execution_count": 38,
   "metadata": {},
   "outputs": [
    {
     "name": "stdout",
     "output_type": "stream",
     "text": [
      "python: can't open file '/home/carlos/Documentos/Git/dataExplorationAndML/DIO_Course/OIDv4_ToolKit/TreinamentoCustomizadoYOLO/converter_anotacoes.py': [Errno 2] No such file or directory\n"
     ]
    }
   ],
   "source": [
    "!python converter_anotacoes.py"
   ]
  },
  {
   "cell_type": "code",
   "execution_count": 13,
   "metadata": {},
   "outputs": [
    {
     "name": "stdout",
     "output_type": "stream",
     "text": [
      "[Errno 2] No such file or directory: 'OID/Dataset/train'\n",
      "/home/carlos/Documentos/Git/dataExplorationAndML/DIO_Course/OIDv4_ToolKit/TreinamentoCustomizadoYOLO\n"
     ]
    }
   ],
   "source": [
    "cd OID/Dataset/train"
   ]
  },
  {
   "cell_type": "code",
   "execution_count": 14,
   "metadata": {
    "scrolled": true
   },
   "outputs": [],
   "source": [
    "# * serve para exluir da compactação\n",
    "#!zip -r ../../../obj.zip obj -x obj/label/*"
   ]
  },
  {
   "cell_type": "code",
   "execution_count": 15,
   "metadata": {},
   "outputs": [],
   "source": [
    "#cd ..\n",
    "#cd OID/Dataset/test"
   ]
  },
  {
   "cell_type": "code",
   "execution_count": 16,
   "metadata": {},
   "outputs": [],
   "source": [
    "#cd test"
   ]
  },
  {
   "cell_type": "code",
   "execution_count": 17,
   "metadata": {
    "scrolled": true
   },
   "outputs": [],
   "source": [
    "#!zip -r ../../../valid.zip valid -x valid/label/*"
   ]
  },
  {
   "cell_type": "markdown",
   "metadata": {},
   "source": [
    "# Edição de arquivos de configuração"
   ]
  },
  {
   "cell_type": "code",
   "execution_count": 39,
   "metadata": {},
   "outputs": [
    {
     "name": "stdout",
     "output_type": "stream",
     "text": [
      "fatal: destination path 'darknet' already exists and is not an empty directory.\n"
     ]
    }
   ],
   "source": [
    "!git clone https://github.com/AlexeyAB/darknet"
   ]
  },
  {
   "cell_type": "code",
   "execution_count": 40,
   "metadata": {},
   "outputs": [
    {
     "name": "stdout",
     "output_type": "stream",
     "text": [
      "/home/carlos/Documentos/Git/dataExplorationAndML/DIO_Course/OIDv4_ToolKit/TreinamentoCustomizadoYOLO/darknet\n"
     ]
    }
   ],
   "source": [
    "cd darknet/"
   ]
  },
  {
   "cell_type": "code",
   "execution_count": 41,
   "metadata": {
    "scrolled": true
   },
   "outputs": [
    {
     "name": "stdout",
     "output_type": "stream",
     "text": [
      "chmod +x *.sh\n",
      "g++ -std=c++11 -std=c++11 -Iinclude/ -I3rdparty/stb/include -DOPENCV `pkg-config --cflags opencv4 2> /dev/null || pkg-config --cflags opencv` -DCUDNN -Wall -Wfatal-errors -Wno-unused-result -Wno-unknown-pragmas -fPIC -rdynamic -Ofast -DOPENCV -DCUDNN -I/usr/local/cudnn/include -c ./src/image_opencv.cpp -o obj/image_opencv.o\n",
      "Package opencv was not found in the pkg-config search path.\n",
      "Perhaps you should add the directory containing `opencv.pc'\n",
      "to the PKG_CONFIG_PATH environment variable\n",
      "Package 'opencv' not found\n",
      "\u001b[01m\u001b[K./src/image_opencv.cpp:16:10:\u001b[m\u001b[K \u001b[01;31m\u001b[Kfatal error: \u001b[m\u001b[Kopencv2/core/version.hpp: Arquivo ou diretório inexistente\n",
      "   16 | #include \u001b[01;31m\u001b[K<opencv2/core/version.hpp>\u001b[m\u001b[K\n",
      "      |          \u001b[01;31m\u001b[K^~~~~~~~~~~~~~~~~~~~~~~~~~\u001b[m\u001b[K\n",
      "compilation terminated.\n",
      "make: *** [Makefile:198: obj/image_opencv.o] Error 1\n"
     ]
    }
   ],
   "source": [
    "!make"
   ]
  },
  {
   "cell_type": "code",
   "execution_count": 42,
   "metadata": {},
   "outputs": [],
   "source": [
    "#!cp /home/carlos/Documentos/Git/dataExplorationAndML/DIO_Course/OIDv4_ToolKit/TreinamentoCustomizadoYOLO/darknet/cfg/yolov4.cfg /home/carlos/Documentos/Git/dataExplorationAndML/DIO_Course/OIDv4_ToolKit/TreinamentoCustomizadoYOLO/yolov4_custom.cfg"
   ]
  },
  {
   "cell_type": "code",
   "execution_count": 43,
   "metadata": {},
   "outputs": [],
   "source": [
    "!touch obj.names\n",
    "!touch obj.data"
   ]
  },
  {
   "cell_type": "code",
   "execution_count": 44,
   "metadata": {},
   "outputs": [
    {
     "name": "stdout",
     "output_type": "stream",
     "text": [
      "chmod +x *.sh\n",
      "g++ -std=c++11 -std=c++11 -Iinclude/ -I3rdparty/stb/include -DOPENCV `pkg-config --cflags opencv4 2> /dev/null || pkg-config --cflags opencv` -DCUDNN -Wall -Wfatal-errors -Wno-unused-result -Wno-unknown-pragmas -fPIC -rdynamic -Ofast -DOPENCV -DCUDNN -I/usr/local/cudnn/include -c ./src/image_opencv.cpp -o obj/image_opencv.o\n",
      "Package opencv was not found in the pkg-config search path.\n",
      "Perhaps you should add the directory containing `opencv.pc'\n",
      "to the PKG_CONFIG_PATH environment variable\n",
      "Package 'opencv' not found\n",
      "\u001b[01m\u001b[K./src/image_opencv.cpp:16:10:\u001b[m\u001b[K \u001b[01;31m\u001b[Kfatal error: \u001b[m\u001b[Kopencv2/core/version.hpp: Arquivo ou diretório inexistente\n",
      "   16 | #include \u001b[01;31m\u001b[K<opencv2/core/version.hpp>\u001b[m\u001b[K\n",
      "      |          \u001b[01;31m\u001b[K^~~~~~~~~~~~~~~~~~~~~~~~~~\u001b[m\u001b[K\n",
      "compilation terminated.\n",
      "make: *** [Makefile:198: obj/image_opencv.o] Error 1\n"
     ]
    }
   ],
   "source": [
    "!sed -i \"s/OPENCV=0/OPENCV=1/\" Makefile\n",
    "!sed -i \"s/OPENCV=0/OPENCV=1/\" Makefile\n",
    "!sed -i \"s/CUDNN=0/CUDNN=1/\" Makefile\n",
    "!make"
   ]
  },
  {
   "cell_type": "markdown",
   "metadata": {},
   "source": [
    "# Gerando o arquivo train.txt e test.txt"
   ]
  },
  {
   "cell_type": "code",
   "execution_count": 45,
   "metadata": {},
   "outputs": [
    {
     "name": "stdout",
     "output_type": "stream",
     "text": [
      "/home/carlos/Documentos/Git/dataExplorationAndML/DIO_Course/OIDv4_ToolKit/TreinamentoCustomizadoYOLO\n"
     ]
    }
   ],
   "source": [
    "cd .."
   ]
  },
  {
   "cell_type": "code",
   "execution_count": null,
   "metadata": {},
   "outputs": [
    {
     "name": "stdout",
     "output_type": "stream",
     "text": [
      "Archive:  obj.zip\n",
      "replace ./data/obj/Label/5436657215e5063c.txt? [y]es, [n]o, [A]ll, [N]one, [r]ename: "
     ]
    }
   ],
   "source": [
    "!unzip obj.zip -d ./data"
   ]
  },
  {
   "cell_type": "code",
   "execution_count": null,
   "metadata": {},
   "outputs": [],
   "source": [
    "!unzip valid.zip -d ./data"
   ]
  },
  {
   "cell_type": "code",
   "execution_count": null,
   "metadata": {},
   "outputs": [],
   "source": [
    "cd TreinamentoCustomizadoYOLO/"
   ]
  },
  {
   "cell_type": "code",
   "execution_count": null,
   "metadata": {},
   "outputs": [],
   "source": [
    "!git checkout HEAD gera_train.py"
   ]
  },
  {
   "cell_type": "code",
   "execution_count": null,
   "metadata": {},
   "outputs": [],
   "source": [
    "!git checkout HEAD gera_test.py"
   ]
  },
  {
   "cell_type": "code",
   "execution_count": null,
   "metadata": {},
   "outputs": [],
   "source": [
    "cd TreinamentoCustomizadoYOLO/"
   ]
  },
  {
   "cell_type": "code",
   "execution_count": null,
   "metadata": {},
   "outputs": [],
   "source": [
    "!python gera_train.py"
   ]
  },
  {
   "cell_type": "code",
   "execution_count": null,
   "metadata": {},
   "outputs": [],
   "source": [
    "!python gera_test.py"
   ]
  }
 ],
 "metadata": {
  "accelerator": "GPU",
  "colab": {
   "private_outputs": true,
   "provenance": []
  },
  "kernelspec": {
   "display_name": "Python 3 (ipykernel)",
   "language": "python",
   "name": "python3"
  },
  "language_info": {
   "codemirror_mode": {
    "name": "ipython",
    "version": 3
   },
   "file_extension": ".py",
   "mimetype": "text/x-python",
   "name": "python",
   "nbconvert_exporter": "python",
   "pygments_lexer": "ipython3",
   "version": "3.11.11"
  }
 },
 "nbformat": 4,
 "nbformat_minor": 4
}
