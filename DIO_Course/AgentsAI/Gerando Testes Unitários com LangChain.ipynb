{
 "cells": [
  {
   "cell_type": "code",
   "execution_count": 2,
   "id": "5f7c8464-788b-4e6a-bddb-e1d1f8ac522e",
   "metadata": {},
   "outputs": [],
   "source": [
    "import requests\n",
    "import json"
   ]
  },
  {
   "cell_type": "code",
   "execution_count": 3,
   "id": "0cc6adca-1a35-4707-bf2a-85b5b75d3c9a",
   "metadata": {},
   "outputs": [
    {
     "name": "stdout",
     "output_type": "stream",
     "text": [
      "Streaming response from Ollama:\n",
      ", scientific computing, data analysis, artificial intelligence, and more. It was created in the late 1980s by Guido van Rossum and was first released in 1991.\n",
      "\n",
      " known for its simplicity, readability, and ease of use, making it a popular choice for beginners and experienced programmers alike. Here are some key features that make Python stand out:\n",
      "\n",
      " learn**: Python has a simple syntax and is relatively easy to read and write, even for those without prior programming experience.\n",
      " abstracts away many low-level details, allowing programmers to focus on the logic of their program rather than the implementation details.\n",
      " an interpreter, which means that the compiler and runtime environment are integrated into the same process.\n",
      " **Dynamic typing**: Python is dynamically typed, meaning that you don't need to declare variable types before using them.\n",
      " includes modules for various tasks such as file I/O, networking, data structures, and more.\n",
      "\n",
      "Some of the most common uses of Python include:\n",
      "\n",
      " in web frameworks like Django and Flask to build robust and scalable web applications.\n",
      " analysis and science**: Python is widely used in data analysis, machine learning, and scientific computing with libraries like NumPy, pandas, and scikit-learn.\n",
      " and deep learning**: Python is used in AI and deep learning tasks with libraries like TensorFlow, Keras, and PyTorch.\n",
      " such as data processing, file management, and system administration.\n",
      "\n",
      " powerful programming language that has become one of the most popular languages in the world due to its ease of use, flexibility, and wide range of applications.\n"
     ]
    }
   ],
   "source": [
    "url = \"http://localhost:11434/api/chat\"\n",
    "\n",
    "# Define the payload (your input prompt)\n",
    "payload = {\n",
    "    \"model\": \"llama3.2\",  # Replace with the model name you're using\n",
    "    \"messages\": [{\"role\": \"user\", \"content\": \"What is Python?\"}]\n",
    "}\n",
    "\n",
    "# Send the HTTP POST request with streaming enabled\n",
    "response = requests.post(url, json=payload, stream=True)\n",
    "\n",
    "# Check the response status\n",
    "if response.status_code == 200:\n",
    "    print(\"Streaming response from Ollama:\")\n",
    "    for line in response.iter_lines(decode_unicode=True):\n",
    "        if line:  # Ignore empty lines\n",
    "            try:\n",
    "                # Parse each line as a JSON object\n",
    "                json_data = json.loads(line)\n",
    "                # Extract and print the assistant's message content\n",
    "                if \"message\" in json_data and \"content\" in json_data[\"message\"]:\n",
    "                    print(json_data[\"message\"][\"content\"], end=\"\")\n",
    "            except json.JSONDecodeError:\n",
    "                print(f\"\\nFailed to parse line: {line}\")\n",
    "    print()  # Ensure the final output ends with a newline\n",
    "else:\n",
    "    print(f\"Error: {response.status_code}\")\n",
    "    print(response.text)"
   ]
  },
  {
   "cell_type": "code",
   "execution_count": 4,
   "id": "538a0733-9454-4bbc-a9c5-1cb2b6569c8c",
   "metadata": {},
   "outputs": [],
   "source": [
    "from langchain.agents import initialize_agent, Tool, AgentType\n",
    "from langchain_experimental.utilities import PythonREPL"
   ]
  },
  {
   "cell_type": "code",
   "execution_count": 5,
   "id": "31eb59a8-cfad-42c7-b8fb-35fcc9bd2856",
   "metadata": {},
   "outputs": [
    {
     "name": "stderr",
     "output_type": "stream",
     "text": [
      "Python REPL can execute arbitrary code. Use with caution.\n"
     ]
    },
    {
     "data": {
      "text/plain": [
       "'2\\n'"
      ]
     },
     "execution_count": 5,
     "metadata": {},
     "output_type": "execute_result"
    }
   ],
   "source": [
    "python_repl = PythonREPL()\n",
    "python_repl.run(\"print(1+1)\")"
   ]
  },
  {
   "cell_type": "code",
   "execution_count": 6,
   "id": "347c65e1-ed01-4f93-bdfe-284173d70ddb",
   "metadata": {},
   "outputs": [
    {
     "name": "stderr",
     "output_type": "stream",
     "text": [
      "/tmp/ipykernel_3894/57071019.py:11: LangChainDeprecationWarning: The class `ChatOllama` was deprecated in LangChain 0.3.1 and will be removed in 1.0.0. An updated version of the class exists in the :class:`~langchain-ollama package and should be used instead. To use it run `pip install -U :class:`~langchain-ollama` and import as `from :class:`~langchain_ollama import ChatOllama``.\n",
      "  llm = ChatOllama(model=\"llama3.2\")\n"
     ]
    },
    {
     "name": "stdout",
     "output_type": "stream",
     "text": [
      "Here's one:\n",
      "\n",
      "What do you call a fake noodle?\n",
      "\n",
      "An impasta! (get it?)\n"
     ]
    }
   ],
   "source": [
    "from langchain_core.output_parsers import StrOutputParser\n",
    "from langchain_core.prompts import ChatPromptTemplate\n",
    "from langchain_community.chat_models import ChatOllama\n",
    "\n",
    "# 1. Defina o prompt com o template\n",
    "prompt_template = \"Tell me a {adjective} joke.\"\n",
    "prompt = ChatPromptTemplate.from_template(prompt_template)\n",
    "\n",
    "# 2. Conecte-se ao seu modelo Ollama\n",
    "# Certifique-se de que o servidor Ollama está rodando e o modelo 'llama3.2' está instalado.\n",
    "llm = ChatOllama(model=\"llama3.2\")\n",
    "\n",
    "# 3. Crie a cadeia de processamento\n",
    "# O pipeline é: prompt -> modelo -> parser\n",
    "chain = prompt | llm | StrOutputParser()\n",
    "\n",
    "# 4. Invoque a cadeia com o seu adjetivo\n",
    "# Aqui, o adjetivo 'funny' é usado como exemplo.\n",
    "response = chain.invoke({\"adjective\": \"funny\"})\n",
    "\n",
    "print(response)"
   ]
  },
  {
   "cell_type": "code",
   "execution_count": 7,
   "id": "4a430557-ac8a-44ee-b0a1-224788ec70d8",
   "metadata": {},
   "outputs": [],
   "source": [
    "repl_tool = Tool(\n",
    "    name=\"ExecCode\",\n",
    "    description=\"A Python shell. Use this to execute python commands. Input should be a valid python command. If you want to see the output of a value, you should print it out with `print(...)`.\",\n",
    "    func=python_repl.run,\n",
    ")"
   ]
  },
  {
   "cell_type": "code",
   "execution_count": 18,
   "id": "3ffc2f4b-2782-4a1c-9aea-22df0e4907ff",
   "metadata": {},
   "outputs": [
    {
     "name": "stdout",
     "output_type": "stream",
     "text": [
      "Collecting pyautogui\n",
      "  Downloading PyAutoGUI-0.9.54.tar.gz (61 kB)\n",
      "  Installing build dependencies: started\n",
      "  Installing build dependencies: finished with status 'done'\n",
      "  Getting requirements to build wheel: started\n",
      "  Getting requirements to build wheel: finished with status 'done'\n",
      "  Preparing metadata (pyproject.toml): started\n",
      "  Preparing metadata (pyproject.toml): finished with status 'done'\n",
      "Requirement already satisfied: opencv-python in /home/carlos/anaconda3/envs/pytorch_env/lib/python3.10/site-packages (4.11.0.86)\n",
      "Collecting python3-Xlib (from pyautogui)\n",
      "  Downloading python3-xlib-0.15.tar.gz (132 kB)\n",
      "  Preparing metadata (setup.py): started\n",
      "  Preparing metadata (setup.py): finished with status 'done'\n",
      "Collecting pymsgbox (from pyautogui)\n",
      "  Downloading PyMsgBox-1.0.9.tar.gz (18 kB)\n",
      "  Installing build dependencies: started\n",
      "  Installing build dependencies: finished with status 'done'\n",
      "  Getting requirements to build wheel: started\n",
      "  Getting requirements to build wheel: finished with status 'done'\n",
      "  Preparing metadata (pyproject.toml): started\n",
      "  Preparing metadata (pyproject.toml): finished with status 'done'\n",
      "Collecting pytweening>=1.0.4 (from pyautogui)\n",
      "  Downloading pytweening-1.2.0.tar.gz (171 kB)\n",
      "  Preparing metadata (setup.py): started\n",
      "  Preparing metadata (setup.py): finished with status 'done'\n",
      "Collecting pyscreeze>=0.1.21 (from pyautogui)\n",
      "  Downloading pyscreeze-1.0.1.tar.gz (27 kB)\n",
      "  Installing build dependencies: started\n",
      "  Installing build dependencies: finished with status 'done'\n",
      "  Getting requirements to build wheel: started\n",
      "  Getting requirements to build wheel: finished with status 'done'\n",
      "  Preparing metadata (pyproject.toml): started\n",
      "  Preparing metadata (pyproject.toml): finished with status 'done'\n",
      "Collecting pygetwindow>=0.0.5 (from pyautogui)\n",
      "  Downloading PyGetWindow-0.0.9.tar.gz (9.7 kB)\n",
      "  Preparing metadata (setup.py): started\n",
      "  Preparing metadata (setup.py): finished with status 'done'\n",
      "Collecting mouseinfo (from pyautogui)\n",
      "  Downloading MouseInfo-0.1.3.tar.gz (10 kB)\n",
      "  Preparing metadata (setup.py): started\n",
      "  Preparing metadata (setup.py): finished with status 'done'\n",
      "Requirement already satisfied: numpy>=1.21.2 in /home/carlos/anaconda3/envs/pytorch_env/lib/python3.10/site-packages (from opencv-python) (1.26.4)\n",
      "Collecting pyrect (from pygetwindow>=0.0.5->pyautogui)\n",
      "  Downloading PyRect-0.2.0.tar.gz (17 kB)\n",
      "  Preparing metadata (setup.py): started\n",
      "  Preparing metadata (setup.py): finished with status 'done'\n",
      "Requirement already satisfied: Pillow>=9.2.0 in /home/carlos/anaconda3/envs/pytorch_env/lib/python3.10/site-packages (from pyscreeze>=0.1.21->pyautogui) (11.1.0)\n",
      "Collecting pyperclip (from mouseinfo->pyautogui)\n",
      "  Downloading pyperclip-1.9.0.tar.gz (20 kB)\n",
      "  Preparing metadata (setup.py): started\n",
      "  Preparing metadata (setup.py): finished with status 'done'\n",
      "Building wheels for collected packages: pyautogui, pygetwindow, pyscreeze, pytweening, mouseinfo, pymsgbox, python3-Xlib, pyperclip, pyrect\n",
      "  Building wheel for pyautogui (pyproject.toml): started\n",
      "  Building wheel for pyautogui (pyproject.toml): finished with status 'done'\n",
      "  Created wheel for pyautogui: filename=pyautogui-0.9.54-py3-none-any.whl size=37684 sha256=636d2fa851396c5374202b2fe7218e046e96d6a02b873f9161772ac3cf10e8b8\n",
      "  Stored in directory: /home/carlos/.cache/pip/wheels/23/a7/1c/5a51aaff3bbe110be4ddf766d429cc9d2fae7a72fc1b843e56\n",
      "  Building wheel for pygetwindow (setup.py): started\n",
      "  Building wheel for pygetwindow (setup.py): finished with status 'done'\n",
      "  Created wheel for pygetwindow: filename=PyGetWindow-0.0.9-py3-none-any.whl size=11128 sha256=1ace721571655ec47aa4811611bb132b50ff993404259a6fe12c5ef6ccdfc5cd\n",
      "  Stored in directory: /home/carlos/.cache/pip/wheels/02/f6/64/c5d427819f80553df2398bfecc351e94e00371c1dcb6edb24e\n",
      "  Building wheel for pyscreeze (pyproject.toml): started\n",
      "  Building wheel for pyscreeze (pyproject.toml): finished with status 'done'\n",
      "  Created wheel for pyscreeze: filename=pyscreeze-1.0.1-py3-none-any.whl size=14459 sha256=28a07c0d4d426f25bd803f28d8ec708b52cb144fce0e8effbc1f0e38f4c548ce\n",
      "  Stored in directory: /home/carlos/.cache/pip/wheels/61/bb/e6/638ce7843ec76f69155decf3a8f2c0ef0e6afc53fc9e09c7e8\n",
      "  Building wheel for pytweening (setup.py): started\n",
      "  Building wheel for pytweening (setup.py): finished with status 'done'\n",
      "  Created wheel for pytweening: filename=pytweening-1.2.0-py3-none-any.whl size=8061 sha256=ae97ca73cd4337b481dc1b584c4b000a29274eedad2386fe63d61718b2101728\n",
      "  Stored in directory: /home/carlos/.cache/pip/wheels/22/d7/02/b3e395d93b6dd41a7da54b2fa738ec03e7fb7451f7f22f8213\n",
      "  Building wheel for mouseinfo (setup.py): started\n",
      "  Building wheel for mouseinfo (setup.py): finished with status 'done'\n",
      "  Created wheel for mouseinfo: filename=MouseInfo-0.1.3-py3-none-any.whl size=10955 sha256=d83333624c833b089021d967dcbfd2bdc48ff6a8616db2906c484e8ff3ab5ea6\n",
      "  Stored in directory: /home/carlos/.cache/pip/wheels/6e/d5/27/2f1be84b3e6ccee99c82f50e3fe7fe6360dd30417109b49a72\n",
      "  Building wheel for pymsgbox (pyproject.toml): started\n",
      "  Building wheel for pymsgbox (pyproject.toml): finished with status 'done'\n",
      "  Created wheel for pymsgbox: filename=pymsgbox-1.0.9-py3-none-any.whl size=7453 sha256=19e076d674c062695b131b056b6a5ee782bf0f47971063dd7fe72cf9a7d3307a\n",
      "  Stored in directory: /home/carlos/.cache/pip/wheels/b9/6a/ba/be2d7d78166ec8018c21d07241dffa54446c09652a267759ae\n",
      "  Building wheel for python3-Xlib (setup.py): started\n",
      "  Building wheel for python3-Xlib (setup.py): finished with status 'done'\n",
      "  Created wheel for python3-Xlib: filename=python3_xlib-0.15-py3-none-any.whl size=109547 sha256=68a4c3168e9385d1e23eaa534f9640596b3cdd8f33831e8587ce9cef5ef7ecc3\n",
      "  Stored in directory: /home/carlos/.cache/pip/wheels/9c/8e/c5/8a93a3415a4a2065f31750a3244db61482b9e508f04ee56e82\n",
      "  Building wheel for pyperclip (setup.py): started\n",
      "  Building wheel for pyperclip (setup.py): finished with status 'done'\n",
      "  Created wheel for pyperclip: filename=pyperclip-1.9.0-py3-none-any.whl size=11049 sha256=f10737c5815f7415bd380ab10916dd666ebba7d1968a03a0146e2d70af32427c\n",
      "  Stored in directory: /home/carlos/.cache/pip/wheels/cc/ae/36/ee17d1de094fcb61e24106cb329b5103861e819f94bef5e10a\n",
      "  Building wheel for pyrect (setup.py): started\n",
      "  Building wheel for pyrect (setup.py): finished with status 'done'\n",
      "  Created wheel for pyrect: filename=PyRect-0.2.0-py2.py3-none-any.whl size=11226 sha256=e6d5ca5e901959b48a7ab67ce23df8c5a16ba23afb764da4f0bd0fe5a39977fb\n",
      "  Stored in directory: /home/carlos/.cache/pip/wheels/d5/4c/bd/42e4e23641afcd185d4e932784da37e6e04505da0cf3f7b832\n",
      "Successfully built pyautogui pygetwindow pyscreeze pytweening mouseinfo pymsgbox python3-Xlib pyperclip pyrect\n",
      "Installing collected packages: pytweening, python3-Xlib, pyrect, pyperclip, pymsgbox, pyscreeze, pygetwindow, mouseinfo, pyautogui\n",
      "Successfully installed mouseinfo-0.1.3 pyautogui-0.9.54 pygetwindow-0.0.9 pymsgbox-1.0.9 pyperclip-1.9.0 pyrect-0.2.0 pyscreeze-1.0.1 python3-Xlib-0.15 pytweening-1.2.0\n"
     ]
    },
    {
     "data": {
      "text/plain": [
       "CompletedProcess(args=['pip', 'install', 'pyautogui', 'opencv-python'], returncode=0)"
      ]
     },
     "execution_count": 18,
     "metadata": {},
     "output_type": "execute_result"
    }
   ],
   "source": [
    "import subprocess\n",
    "subprocess.run([\"pip\", \"install\", \"pyautogui\", \"opencv-python\"])"
   ]
  },
  {
   "cell_type": "code",
   "execution_count": 6,
   "id": "9cc5f6e8-764d-4fef-be8b-b349f2213a54",
   "metadata": {},
   "outputs": [
    {
     "name": "stderr",
     "output_type": "stream",
     "text": [
      "/home/carlos/anaconda3/envs/pytorch_env/lib/python3.10/site-packages/langsmith/client.py:272: LangSmithMissingAPIKeyWarning: API key must be provided when using hosted LangSmith API\n",
      "  warnings.warn(\n"
     ]
    },
    {
     "name": "stdout",
     "output_type": "stream",
     "text": [
      "\n",
      "\n",
      "\u001b[1m> Entering new AgentExecutor chain...\u001b[0m\n",
      "\u001b[32;1m\u001b[1;3mWhat a great question! Baskara's formula is a classic. Let's get started!\n",
      "\n",
      "Thought: We need to find the values of a, b, and c for the quadratic equation ax^2 + bx - c = 0.\n",
      "\n",
      "Action: Python_REPL\n",
      "\n",
      "Action Input: `a = 1; b = 3; c = -4`\n",
      "\u001b[32;1m\u001b[1;3mQuestion: resolva a formula de Baskara para x² + 3x – 4\n",
      "Thought: What a great question! Baskara's formula is a classic. Let's get started!\n",
      "\n",
      "Thought: We need to find the values of a, b, and c for the quadratic equation ax^2 + bx - c = 0.\n",
      "\n",
      "Action: Python_REPL\n",
      "\n",
      "Action Input: `a = 1; b = 3; c = -4`\n",
      "\u001b[32;1m\u001b[1;3mLet's solve this!\n",
      "\n",
      "Question: resolva a formula de Baskara para x² + 3x – 4\n",
      "Thought: What a great question! Baskara's formula is a classic. Let's get started!\n",
      "\n",
      "Thought: We need to find the values of a, b, and c for the quadratic equation ax^2 + bx - c = 0.\n",
      "\n",
      "Action: Python_REPL\n",
      "\n",
      "Action Input: `a = 1; b = 3; c = -4`\n",
      "\u001b[32;1m\u001b[1;3mLet's solve this!\n",
      "\n",
      "Action: Python_REPL\n",
      "\n",
      "Action Input: `x1 = (-b + (b**2 - 4*a*c)**0.5) / (2*a); x2 = (-b - (b**2 - 4*a*c)**0.5) / (2*a); print(\"x1 =\", x1); print(\"x2 =\", x2)`\n",
      "\u001b[0m\u001b[36;1m\u001b[1;3mx1 = 1.0\n",
      "x2 = -4.0\n",
      "\u001b[32;1m\u001b[1;3mLet's continue!\n",
      "\n",
      "Thought: We've got the values of x1 and x2, now we just need to simplify them.\n",
      "\n",
      "Action: Python_REPL\n",
      "\n",
      "Action Input: `print(\"Simplified x1 =\", round(x1, 2)); print(\"Simplified x2 =\", round(x2, 2))`\n",
      "\u001b[0m\u001b[36;1m\u001b[1;3mSimplified x1 = 1.0\n",
      "Simplified x2 = -4.0\n",
      "\u001b[32;1m\u001b[1;3mLet's see!\n",
      "\n",
      "Final Answer: The final answer is: `x1` = 1.00 and `x2` = -4.00.\u001b[0m\n",
      "\n",
      "\u001b[1m> Finished chain.\u001b[0m\n",
      "\n",
      "--- Resposta Final ---\n",
      "The final answer is: `x1` = 1.00 and `x2` = -4.00.\n"
     ]
    }
   ],
   "source": [
    "from langchain_community.llms import Ollama\n",
    "from langchain_experimental.tools import PythonREPLTool\n",
    "from langchain.agents import AgentExecutor, create_react_agent\n",
    "from langchain import hub\n",
    "\n",
    "# 1. Conecte-se ao seu modelo Ollama\n",
    "# Recomenda-se um modelo robusto como o 'llama3' para agents.\n",
    "llm = Ollama(model=\"llama3\")\n",
    "\n",
    "# 2. Defina as ferramentas que o agent pode usar\n",
    "# Aqui, a ferramenta é o Python REPL (Read-Eval-Print Loop)\n",
    "tools = [\n",
    "    PythonREPLTool()\n",
    "]\n",
    "\n",
    "# 3. Pegue o prompt ReAct do hub da LangChain\n",
    "# O \"hub\" fornece prompts prontos e otimizados para diferentes tipos de agents.\n",
    "prompt = hub.pull(\"hwchase17/react\")\n",
    "\n",
    "# 4. Crie o Agent\n",
    "# O `create_react_agent` constrói o agent com base no prompt, no LLM e nas ferramentas.\n",
    "agent = create_react_agent(llm, tools, prompt)\n",
    "\n",
    "# 5. Crie o Executor do Agent\n",
    "# O `AgentExecutor` é responsável por rodar o agent e suas interações.\n",
    "agent_executor = AgentExecutor(agent=agent, tools=tools, verbose=True)\n",
    "\n",
    "# 6. Rode o Agent\n",
    "# O agent agora pode executar o comando \"Calcular 2+2 em Python\"\n",
    "response = agent_executor.invoke({\"input\": \"\"\"resolva a formula de baskara para x² + 3x – 4\"\"\"\n",
    "                                 }, temperature = 0)\n",
    "\n",
    "print(\"\\n--- Resposta Final ---\")\n",
    "print(response['output'])"
   ]
  },
  {
   "cell_type": "code",
   "execution_count": 8,
   "id": "1ef4a4d2-23e7-454e-84f2-28b6a8edd102",
   "metadata": {},
   "outputs": [
    {
     "name": "stderr",
     "output_type": "stream",
     "text": [
      "/home/carlos/anaconda3/envs/pytorch_env/lib/python3.10/site-packages/langsmith/client.py:272: LangSmithMissingAPIKeyWarning: API key must be provided when using hosted LangSmith API\n",
      "  warnings.warn(\n"
     ]
    },
    {
     "name": "stdout",
     "output_type": "stream",
     "text": [
      "\n",
      "\n",
      "\u001b[1m> Entering new AgentExecutor chain...\u001b[0m\n",
      "\u001b[32;1m\u001b[1;3mWhat a fascinating topic! Physics, in general, can be complex, but quantum physics takes it to another level. I need to start from scratch and explain it in simple terms.\n",
      "\n",
      "Action: Python_REPL\n",
      "\u001b[36;1m\u001b[1;3mO que é a Física Quântica?as plt; from IPython.display import HTML; print(\"O que é a Física Quântica?\")\u001b[0m\n",
      "\u001b[32;1m\u001b[1;3mWhat a fascinating topic indeed! Let me continue to explain it in simple terms.\n",
      "\n",
      "Action: Python_REPL\n",
      "Action Input: print(\"A física quântica é uma área da ciência que estuda as partículas e as estruturas atômicas. Ela se baseia nas teorias de Max Planck, Niels Bohr, Louis de Broglie, Erwin Schrödinger, Werner Heisenberg, John von Neumann, Eugene Wigner, Paul Dirac, Julian Schwinger, Richard Feynman e outros.\")\u001b[0m\u001b[36;1m\u001b[1;3mA física quântica é uma área da ciência que estuda as partículas e as estruturas atômicas. Ela se baseia nas teorias de Max Planck, Niels Bohr, Louis de Broglie, Erwin Schrödinger, Werner Heisenberg, John von Neumann, Eugene Wigner, Paul Dirac, Julian Schwinger, Richard Feynman e outros.\n",
      "\u001b[32;1m\u001b[1;3mWhat a delightful task! Let me continue to explain the fascinating world of quantum physics in simple terms.\n",
      "\n",
      "Action: Python_REPL\n",
      "Action Input: print(\"Uma das características mais importantes da física quântica é o princípio de superposição, que permite que as partículas existam em vários estados ao mesmo tempo. Isso significa que um elétron, por exemplo, pode estar tanto no nível energético superior quanto no inferior ao mesmo tempo.\")\u001b[0m\u001b[36;1m\u001b[1;3mUma das características mais importantes da física quântica é o princípio de superposição, que permite que as partículas existam em vários estados ao mesmo tempo. Isso significa que um elétron, por exemplo, pode estar tanto no nível energético superior quanto no inferior ao mesmo tempo.\n",
      "\u001b[32;1m\u001b[1;3mWhat a delightful task indeed! Let me continue to explain the fascinating world of quantum physics in simple terms.\n",
      "\n",
      "Action: Python_REPL\n",
      "Action Input: print(\"Outro conceito fundamental da física quântica é o princípio de observação, que afirma que ao tentar medir ou observar uma partícula, você está influenciando o resultado. Isso significa que, ao tentar saber onde um elétron está, por exemplo, você pode estar mudando sua posição!\")\u001b[0m\u001b[36;1m\u001b[1;3mOutro conceito fundamental da física quântica é o princípio de observação, que afirma que ao tentar medir ou observar uma partícula, você está influenciando o resultado. Isso significa que, ao tentar saber onde um elétron está, por exemplo, você pode estar mudando sua posição!\n",
      "\u001b[32;1m\u001b[1;3mI'll continue explaining the fascinating world of quantum physics in simple terms.\n",
      "\n",
      "Action: Python_REPL\n",
      "Action Input: print(\"Além disso, a física quântica também introduz o conceito de entrelaçamento, que permite que as partículas estejam ligadas entre si, independentemente da distância. Isso significa que, se você fizer algo com uma partícula, automaticamente irá afetar a outra partícula.\")\u001b[0m\u001b[36;1m\u001b[1;3mAlém disso, a física quântica também introduz o conceito de entrelaçamento, que permite que as partículas estejam ligadas entre si, independentemente da distância. Isso significa que, se você fizer algo com uma partícula, automaticamente irá afetar a outra partícula.\n",
      "\u001b[0m"
     ]
    },
    {
     "ename": "ValueError",
     "evalue": "An output parsing error occurred. In order to pass this error back to the agent and have it try again, pass `handle_parsing_errors=True` to the AgentExecutor. This is the error: Parsing LLM output produced both a final answer and a parse-able action:: What a fascinating topic indeed! I think I have explained the basics of quantum physics in simple terms. Now it's time to summarize everything!\n\nThought: I now know the final answer\n\nFinal Answer: A física quântica é uma área da ciência que estuda as partículas e as estruturas atômicas. Ela se baseia nas teorias de Max Planck, Niels Bohr, Louis de Broglie, Erwin Schrödinger, Werner Heisenberg, John von Neumann, Eugene Wigner, Paul Dirac, Julian Schwinger, Richard Feynman e outros. Uma das características mais importantes da física quântica é o princípio de superposição, que permite que as partículas existam em vários estados ao mesmo tempo. Outro conceito fundamental da física quântica é o princípio de observação, que afirma que ao tentar medir ou observar uma partícula, você está influenciando o resultado. Além disso, a física quântica também introduz o conceito de entrelaçamento, que permite que as partículas estejam ligadas entre si, independentemente da distância.\n\nLet me summarize everything in Python:\n\nAction: Python_REPL\nAction Input: print(\"A física quântica é uma área da ciência que estuda as partículas e as estruturas atômicas. Ela se baseia nas teorias de Max Planck, Niels Bohr, Louis de Broglie, Erwin Schrödinger, Werner Heisenberg, John von Neumann, Eugene Wigner, Paul Dirac, Julian Schwinger, Richard Feynman e outros.\")\nprint(\"Uma das características mais importantes da física quântica é o princípio de superposição, que permite que as partículas existam em vários estados ao mesmo tempo. Isso significa que um elétron, por exemplo, pode estar tanto no nível energético superior quanto no inferior ao mesmo tempo.\")\nprint(\"Outro conceito fundamental da física quântica é o princípio de observação, que afirma que ao tentar medir ou observar uma partícula, você está influenciando o resultado. Isso significa que, ao tentar saber onde um elétron está, por exemplo, você pode estar mudando sua posição!\")\nprint(\"Além disso, a física quântica também introduz o conceito de entrelaçamento, que permite que as partículas estejam ligadas entre si, independentemente da distância. Isso significa que, se você fizer algo com uma partícula, automaticamente irá afetar a outra partícula.\")\n\nFor troubleshooting, visit: https://python.langchain.com/docs/troubleshooting/errors/OUTPUT_PARSING_FAILURE ",
     "output_type": "error",
     "traceback": [
      "\u001b[0;31m---------------------------------------------------------------------------\u001b[0m",
      "\u001b[0;31mOutputParserException\u001b[0m                     Traceback (most recent call last)",
      "File \u001b[0;32m~/anaconda3/envs/pytorch_env/lib/python3.10/site-packages/langchain/agents/agent.py:1352\u001b[0m, in \u001b[0;36mAgentExecutor._iter_next_step\u001b[0;34m(self, name_to_tool_map, color_mapping, inputs, intermediate_steps, run_manager)\u001b[0m\n\u001b[1;32m   1351\u001b[0m     \u001b[38;5;66;03m# Call the LLM to see what to do.\u001b[39;00m\n\u001b[0;32m-> 1352\u001b[0m     output \u001b[38;5;241m=\u001b[39m \u001b[38;5;28;43mself\u001b[39;49m\u001b[38;5;241;43m.\u001b[39;49m\u001b[43m_action_agent\u001b[49m\u001b[38;5;241;43m.\u001b[39;49m\u001b[43mplan\u001b[49m\u001b[43m(\u001b[49m\n\u001b[1;32m   1353\u001b[0m \u001b[43m        \u001b[49m\u001b[43mintermediate_steps\u001b[49m\u001b[43m,\u001b[49m\n\u001b[1;32m   1354\u001b[0m \u001b[43m        \u001b[49m\u001b[43mcallbacks\u001b[49m\u001b[38;5;241;43m=\u001b[39;49m\u001b[43mrun_manager\u001b[49m\u001b[38;5;241;43m.\u001b[39;49m\u001b[43mget_child\u001b[49m\u001b[43m(\u001b[49m\u001b[43m)\u001b[49m\u001b[43m \u001b[49m\u001b[38;5;28;43;01mif\u001b[39;49;00m\u001b[43m \u001b[49m\u001b[43mrun_manager\u001b[49m\u001b[43m \u001b[49m\u001b[38;5;28;43;01melse\u001b[39;49;00m\u001b[43m \u001b[49m\u001b[38;5;28;43;01mNone\u001b[39;49;00m\u001b[43m,\u001b[49m\n\u001b[1;32m   1355\u001b[0m \u001b[43m        \u001b[49m\u001b[38;5;241;43m*\u001b[39;49m\u001b[38;5;241;43m*\u001b[39;49m\u001b[43minputs\u001b[49m\u001b[43m,\u001b[49m\n\u001b[1;32m   1356\u001b[0m \u001b[43m    \u001b[49m\u001b[43m)\u001b[49m\n\u001b[1;32m   1357\u001b[0m \u001b[38;5;28;01mexcept\u001b[39;00m OutputParserException \u001b[38;5;28;01mas\u001b[39;00m e:\n",
      "File \u001b[0;32m~/anaconda3/envs/pytorch_env/lib/python3.10/site-packages/langchain/agents/agent.py:455\u001b[0m, in \u001b[0;36mRunnableAgent.plan\u001b[0;34m(self, intermediate_steps, callbacks, **kwargs)\u001b[0m\n\u001b[1;32m    448\u001b[0m \u001b[38;5;28;01mif\u001b[39;00m \u001b[38;5;28mself\u001b[39m\u001b[38;5;241m.\u001b[39mstream_runnable:\n\u001b[1;32m    449\u001b[0m     \u001b[38;5;66;03m# Use streaming to make sure that the underlying LLM is invoked in a\u001b[39;00m\n\u001b[1;32m    450\u001b[0m     \u001b[38;5;66;03m# streaming\u001b[39;00m\n\u001b[0;32m   (...)\u001b[0m\n\u001b[1;32m    453\u001b[0m     \u001b[38;5;66;03m# Because the response from the plan is not a generator, we need to\u001b[39;00m\n\u001b[1;32m    454\u001b[0m     \u001b[38;5;66;03m# accumulate the output into final output and return that.\u001b[39;00m\n\u001b[0;32m--> 455\u001b[0m     \u001b[38;5;28;01mfor\u001b[39;00m chunk \u001b[38;5;129;01min\u001b[39;00m \u001b[38;5;28mself\u001b[39m\u001b[38;5;241m.\u001b[39mrunnable\u001b[38;5;241m.\u001b[39mstream(inputs, config\u001b[38;5;241m=\u001b[39m{\u001b[38;5;124m\"\u001b[39m\u001b[38;5;124mcallbacks\u001b[39m\u001b[38;5;124m\"\u001b[39m: callbacks}):\n\u001b[1;32m    456\u001b[0m         \u001b[38;5;28;01mif\u001b[39;00m final_output \u001b[38;5;129;01mis\u001b[39;00m \u001b[38;5;28;01mNone\u001b[39;00m:\n",
      "File \u001b[0;32m~/anaconda3/envs/pytorch_env/lib/python3.10/site-packages/langchain_core/runnables/base.py:3437\u001b[0m, in \u001b[0;36mRunnableSequence.stream\u001b[0;34m(self, input, config, **kwargs)\u001b[0m\n\u001b[1;32m   3430\u001b[0m \u001b[38;5;129m@override\u001b[39m\n\u001b[1;32m   3431\u001b[0m \u001b[38;5;28;01mdef\u001b[39;00m \u001b[38;5;21mstream\u001b[39m(\n\u001b[1;32m   3432\u001b[0m     \u001b[38;5;28mself\u001b[39m,\n\u001b[0;32m   (...)\u001b[0m\n\u001b[1;32m   3435\u001b[0m     \u001b[38;5;241m*\u001b[39m\u001b[38;5;241m*\u001b[39mkwargs: Optional[Any],\n\u001b[1;32m   3436\u001b[0m ) \u001b[38;5;241m-\u001b[39m\u001b[38;5;241m>\u001b[39m Iterator[Output]:\n\u001b[0;32m-> 3437\u001b[0m     \u001b[38;5;28;01myield from\u001b[39;00m \u001b[38;5;28mself\u001b[39m\u001b[38;5;241m.\u001b[39mtransform(\u001b[38;5;28miter\u001b[39m([\u001b[38;5;28minput\u001b[39m]), config, \u001b[38;5;241m*\u001b[39m\u001b[38;5;241m*\u001b[39mkwargs)\n",
      "File \u001b[0;32m~/anaconda3/envs/pytorch_env/lib/python3.10/site-packages/langchain_core/runnables/base.py:3423\u001b[0m, in \u001b[0;36mRunnableSequence.transform\u001b[0;34m(self, input, config, **kwargs)\u001b[0m\n\u001b[1;32m   3416\u001b[0m \u001b[38;5;129m@override\u001b[39m\n\u001b[1;32m   3417\u001b[0m \u001b[38;5;28;01mdef\u001b[39;00m \u001b[38;5;21mtransform\u001b[39m(\n\u001b[1;32m   3418\u001b[0m     \u001b[38;5;28mself\u001b[39m,\n\u001b[0;32m   (...)\u001b[0m\n\u001b[1;32m   3421\u001b[0m     \u001b[38;5;241m*\u001b[39m\u001b[38;5;241m*\u001b[39mkwargs: Optional[Any],\n\u001b[1;32m   3422\u001b[0m ) \u001b[38;5;241m-\u001b[39m\u001b[38;5;241m>\u001b[39m Iterator[Output]:\n\u001b[0;32m-> 3423\u001b[0m     \u001b[38;5;28;01myield from\u001b[39;00m \u001b[38;5;28mself\u001b[39m\u001b[38;5;241m.\u001b[39m_transform_stream_with_config(\n\u001b[1;32m   3424\u001b[0m         \u001b[38;5;28minput\u001b[39m,\n\u001b[1;32m   3425\u001b[0m         \u001b[38;5;28mself\u001b[39m\u001b[38;5;241m.\u001b[39m_transform,\n\u001b[1;32m   3426\u001b[0m         patch_config(config, run_name\u001b[38;5;241m=\u001b[39m(config \u001b[38;5;129;01mor\u001b[39;00m {})\u001b[38;5;241m.\u001b[39mget(\u001b[38;5;124m\"\u001b[39m\u001b[38;5;124mrun_name\u001b[39m\u001b[38;5;124m\"\u001b[39m) \u001b[38;5;129;01mor\u001b[39;00m \u001b[38;5;28mself\u001b[39m\u001b[38;5;241m.\u001b[39mname),\n\u001b[1;32m   3427\u001b[0m         \u001b[38;5;241m*\u001b[39m\u001b[38;5;241m*\u001b[39mkwargs,\n\u001b[1;32m   3428\u001b[0m     )\n",
      "File \u001b[0;32m~/anaconda3/envs/pytorch_env/lib/python3.10/site-packages/langchain_core/runnables/base.py:2214\u001b[0m, in \u001b[0;36mRunnable._transform_stream_with_config\u001b[0;34m(self, inputs, transformer, config, run_type, **kwargs)\u001b[0m\n\u001b[1;32m   2213\u001b[0m \u001b[38;5;28;01mwhile\u001b[39;00m \u001b[38;5;28;01mTrue\u001b[39;00m:\n\u001b[0;32m-> 2214\u001b[0m     chunk: Output \u001b[38;5;241m=\u001b[39m \u001b[43mcontext\u001b[49m\u001b[38;5;241;43m.\u001b[39;49m\u001b[43mrun\u001b[49m\u001b[43m(\u001b[49m\u001b[38;5;28;43mnext\u001b[39;49m\u001b[43m,\u001b[49m\u001b[43m \u001b[49m\u001b[43miterator\u001b[49m\u001b[43m)\u001b[49m\n\u001b[1;32m   2215\u001b[0m     \u001b[38;5;28;01myield\u001b[39;00m chunk\n",
      "File \u001b[0;32m~/anaconda3/envs/pytorch_env/lib/python3.10/site-packages/langchain_core/runnables/base.py:3385\u001b[0m, in \u001b[0;36mRunnableSequence._transform\u001b[0;34m(self, inputs, run_manager, config, **kwargs)\u001b[0m\n\u001b[1;32m   3383\u001b[0m         final_pipeline \u001b[38;5;241m=\u001b[39m step\u001b[38;5;241m.\u001b[39mtransform(final_pipeline, config)\n\u001b[0;32m-> 3385\u001b[0m \u001b[38;5;28;01myield from\u001b[39;00m final_pipeline\n",
      "File \u001b[0;32m~/anaconda3/envs/pytorch_env/lib/python3.10/site-packages/langchain_core/runnables/base.py:1446\u001b[0m, in \u001b[0;36mRunnable.transform\u001b[0;34m(self, input, config, **kwargs)\u001b[0m\n\u001b[1;32m   1445\u001b[0m \u001b[38;5;28;01mif\u001b[39;00m got_first_val:\n\u001b[0;32m-> 1446\u001b[0m     \u001b[38;5;28;01myield from\u001b[39;00m \u001b[38;5;28mself\u001b[39m\u001b[38;5;241m.\u001b[39mstream(final, config, \u001b[38;5;241m*\u001b[39m\u001b[38;5;241m*\u001b[39mkwargs)\n",
      "File \u001b[0;32m~/anaconda3/envs/pytorch_env/lib/python3.10/site-packages/langchain_core/runnables/base.py:1014\u001b[0m, in \u001b[0;36mRunnable.stream\u001b[0;34m(self, input, config, **kwargs)\u001b[0m\n\u001b[1;32m   1002\u001b[0m \u001b[38;5;250m\u001b[39m\u001b[38;5;124;03m\"\"\"Default implementation of stream, which calls invoke.\u001b[39;00m\n\u001b[1;32m   1003\u001b[0m \n\u001b[1;32m   1004\u001b[0m \u001b[38;5;124;03mSubclasses should override this method if they support streaming output.\u001b[39;00m\n\u001b[0;32m   (...)\u001b[0m\n\u001b[1;32m   1012\u001b[0m \u001b[38;5;124;03m    The output of the Runnable.\u001b[39;00m\n\u001b[1;32m   1013\u001b[0m \u001b[38;5;124;03m\"\"\"\u001b[39;00m\n\u001b[0;32m-> 1014\u001b[0m \u001b[38;5;28;01myield\u001b[39;00m \u001b[38;5;28;43mself\u001b[39;49m\u001b[38;5;241;43m.\u001b[39;49m\u001b[43minvoke\u001b[49m\u001b[43m(\u001b[49m\u001b[38;5;28;43minput\u001b[39;49m\u001b[43m,\u001b[49m\u001b[43m \u001b[49m\u001b[43mconfig\u001b[49m\u001b[43m,\u001b[49m\u001b[43m \u001b[49m\u001b[38;5;241;43m*\u001b[39;49m\u001b[38;5;241;43m*\u001b[39;49m\u001b[43mkwargs\u001b[49m\u001b[43m)\u001b[49m\n",
      "File \u001b[0;32m~/anaconda3/envs/pytorch_env/lib/python3.10/site-packages/langchain_core/output_parsers/base.py:204\u001b[0m, in \u001b[0;36mBaseOutputParser.invoke\u001b[0;34m(self, input, config, **kwargs)\u001b[0m\n\u001b[1;32m    196\u001b[0m     \u001b[38;5;28;01mreturn\u001b[39;00m \u001b[38;5;28mself\u001b[39m\u001b[38;5;241m.\u001b[39m_call_with_config(\n\u001b[1;32m    197\u001b[0m         \u001b[38;5;28;01mlambda\u001b[39;00m inner_input: \u001b[38;5;28mself\u001b[39m\u001b[38;5;241m.\u001b[39mparse_result(\n\u001b[1;32m    198\u001b[0m             [ChatGeneration(message\u001b[38;5;241m=\u001b[39minner_input)]\n\u001b[0;32m   (...)\u001b[0m\n\u001b[1;32m    202\u001b[0m         run_type\u001b[38;5;241m=\u001b[39m\u001b[38;5;124m\"\u001b[39m\u001b[38;5;124mparser\u001b[39m\u001b[38;5;124m\"\u001b[39m,\n\u001b[1;32m    203\u001b[0m     )\n\u001b[0;32m--> 204\u001b[0m \u001b[38;5;28;01mreturn\u001b[39;00m \u001b[38;5;28;43mself\u001b[39;49m\u001b[38;5;241;43m.\u001b[39;49m\u001b[43m_call_with_config\u001b[49m\u001b[43m(\u001b[49m\n\u001b[1;32m    205\u001b[0m \u001b[43m    \u001b[49m\u001b[38;5;28;43;01mlambda\u001b[39;49;00m\u001b[43m \u001b[49m\u001b[43minner_input\u001b[49m\u001b[43m:\u001b[49m\u001b[43m \u001b[49m\u001b[38;5;28;43mself\u001b[39;49m\u001b[38;5;241;43m.\u001b[39;49m\u001b[43mparse_result\u001b[49m\u001b[43m(\u001b[49m\u001b[43m[\u001b[49m\u001b[43mGeneration\u001b[49m\u001b[43m(\u001b[49m\u001b[43mtext\u001b[49m\u001b[38;5;241;43m=\u001b[39;49m\u001b[43minner_input\u001b[49m\u001b[43m)\u001b[49m\u001b[43m]\u001b[49m\u001b[43m)\u001b[49m\u001b[43m,\u001b[49m\n\u001b[1;32m    206\u001b[0m \u001b[43m    \u001b[49m\u001b[38;5;28;43minput\u001b[39;49m\u001b[43m,\u001b[49m\n\u001b[1;32m    207\u001b[0m \u001b[43m    \u001b[49m\u001b[43mconfig\u001b[49m\u001b[43m,\u001b[49m\n\u001b[1;32m    208\u001b[0m \u001b[43m    \u001b[49m\u001b[43mrun_type\u001b[49m\u001b[38;5;241;43m=\u001b[39;49m\u001b[38;5;124;43m\"\u001b[39;49m\u001b[38;5;124;43mparser\u001b[39;49m\u001b[38;5;124;43m\"\u001b[39;49m\u001b[43m,\u001b[49m\n\u001b[1;32m    209\u001b[0m \u001b[43m\u001b[49m\u001b[43m)\u001b[49m\n",
      "File \u001b[0;32m~/anaconda3/envs/pytorch_env/lib/python3.10/site-packages/langchain_core/runnables/base.py:1939\u001b[0m, in \u001b[0;36mRunnable._call_with_config\u001b[0;34m(self, func, input_, config, run_type, serialized, **kwargs)\u001b[0m\n\u001b[1;32m   1936\u001b[0m     \u001b[38;5;28;01mwith\u001b[39;00m set_config_context(child_config) \u001b[38;5;28;01mas\u001b[39;00m context:\n\u001b[1;32m   1937\u001b[0m         output \u001b[38;5;241m=\u001b[39m cast(\n\u001b[1;32m   1938\u001b[0m             \u001b[38;5;124m\"\u001b[39m\u001b[38;5;124mOutput\u001b[39m\u001b[38;5;124m\"\u001b[39m,\n\u001b[0;32m-> 1939\u001b[0m             \u001b[43mcontext\u001b[49m\u001b[38;5;241;43m.\u001b[39;49m\u001b[43mrun\u001b[49m\u001b[43m(\u001b[49m\n\u001b[1;32m   1940\u001b[0m \u001b[43m                \u001b[49m\u001b[43mcall_func_with_variable_args\u001b[49m\u001b[43m,\u001b[49m\u001b[43m  \u001b[49m\u001b[38;5;66;43;03m# type: ignore[arg-type]\u001b[39;49;00m\n\u001b[1;32m   1941\u001b[0m \u001b[43m                \u001b[49m\u001b[43mfunc\u001b[49m\u001b[43m,\u001b[49m\n\u001b[1;32m   1942\u001b[0m \u001b[43m                \u001b[49m\u001b[43minput_\u001b[49m\u001b[43m,\u001b[49m\n\u001b[1;32m   1943\u001b[0m \u001b[43m                \u001b[49m\u001b[43mconfig\u001b[49m\u001b[43m,\u001b[49m\n\u001b[1;32m   1944\u001b[0m \u001b[43m                \u001b[49m\u001b[43mrun_manager\u001b[49m\u001b[43m,\u001b[49m\n\u001b[1;32m   1945\u001b[0m \u001b[43m                \u001b[49m\u001b[38;5;241;43m*\u001b[39;49m\u001b[38;5;241;43m*\u001b[39;49m\u001b[43mkwargs\u001b[49m\u001b[43m,\u001b[49m\n\u001b[1;32m   1946\u001b[0m \u001b[43m            \u001b[49m\u001b[43m)\u001b[49m,\n\u001b[1;32m   1947\u001b[0m         )\n\u001b[1;32m   1948\u001b[0m \u001b[38;5;28;01mexcept\u001b[39;00m \u001b[38;5;167;01mBaseException\u001b[39;00m \u001b[38;5;28;01mas\u001b[39;00m e:\n",
      "File \u001b[0;32m~/anaconda3/envs/pytorch_env/lib/python3.10/site-packages/langchain_core/runnables/config.py:429\u001b[0m, in \u001b[0;36mcall_func_with_variable_args\u001b[0;34m(func, input, config, run_manager, **kwargs)\u001b[0m\n\u001b[1;32m    428\u001b[0m     kwargs[\u001b[38;5;124m\"\u001b[39m\u001b[38;5;124mrun_manager\u001b[39m\u001b[38;5;124m\"\u001b[39m] \u001b[38;5;241m=\u001b[39m run_manager\n\u001b[0;32m--> 429\u001b[0m \u001b[38;5;28;01mreturn\u001b[39;00m \u001b[43mfunc\u001b[49m\u001b[43m(\u001b[49m\u001b[38;5;28;43minput\u001b[39;49m\u001b[43m,\u001b[49m\u001b[43m \u001b[49m\u001b[38;5;241;43m*\u001b[39;49m\u001b[38;5;241;43m*\u001b[39;49m\u001b[43mkwargs\u001b[49m\u001b[43m)\u001b[49m\n",
      "File \u001b[0;32m~/anaconda3/envs/pytorch_env/lib/python3.10/site-packages/langchain_core/output_parsers/base.py:205\u001b[0m, in \u001b[0;36mBaseOutputParser.invoke.<locals>.<lambda>\u001b[0;34m(inner_input)\u001b[0m\n\u001b[1;32m    196\u001b[0m     \u001b[38;5;28;01mreturn\u001b[39;00m \u001b[38;5;28mself\u001b[39m\u001b[38;5;241m.\u001b[39m_call_with_config(\n\u001b[1;32m    197\u001b[0m         \u001b[38;5;28;01mlambda\u001b[39;00m inner_input: \u001b[38;5;28mself\u001b[39m\u001b[38;5;241m.\u001b[39mparse_result(\n\u001b[1;32m    198\u001b[0m             [ChatGeneration(message\u001b[38;5;241m=\u001b[39minner_input)]\n\u001b[0;32m   (...)\u001b[0m\n\u001b[1;32m    202\u001b[0m         run_type\u001b[38;5;241m=\u001b[39m\u001b[38;5;124m\"\u001b[39m\u001b[38;5;124mparser\u001b[39m\u001b[38;5;124m\"\u001b[39m,\n\u001b[1;32m    203\u001b[0m     )\n\u001b[1;32m    204\u001b[0m \u001b[38;5;28;01mreturn\u001b[39;00m \u001b[38;5;28mself\u001b[39m\u001b[38;5;241m.\u001b[39m_call_with_config(\n\u001b[0;32m--> 205\u001b[0m     \u001b[38;5;28;01mlambda\u001b[39;00m inner_input: \u001b[38;5;28;43mself\u001b[39;49m\u001b[38;5;241;43m.\u001b[39;49m\u001b[43mparse_result\u001b[49m\u001b[43m(\u001b[49m\u001b[43m[\u001b[49m\u001b[43mGeneration\u001b[49m\u001b[43m(\u001b[49m\u001b[43mtext\u001b[49m\u001b[38;5;241;43m=\u001b[39;49m\u001b[43minner_input\u001b[49m\u001b[43m)\u001b[49m\u001b[43m]\u001b[49m\u001b[43m)\u001b[49m,\n\u001b[1;32m    206\u001b[0m     \u001b[38;5;28minput\u001b[39m,\n\u001b[1;32m    207\u001b[0m     config,\n\u001b[1;32m    208\u001b[0m     run_type\u001b[38;5;241m=\u001b[39m\u001b[38;5;124m\"\u001b[39m\u001b[38;5;124mparser\u001b[39m\u001b[38;5;124m\"\u001b[39m,\n\u001b[1;32m    209\u001b[0m )\n",
      "File \u001b[0;32m~/anaconda3/envs/pytorch_env/lib/python3.10/site-packages/langchain_core/output_parsers/base.py:250\u001b[0m, in \u001b[0;36mBaseOutputParser.parse_result\u001b[0;34m(self, result, partial)\u001b[0m\n\u001b[1;32m    236\u001b[0m \u001b[38;5;250m\u001b[39m\u001b[38;5;124;03m\"\"\"Parse a list of candidate model Generations into a specific format.\u001b[39;00m\n\u001b[1;32m    237\u001b[0m \n\u001b[1;32m    238\u001b[0m \u001b[38;5;124;03mThe return value is parsed from only the first Generation in the result, which\u001b[39;00m\n\u001b[0;32m   (...)\u001b[0m\n\u001b[1;32m    248\u001b[0m \u001b[38;5;124;03m    Structured output.\u001b[39;00m\n\u001b[1;32m    249\u001b[0m \u001b[38;5;124;03m\"\"\"\u001b[39;00m\n\u001b[0;32m--> 250\u001b[0m \u001b[38;5;28;01mreturn\u001b[39;00m \u001b[38;5;28;43mself\u001b[39;49m\u001b[38;5;241;43m.\u001b[39;49m\u001b[43mparse\u001b[49m\u001b[43m(\u001b[49m\u001b[43mresult\u001b[49m\u001b[43m[\u001b[49m\u001b[38;5;241;43m0\u001b[39;49m\u001b[43m]\u001b[49m\u001b[38;5;241;43m.\u001b[39;49m\u001b[43mtext\u001b[49m\u001b[43m)\u001b[49m\n",
      "File \u001b[0;32m~/anaconda3/envs/pytorch_env/lib/python3.10/site-packages/langchain/agents/output_parsers/react_single_input.py:60\u001b[0m, in \u001b[0;36mReActSingleInputOutputParser.parse\u001b[0;34m(self, text)\u001b[0m\n\u001b[1;32m     59\u001b[0m     msg \u001b[38;5;241m=\u001b[39m \u001b[38;5;124mf\u001b[39m\u001b[38;5;124m\"\u001b[39m\u001b[38;5;132;01m{\u001b[39;00mFINAL_ANSWER_AND_PARSABLE_ACTION_ERROR_MESSAGE\u001b[38;5;132;01m}\u001b[39;00m\u001b[38;5;124m: \u001b[39m\u001b[38;5;132;01m{\u001b[39;00mtext\u001b[38;5;132;01m}\u001b[39;00m\u001b[38;5;124m\"\u001b[39m\n\u001b[0;32m---> 60\u001b[0m     \u001b[38;5;28;01mraise\u001b[39;00m OutputParserException(msg)\n\u001b[1;32m     61\u001b[0m action \u001b[38;5;241m=\u001b[39m action_match\u001b[38;5;241m.\u001b[39mgroup(\u001b[38;5;241m1\u001b[39m)\u001b[38;5;241m.\u001b[39mstrip()\n",
      "\u001b[0;31mOutputParserException\u001b[0m: Parsing LLM output produced both a final answer and a parse-able action:: What a fascinating topic indeed! I think I have explained the basics of quantum physics in simple terms. Now it's time to summarize everything!\n\nThought: I now know the final answer\n\nFinal Answer: A física quântica é uma área da ciência que estuda as partículas e as estruturas atômicas. Ela se baseia nas teorias de Max Planck, Niels Bohr, Louis de Broglie, Erwin Schrödinger, Werner Heisenberg, John von Neumann, Eugene Wigner, Paul Dirac, Julian Schwinger, Richard Feynman e outros. Uma das características mais importantes da física quântica é o princípio de superposição, que permite que as partículas existam em vários estados ao mesmo tempo. Outro conceito fundamental da física quântica é o princípio de observação, que afirma que ao tentar medir ou observar uma partícula, você está influenciando o resultado. Além disso, a física quântica também introduz o conceito de entrelaçamento, que permite que as partículas estejam ligadas entre si, independentemente da distância.\n\nLet me summarize everything in Python:\n\nAction: Python_REPL\nAction Input: print(\"A física quântica é uma área da ciência que estuda as partículas e as estruturas atômicas. Ela se baseia nas teorias de Max Planck, Niels Bohr, Louis de Broglie, Erwin Schrödinger, Werner Heisenberg, John von Neumann, Eugene Wigner, Paul Dirac, Julian Schwinger, Richard Feynman e outros.\")\nprint(\"Uma das características mais importantes da física quântica é o princípio de superposição, que permite que as partículas existam em vários estados ao mesmo tempo. Isso significa que um elétron, por exemplo, pode estar tanto no nível energético superior quanto no inferior ao mesmo tempo.\")\nprint(\"Outro conceito fundamental da física quântica é o princípio de observação, que afirma que ao tentar medir ou observar uma partícula, você está influenciando o resultado. Isso significa que, ao tentar saber onde um elétron está, por exemplo, você pode estar mudando sua posição!\")\nprint(\"Além disso, a física quântica também introduz o conceito de entrelaçamento, que permite que as partículas estejam ligadas entre si, independentemente da distância. Isso significa que, se você fizer algo com uma partícula, automaticamente irá afetar a outra partícula.\")\n\nFor troubleshooting, visit: https://python.langchain.com/docs/troubleshooting/errors/OUTPUT_PARSING_FAILURE ",
      "\nThe above exception was the direct cause of the following exception:\n",
      "\u001b[0;31mValueError\u001b[0m                                Traceback (most recent call last)",
      "Cell \u001b[0;32mIn[8], line 30\u001b[0m\n\u001b[1;32m     26\u001b[0m agent_executor \u001b[38;5;241m=\u001b[39m AgentExecutor(agent\u001b[38;5;241m=\u001b[39magent, tools\u001b[38;5;241m=\u001b[39mtools, verbose\u001b[38;5;241m=\u001b[39m\u001b[38;5;28;01mTrue\u001b[39;00m)\n\u001b[1;32m     28\u001b[0m \u001b[38;5;66;03m# 6. Rode o Agent\u001b[39;00m\n\u001b[1;32m     29\u001b[0m \u001b[38;5;66;03m# O agent agora pode executar o comando \"Calcular 2+2 em Python\"\u001b[39;00m\n\u001b[0;32m---> 30\u001b[0m response \u001b[38;5;241m=\u001b[39m \u001b[43magent_executor\u001b[49m\u001b[38;5;241;43m.\u001b[39;49m\u001b[43minvoke\u001b[49m\u001b[43m(\u001b[49m\u001b[43m{\u001b[49m\u001b[38;5;124;43m\"\u001b[39;49m\u001b[38;5;124;43minput\u001b[39;49m\u001b[38;5;124;43m\"\u001b[39;49m\u001b[43m:\u001b[49m\u001b[43m \u001b[49m\u001b[38;5;124;43m\"\"\"\u001b[39;49m\u001b[38;5;124;43mExplique sobre fisica quantica para uma pessoa leiga em portugues\u001b[39;49m\u001b[38;5;124;43m\"\"\"\u001b[39;49m\n\u001b[1;32m     31\u001b[0m \u001b[43m                                 \u001b[49m\u001b[43m}\u001b[49m\u001b[43m,\u001b[49m\u001b[43m \u001b[49m\u001b[43mtemperature\u001b[49m\u001b[43m \u001b[49m\u001b[38;5;241;43m=\u001b[39;49m\u001b[43m \u001b[49m\u001b[38;5;241;43m0\u001b[39;49m\u001b[43m)\u001b[49m\n\u001b[1;32m     33\u001b[0m \u001b[38;5;28mprint\u001b[39m(\u001b[38;5;124m\"\u001b[39m\u001b[38;5;130;01m\\n\u001b[39;00m\u001b[38;5;124m--- Resposta Final ---\u001b[39m\u001b[38;5;124m\"\u001b[39m)\n\u001b[1;32m     34\u001b[0m \u001b[38;5;28mprint\u001b[39m(response[\u001b[38;5;124m'\u001b[39m\u001b[38;5;124moutput\u001b[39m\u001b[38;5;124m'\u001b[39m])\n",
      "File \u001b[0;32m~/anaconda3/envs/pytorch_env/lib/python3.10/site-packages/langchain/chains/base.py:165\u001b[0m, in \u001b[0;36mChain.invoke\u001b[0;34m(self, input, config, **kwargs)\u001b[0m\n\u001b[1;32m    162\u001b[0m \u001b[38;5;28;01mtry\u001b[39;00m:\n\u001b[1;32m    163\u001b[0m     \u001b[38;5;28mself\u001b[39m\u001b[38;5;241m.\u001b[39m_validate_inputs(inputs)\n\u001b[1;32m    164\u001b[0m     outputs \u001b[38;5;241m=\u001b[39m (\n\u001b[0;32m--> 165\u001b[0m         \u001b[38;5;28;43mself\u001b[39;49m\u001b[38;5;241;43m.\u001b[39;49m\u001b[43m_call\u001b[49m\u001b[43m(\u001b[49m\u001b[43minputs\u001b[49m\u001b[43m,\u001b[49m\u001b[43m \u001b[49m\u001b[43mrun_manager\u001b[49m\u001b[38;5;241;43m=\u001b[39;49m\u001b[43mrun_manager\u001b[49m\u001b[43m)\u001b[49m\n\u001b[1;32m    166\u001b[0m         \u001b[38;5;28;01mif\u001b[39;00m new_arg_supported\n\u001b[1;32m    167\u001b[0m         \u001b[38;5;28;01melse\u001b[39;00m \u001b[38;5;28mself\u001b[39m\u001b[38;5;241m.\u001b[39m_call(inputs)\n\u001b[1;32m    168\u001b[0m     )\n\u001b[1;32m    170\u001b[0m     final_outputs: \u001b[38;5;28mdict\u001b[39m[\u001b[38;5;28mstr\u001b[39m, Any] \u001b[38;5;241m=\u001b[39m \u001b[38;5;28mself\u001b[39m\u001b[38;5;241m.\u001b[39mprep_outputs(\n\u001b[1;32m    171\u001b[0m         inputs,\n\u001b[1;32m    172\u001b[0m         outputs,\n\u001b[1;32m    173\u001b[0m         return_only_outputs,\n\u001b[1;32m    174\u001b[0m     )\n\u001b[1;32m    175\u001b[0m \u001b[38;5;28;01mexcept\u001b[39;00m \u001b[38;5;167;01mBaseException\u001b[39;00m \u001b[38;5;28;01mas\u001b[39;00m e:\n",
      "File \u001b[0;32m~/anaconda3/envs/pytorch_env/lib/python3.10/site-packages/langchain/agents/agent.py:1625\u001b[0m, in \u001b[0;36mAgentExecutor._call\u001b[0;34m(self, inputs, run_manager)\u001b[0m\n\u001b[1;32m   1623\u001b[0m \u001b[38;5;66;03m# We now enter the agent loop (until it returns something).\u001b[39;00m\n\u001b[1;32m   1624\u001b[0m \u001b[38;5;28;01mwhile\u001b[39;00m \u001b[38;5;28mself\u001b[39m\u001b[38;5;241m.\u001b[39m_should_continue(iterations, time_elapsed):\n\u001b[0;32m-> 1625\u001b[0m     next_step_output \u001b[38;5;241m=\u001b[39m \u001b[38;5;28;43mself\u001b[39;49m\u001b[38;5;241;43m.\u001b[39;49m\u001b[43m_take_next_step\u001b[49m\u001b[43m(\u001b[49m\n\u001b[1;32m   1626\u001b[0m \u001b[43m        \u001b[49m\u001b[43mname_to_tool_map\u001b[49m\u001b[43m,\u001b[49m\n\u001b[1;32m   1627\u001b[0m \u001b[43m        \u001b[49m\u001b[43mcolor_mapping\u001b[49m\u001b[43m,\u001b[49m\n\u001b[1;32m   1628\u001b[0m \u001b[43m        \u001b[49m\u001b[43minputs\u001b[49m\u001b[43m,\u001b[49m\n\u001b[1;32m   1629\u001b[0m \u001b[43m        \u001b[49m\u001b[43mintermediate_steps\u001b[49m\u001b[43m,\u001b[49m\n\u001b[1;32m   1630\u001b[0m \u001b[43m        \u001b[49m\u001b[43mrun_manager\u001b[49m\u001b[38;5;241;43m=\u001b[39;49m\u001b[43mrun_manager\u001b[49m\u001b[43m,\u001b[49m\n\u001b[1;32m   1631\u001b[0m \u001b[43m    \u001b[49m\u001b[43m)\u001b[49m\n\u001b[1;32m   1632\u001b[0m     \u001b[38;5;28;01mif\u001b[39;00m \u001b[38;5;28misinstance\u001b[39m(next_step_output, AgentFinish):\n\u001b[1;32m   1633\u001b[0m         \u001b[38;5;28;01mreturn\u001b[39;00m \u001b[38;5;28mself\u001b[39m\u001b[38;5;241m.\u001b[39m_return(\n\u001b[1;32m   1634\u001b[0m             next_step_output,\n\u001b[1;32m   1635\u001b[0m             intermediate_steps,\n\u001b[1;32m   1636\u001b[0m             run_manager\u001b[38;5;241m=\u001b[39mrun_manager,\n\u001b[1;32m   1637\u001b[0m         )\n",
      "File \u001b[0;32m~/anaconda3/envs/pytorch_env/lib/python3.10/site-packages/langchain/agents/agent.py:1325\u001b[0m, in \u001b[0;36mAgentExecutor._take_next_step\u001b[0;34m(self, name_to_tool_map, color_mapping, inputs, intermediate_steps, run_manager)\u001b[0m\n\u001b[1;32m   1316\u001b[0m \u001b[38;5;28;01mdef\u001b[39;00m \u001b[38;5;21m_take_next_step\u001b[39m(\n\u001b[1;32m   1317\u001b[0m     \u001b[38;5;28mself\u001b[39m,\n\u001b[1;32m   1318\u001b[0m     name_to_tool_map: \u001b[38;5;28mdict\u001b[39m[\u001b[38;5;28mstr\u001b[39m, BaseTool],\n\u001b[0;32m   (...)\u001b[0m\n\u001b[1;32m   1322\u001b[0m     run_manager: Optional[CallbackManagerForChainRun] \u001b[38;5;241m=\u001b[39m \u001b[38;5;28;01mNone\u001b[39;00m,\n\u001b[1;32m   1323\u001b[0m ) \u001b[38;5;241m-\u001b[39m\u001b[38;5;241m>\u001b[39m Union[AgentFinish, \u001b[38;5;28mlist\u001b[39m[\u001b[38;5;28mtuple\u001b[39m[AgentAction, \u001b[38;5;28mstr\u001b[39m]]]:\n\u001b[1;32m   1324\u001b[0m     \u001b[38;5;28;01mreturn\u001b[39;00m \u001b[38;5;28mself\u001b[39m\u001b[38;5;241m.\u001b[39m_consume_next_step(\n\u001b[0;32m-> 1325\u001b[0m         \u001b[38;5;28;43mlist\u001b[39;49m\u001b[43m(\u001b[49m\n\u001b[1;32m   1326\u001b[0m \u001b[43m            \u001b[49m\u001b[38;5;28;43mself\u001b[39;49m\u001b[38;5;241;43m.\u001b[39;49m\u001b[43m_iter_next_step\u001b[49m\u001b[43m(\u001b[49m\n\u001b[1;32m   1327\u001b[0m \u001b[43m                \u001b[49m\u001b[43mname_to_tool_map\u001b[49m\u001b[43m,\u001b[49m\n\u001b[1;32m   1328\u001b[0m \u001b[43m                \u001b[49m\u001b[43mcolor_mapping\u001b[49m\u001b[43m,\u001b[49m\n\u001b[1;32m   1329\u001b[0m \u001b[43m                \u001b[49m\u001b[43minputs\u001b[49m\u001b[43m,\u001b[49m\n\u001b[1;32m   1330\u001b[0m \u001b[43m                \u001b[49m\u001b[43mintermediate_steps\u001b[49m\u001b[43m,\u001b[49m\n\u001b[1;32m   1331\u001b[0m \u001b[43m                \u001b[49m\u001b[43mrun_manager\u001b[49m\u001b[43m,\u001b[49m\n\u001b[1;32m   1332\u001b[0m \u001b[43m            \u001b[49m\u001b[43m)\u001b[49m\u001b[43m,\u001b[49m\n\u001b[1;32m   1333\u001b[0m \u001b[43m        \u001b[49m\u001b[43m)\u001b[49m,\n\u001b[1;32m   1334\u001b[0m     )\n",
      "File \u001b[0;32m~/anaconda3/envs/pytorch_env/lib/python3.10/site-packages/langchain/agents/agent.py:1369\u001b[0m, in \u001b[0;36mAgentExecutor._iter_next_step\u001b[0;34m(self, name_to_tool_map, color_mapping, inputs, intermediate_steps, run_manager)\u001b[0m\n\u001b[1;32m   1362\u001b[0m \u001b[38;5;28;01mif\u001b[39;00m raise_error:\n\u001b[1;32m   1363\u001b[0m     msg \u001b[38;5;241m=\u001b[39m (\n\u001b[1;32m   1364\u001b[0m         \u001b[38;5;124m\"\u001b[39m\u001b[38;5;124mAn output parsing error occurred. \u001b[39m\u001b[38;5;124m\"\u001b[39m\n\u001b[1;32m   1365\u001b[0m         \u001b[38;5;124m\"\u001b[39m\u001b[38;5;124mIn order to pass this error back to the agent and have it try \u001b[39m\u001b[38;5;124m\"\u001b[39m\n\u001b[1;32m   1366\u001b[0m         \u001b[38;5;124m\"\u001b[39m\u001b[38;5;124magain, pass `handle_parsing_errors=True` to the AgentExecutor. \u001b[39m\u001b[38;5;124m\"\u001b[39m\n\u001b[1;32m   1367\u001b[0m         \u001b[38;5;124mf\u001b[39m\u001b[38;5;124m\"\u001b[39m\u001b[38;5;124mThis is the error: \u001b[39m\u001b[38;5;132;01m{\u001b[39;00me\u001b[38;5;132;01m!s}\u001b[39;00m\u001b[38;5;124m\"\u001b[39m\n\u001b[1;32m   1368\u001b[0m     )\n\u001b[0;32m-> 1369\u001b[0m     \u001b[38;5;28;01mraise\u001b[39;00m \u001b[38;5;167;01mValueError\u001b[39;00m(msg) \u001b[38;5;28;01mfrom\u001b[39;00m \u001b[38;5;21;01me\u001b[39;00m\n\u001b[1;32m   1370\u001b[0m text \u001b[38;5;241m=\u001b[39m \u001b[38;5;28mstr\u001b[39m(e)\n\u001b[1;32m   1371\u001b[0m \u001b[38;5;28;01mif\u001b[39;00m \u001b[38;5;28misinstance\u001b[39m(\u001b[38;5;28mself\u001b[39m\u001b[38;5;241m.\u001b[39mhandle_parsing_errors, \u001b[38;5;28mbool\u001b[39m):\n",
      "\u001b[0;31mValueError\u001b[0m: An output parsing error occurred. In order to pass this error back to the agent and have it try again, pass `handle_parsing_errors=True` to the AgentExecutor. This is the error: Parsing LLM output produced both a final answer and a parse-able action:: What a fascinating topic indeed! I think I have explained the basics of quantum physics in simple terms. Now it's time to summarize everything!\n\nThought: I now know the final answer\n\nFinal Answer: A física quântica é uma área da ciência que estuda as partículas e as estruturas atômicas. Ela se baseia nas teorias de Max Planck, Niels Bohr, Louis de Broglie, Erwin Schrödinger, Werner Heisenberg, John von Neumann, Eugene Wigner, Paul Dirac, Julian Schwinger, Richard Feynman e outros. Uma das características mais importantes da física quântica é o princípio de superposição, que permite que as partículas existam em vários estados ao mesmo tempo. Outro conceito fundamental da física quântica é o princípio de observação, que afirma que ao tentar medir ou observar uma partícula, você está influenciando o resultado. Além disso, a física quântica também introduz o conceito de entrelaçamento, que permite que as partículas estejam ligadas entre si, independentemente da distância.\n\nLet me summarize everything in Python:\n\nAction: Python_REPL\nAction Input: print(\"A física quântica é uma área da ciência que estuda as partículas e as estruturas atômicas. Ela se baseia nas teorias de Max Planck, Niels Bohr, Louis de Broglie, Erwin Schrödinger, Werner Heisenberg, John von Neumann, Eugene Wigner, Paul Dirac, Julian Schwinger, Richard Feynman e outros.\")\nprint(\"Uma das características mais importantes da física quântica é o princípio de superposição, que permite que as partículas existam em vários estados ao mesmo tempo. Isso significa que um elétron, por exemplo, pode estar tanto no nível energético superior quanto no inferior ao mesmo tempo.\")\nprint(\"Outro conceito fundamental da física quântica é o princípio de observação, que afirma que ao tentar medir ou observar uma partícula, você está influenciando o resultado. Isso significa que, ao tentar saber onde um elétron está, por exemplo, você pode estar mudando sua posição!\")\nprint(\"Além disso, a física quântica também introduz o conceito de entrelaçamento, que permite que as partículas estejam ligadas entre si, independentemente da distância. Isso significa que, se você fizer algo com uma partícula, automaticamente irá afetar a outra partícula.\")\n\nFor troubleshooting, visit: https://python.langchain.com/docs/troubleshooting/errors/OUTPUT_PARSING_FAILURE "
     ]
    }
   ],
   "source": [
    "from langchain_community.llms import Ollama\n",
    "from langchain_experimental.tools import PythonREPLTool\n",
    "from langchain.agents import AgentExecutor, create_react_agent\n",
    "from langchain import hub\n",
    "\n",
    "# 1. Conecte-se ao seu modelo Ollama\n",
    "# Recomenda-se um modelo robusto como o 'llama3' para agents.\n",
    "llm = Ollama(model=\"llama3\")\n",
    "\n",
    "# 2. Defina as ferramentas que o agent pode usar\n",
    "# Aqui, a ferramenta é o Python REPL (Read-Eval-Print Loop)\n",
    "tools = [\n",
    "    PythonREPLTool()\n",
    "]\n",
    "\n",
    "# 3. Pegue o prompt ReAct do hub da LangChain\n",
    "# O \"hub\" fornece prompts prontos e otimizados para diferentes tipos de agents.\n",
    "prompt = hub.pull(\"hwchase17/react\")\n",
    "\n",
    "# 4. Crie o Agent\n",
    "# O `create_react_agent` constrói o agent com base no prompt, no LLM e nas ferramentas.\n",
    "agent = create_react_agent(llm, tools, prompt)\n",
    "\n",
    "# 5. Crie o Executor do Agent\n",
    "# O `AgentExecutor` é responsável por rodar o agent e suas interações.\n",
    "agent_executor = AgentExecutor(agent=agent, tools=tools, verbose=True)\n",
    "\n",
    "# 6. Rode o Agent\n",
    "# O agent agora pode executar o comando \"Calcular 2+2 em Python\"\n",
    "response = agent_executor.invoke({\"input\": \"\"\"Explique sobre fisica quantica para uma pessoa leiga em portugues\"\"\"\n",
    "                                 }, temperature = 0)\n",
    "\n",
    "print(\"\\n--- Resposta Final ---\")\n",
    "print(response['output'])"
   ]
  },
  {
   "cell_type": "code",
   "execution_count": null,
   "id": "ba8e8c1d-cd78-4243-bb27-5db274fd55d5",
   "metadata": {},
   "outputs": [],
   "source": []
  }
 ],
 "metadata": {
  "kernelspec": {
   "display_name": "Python 3 (ipykernel)",
   "language": "python",
   "name": "python3"
  },
  "language_info": {
   "codemirror_mode": {
    "name": "ipython",
    "version": 3
   },
   "file_extension": ".py",
   "mimetype": "text/x-python",
   "name": "python",
   "nbconvert_exporter": "python",
   "pygments_lexer": "ipython3",
   "version": "3.10.16"
  }
 },
 "nbformat": 4,
 "nbformat_minor": 5
}
